{
 "cells": [
  {
   "cell_type": "code",
   "execution_count": 43,
   "metadata": {},
   "outputs": [],
   "source": [
    "import numpy as np\n",
    "import random\n",
    "import pandas as pd\n",
    "from matplotlib import pyplot as plt\n",
    "import isbnlib\n",
    "from isbnlib import meta\n",
    "from isbnlib.registry import bibformatters\n",
    "import json"
   ]
  },
  {
   "cell_type": "code",
   "execution_count": 2,
   "metadata": {},
   "outputs": [],
   "source": [
    "data = pd.read_csv('rec-amz-Books.edges', header=None)"
   ]
  },
  {
   "attachments": {},
   "cell_type": "markdown",
   "metadata": {},
   "source": [
    "Histogram recenzii"
   ]
  },
  {
   "cell_type": "code",
   "execution_count": 3,
   "metadata": {},
   "outputs": [
    {
     "data": {
      "image/png": "[encoded data removed]",
      "text/plain": [
       "<Figure size 432x288 with 1 Axes>"
      ]
     },
     "metadata": {
      "needs_background": "light"
     },
     "output_type": "display_data"
    }
   ],
   "source": [
    "plt.hist(data[2], alpha=0.5, bins=[1,2,3,4,5,6])\n",
    "plt.show()"
   ]
  },
  {
   "attachments": {},
   "cell_type": "markdown",
   "metadata": {},
   "source": [
    "Histogram stupna vrcholov knih"
   ]
  },
  {
   "cell_type": "code",
   "execution_count": 4,
   "metadata": {},
   "outputs": [
    {
     "data": {
      "text/plain": [
       "<AxesSubplot:ylabel='Frequency'>"
      ]
     },
     "execution_count": 4,
     "metadata": {},
     "output_type": "execute_result"
    },
    {
     "data": {
      "image/png": "[encoded data removed]",
      "text/plain": [
       "<Figure size 360x360 with 1 Axes>"
      ]
     },
     "metadata": {
      "needs_background": "light"
     },
     "output_type": "display_data"
    }
   ],
   "source": [
    "plt.figure(figsize=(5,5))\n",
    "plt.yscale('log')\n",
    "plt.xscale('log')\n",
    "data[1].value_counts().plot(kind='hist', bins=np.logspace(np.log10(1),np.log10(21398), 20))"
   ]
  },
  {
   "attachments": {},
   "cell_type": "markdown",
   "metadata": {},
   "source": [
    "Histogram stupna vrcholov autorov recenzii"
   ]
  },
  {
   "cell_type": "code",
   "execution_count": 5,
   "metadata": {},
   "outputs": [
    {
     "data": {
      "text/plain": [
       "<AxesSubplot:ylabel='Frequency'>"
      ]
     },
     "execution_count": 5,
     "metadata": {},
     "output_type": "execute_result"
    },
    {
     "data": {
      "image/png": "[encoded data removed]",
      "text/plain": [
       "<Figure size 360x360 with 1 Axes>"
      ]
     },
     "metadata": {
      "needs_background": "light"
     },
     "output_type": "display_data"
    }
   ],
   "source": [
    "plt.figure(figsize=(5,5))\n",
    "plt.yscale('log')\n",
    "plt.xscale('log')\n",
    "data[0].value_counts().plot(kind='hist', bins=np.logspace(np.log10(1),np.log10(43201), 10))"
   ]
  },
  {
   "cell_type": "code",
   "execution_count": 128,
   "metadata": {},
   "outputs": [],
   "source": [
    "def from_ISBN_to_title(column):\n",
    "    new_col = list()\n",
    "    bibtex = bibformatters[\"json\"]\n",
    "    for value in column:\n",
    "            try:\n",
    "                isbn = str(value)\n",
    "                SERVICE = 'openl'\n",
    "                #print(isbn)\n",
    "                new_col.append(json.loads(bibtex(meta(isbn, SERVICE)))['title'])\n",
    "            except AttributeError:\n",
    "                try:\n",
    "                    isbn = str(value)\n",
    "                    SERVICE = 'goob'\n",
    "                    #print(isbn)\n",
    "                    new_col.append(json.loads(bibtex(meta(isbn, SERVICE)))['title'])\n",
    "                except:\n",
    "                    new_col.append('-----------')\n",
    "                    continue\n",
    "            except isbnlib.NotValidISBNError:\n",
    "                new_col.append('-----------')\n",
    "            except:\n",
    "                new_col.append('-----------')\n",
    "    return new_col"
   ]
  },
  {
   "cell_type": "code",
   "execution_count": 50,
   "metadata": {},
   "outputs": [],
   "source": [
    "data_100 = data.groupby(1).filter(lambda x : len(x)>100)  # tie, ktore maju aspon 100 recenzii"
   ]
  },
  {
   "cell_type": "code",
   "execution_count": 138,
   "metadata": {},
   "outputs": [],
   "source": [
    "def get_top_x_reviewed(x, data):\n",
    "    data_x = data.iloc[:x, :]\n",
    "    top_x = data.groupby(1)[2].agg(np.mean).reset_index().sort_values(by=2, ascending=False).head(x)\n",
    "    top_x.loc[:, 'Title']= from_ISBN_to_title(top_x[1])\n",
    "    top_x = top_x.rename(columns={1:\"ISBN\", 2:'Mean of reviews'})\n",
    "    return top_x"
   ]
  },
  {
   "attachments": {},
   "cell_type": "markdown",
   "metadata": {},
   "source": [
    "Top X najlepsie hodnotenych knih"
   ]
  },
  {
   "cell_type": "code",
   "execution_count": 139,
   "metadata": {},
   "outputs": [
    {
     "data": {
      "text/html": [
       "<div>\n",
       "<style scoped>\n",
       "    .dataframe tbody tr th:only-of-type {\n",
       "        vertical-align: middle;\n",
       "    }\n",
       "\n",
       "    .dataframe tbody tr th {\n",
       "        vertical-align: top;\n",
       "    }\n",
       "\n",
       "    .dataframe thead th {\n",
       "        text-align: right;\n",
       "    }\n",
       "</style>\n",
       "<table border=\"1\" class=\"dataframe\">\n",
       "  <thead>\n",
       "    <tr style=\"text-align: right;\">\n",
       "      <th></th>\n",
       "      <th>ISBN</th>\n",
       "      <th>Mean of reviews</th>\n",
       "      <th>Title</th>\n",
       "    </tr>\n",
       "  </thead>\n",
       "  <tbody>\n",
       "    <tr>\n",
       "      <th>14867</th>\n",
       "      <td>0830766316</td>\n",
       "      <td>5.000000</td>\n",
       "      <td>Holding Your Family Together: 5 Simple Steps t...</td>\n",
       "    </tr>\n",
       "    <tr>\n",
       "      <th>16209</th>\n",
       "      <td>0983408904</td>\n",
       "      <td>5.000000</td>\n",
       "      <td>The Little Rose</td>\n",
       "    </tr>\n",
       "    <tr>\n",
       "      <th>15748</th>\n",
       "      <td>0972394648</td>\n",
       "      <td>4.992647</td>\n",
       "      <td>One</td>\n",
       "    </tr>\n",
       "    <tr>\n",
       "      <th>22718</th>\n",
       "      <td>1499390165</td>\n",
       "      <td>4.991803</td>\n",
       "      <td>Lethal bond</td>\n",
       "    </tr>\n",
       "    <tr>\n",
       "      <th>14992</th>\n",
       "      <td>0849381185</td>\n",
       "      <td>4.990566</td>\n",
       "      <td>Forensic Art and Illustration</td>\n",
       "    </tr>\n",
       "    <tr>\n",
       "      <th>12786</th>\n",
       "      <td>0757317723</td>\n",
       "      <td>4.986207</td>\n",
       "      <td>Ricochet - riding a wave of hope with the dog ...</td>\n",
       "    </tr>\n",
       "    <tr>\n",
       "      <th>25647</th>\n",
       "      <td>1939629071</td>\n",
       "      <td>4.983193</td>\n",
       "      <td>Motherhood Realized - An Inspiring Anthology f...</td>\n",
       "    </tr>\n",
       "    <tr>\n",
       "      <th>22715</th>\n",
       "      <td>1499381921</td>\n",
       "      <td>4.982857</td>\n",
       "      <td>Queenie Baby - On Tour</td>\n",
       "    </tr>\n",
       "    <tr>\n",
       "      <th>24662</th>\n",
       "      <td>1616387165</td>\n",
       "      <td>4.981308</td>\n",
       "      <td>Live Before You Die - Wake up to God's Will fo...</td>\n",
       "    </tr>\n",
       "    <tr>\n",
       "      <th>14778</th>\n",
       "      <td>0814416993</td>\n",
       "      <td>4.980769</td>\n",
       "      <td>Harvesting intangible assets - uncover hidden ...</td>\n",
       "    </tr>\n",
       "  </tbody>\n",
       "</table>\n",
       "</div>"
      ],
      "text/plain": [
       "             ISBN  Mean of reviews  \\\n",
       "14867  0830766316         5.000000   \n",
       "16209  0983408904         5.000000   \n",
       "15748  0972394648         4.992647   \n",
       "22718  1499390165         4.991803   \n",
       "14992  0849381185         4.990566   \n",
       "12786  0757317723         4.986207   \n",
       "25647  1939629071         4.983193   \n",
       "22715  1499381921         4.982857   \n",
       "24662  1616387165         4.981308   \n",
       "14778  0814416993         4.980769   \n",
       "\n",
       "                                                   Title  \n",
       "14867  Holding Your Family Together: 5 Simple Steps t...  \n",
       "16209                                    The Little Rose  \n",
       "15748                                                One  \n",
       "22718                                        Lethal bond  \n",
       "14992                      Forensic Art and Illustration  \n",
       "12786  Ricochet - riding a wave of hope with the dog ...  \n",
       "25647  Motherhood Realized - An Inspiring Anthology f...  \n",
       "22715                             Queenie Baby - On Tour  \n",
       "24662  Live Before You Die - Wake up to God's Will fo...  \n",
       "14778  Harvesting intangible assets - uncover hidden ...  "
      ]
     },
     "execution_count": 139,
     "metadata": {},
     "output_type": "execute_result"
    }
   ],
   "source": [
    "get_top_x_reviewed(10, data_100)"
   ]
  },
  {
   "cell_type": "code",
   "execution_count": 140,
   "metadata": {},
   "outputs": [],
   "source": [
    "def get_top_x_number_reviews(x, data):\n",
    "    data_x = data[1].value_counts().head(x).reset_index()\n",
    "    data_x.loc[:, 'Title']= from_ISBN_to_title(data_x['index'])\n",
    "    data_x = data_x.rename(columns={1:\"Number of reviews\", 'index':'ISBN'})\n",
    "    return data_x"
   ]
  },
  {
   "cell_type": "code",
   "execution_count": 141,
   "metadata": {},
   "outputs": [
    {
     "data": {
      "text/html": [
       "<div>\n",
       "<style scoped>\n",
       "    .dataframe tbody tr th:only-of-type {\n",
       "        vertical-align: middle;\n",
       "    }\n",
       "\n",
       "    .dataframe tbody tr th {\n",
       "        vertical-align: top;\n",
       "    }\n",
       "\n",
       "    .dataframe thead th {\n",
       "        text-align: right;\n",
       "    }\n",
       "</style>\n",
       "<table border=\"1\" class=\"dataframe\">\n",
       "  <thead>\n",
       "    <tr style=\"text-align: right;\">\n",
       "      <th></th>\n",
       "      <th>ISBN</th>\n",
       "      <th>Number of reviews</th>\n",
       "      <th>Title</th>\n",
       "    </tr>\n",
       "  </thead>\n",
       "  <tbody>\n",
       "    <tr>\n",
       "      <th>0</th>\n",
       "      <td>0439023483</td>\n",
       "      <td>21398</td>\n",
       "      <td>The Hunger Games</td>\n",
       "    </tr>\n",
       "    <tr>\n",
       "      <th>1</th>\n",
       "      <td>030758836X</td>\n",
       "      <td>19867</td>\n",
       "      <td>Gone Girl</td>\n",
       "    </tr>\n",
       "    <tr>\n",
       "      <th>2</th>\n",
       "      <td>0439023513</td>\n",
       "      <td>14114</td>\n",
       "      <td>Mockingjay</td>\n",
       "    </tr>\n",
       "    <tr>\n",
       "      <th>3</th>\n",
       "      <td>0385537859</td>\n",
       "      <td>12973</td>\n",
       "      <td>Inferno</td>\n",
       "    </tr>\n",
       "    <tr>\n",
       "      <th>4</th>\n",
       "      <td>0007444117</td>\n",
       "      <td>12629</td>\n",
       "      <td>Allegiant</td>\n",
       "    </tr>\n",
       "    <tr>\n",
       "      <th>5</th>\n",
       "      <td>0375831002</td>\n",
       "      <td>12571</td>\n",
       "      <td>The Book Thief</td>\n",
       "    </tr>\n",
       "    <tr>\n",
       "      <th>6</th>\n",
       "      <td>038536315X</td>\n",
       "      <td>12564</td>\n",
       "      <td>Sycamore row</td>\n",
       "    </tr>\n",
       "    <tr>\n",
       "      <th>7</th>\n",
       "      <td>0345803485</td>\n",
       "      <td>12290</td>\n",
       "      <td>Fifty Shades of Grey</td>\n",
       "    </tr>\n",
       "    <tr>\n",
       "      <th>8</th>\n",
       "      <td>0316055433</td>\n",
       "      <td>11746</td>\n",
       "      <td>The Goldfinch</td>\n",
       "    </tr>\n",
       "    <tr>\n",
       "      <th>9</th>\n",
       "      <td>0849922070</td>\n",
       "      <td>10424</td>\n",
       "      <td>Heaven is For Real Movie Edition</td>\n",
       "    </tr>\n",
       "    <tr>\n",
       "      <th>10</th>\n",
       "      <td>0007442920</td>\n",
       "      <td>10172</td>\n",
       "      <td>Insurgent</td>\n",
       "    </tr>\n",
       "    <tr>\n",
       "      <th>11</th>\n",
       "      <td>0345803493</td>\n",
       "      <td>9980</td>\n",
       "      <td>Fifty shades darker</td>\n",
       "    </tr>\n",
       "    <tr>\n",
       "      <th>12</th>\n",
       "      <td>0399159347</td>\n",
       "      <td>9906</td>\n",
       "      <td>The Husband's Secret</td>\n",
       "    </tr>\n",
       "    <tr>\n",
       "      <th>13</th>\n",
       "      <td>0345803507</td>\n",
       "      <td>9610</td>\n",
       "      <td>Fifty shades freed</td>\n",
       "    </tr>\n",
       "    <tr>\n",
       "      <th>14</th>\n",
       "      <td>0007386648</td>\n",
       "      <td>9062</td>\n",
       "      <td>Unbroken: an extraordinary true story of coura...</td>\n",
       "    </tr>\n",
       "    <tr>\n",
       "      <th>15</th>\n",
       "      <td>1469984202</td>\n",
       "      <td>8280</td>\n",
       "      <td>Wool omnibus</td>\n",
       "    </tr>\n",
       "    <tr>\n",
       "      <th>16</th>\n",
       "      <td>0606238409</td>\n",
       "      <td>8106</td>\n",
       "      <td>-----------</td>\n",
       "    </tr>\n",
       "    <tr>\n",
       "      <th>17</th>\n",
       "      <td>0316044695</td>\n",
       "      <td>7986</td>\n",
       "      <td>Lone survivor - the eyewitness account of Oper...</td>\n",
       "    </tr>\n",
       "    <tr>\n",
       "      <th>18</th>\n",
       "      <td>0141039280</td>\n",
       "      <td>7905</td>\n",
       "      <td>The help</td>\n",
       "    </tr>\n",
       "    <tr>\n",
       "      <th>19</th>\n",
       "      <td>0545265355</td>\n",
       "      <td>7786</td>\n",
       "      <td>Hunger Games Trilogy Boxed Set</td>\n",
       "    </tr>\n",
       "  </tbody>\n",
       "</table>\n",
       "</div>"
      ],
      "text/plain": [
       "          ISBN  Number of reviews  \\\n",
       "0   0439023483              21398   \n",
       "1   030758836X              19867   \n",
       "2   0439023513              14114   \n",
       "3   0385537859              12973   \n",
       "4   0007444117              12629   \n",
       "5   0375831002              12571   \n",
       "6   038536315X              12564   \n",
       "7   0345803485              12290   \n",
       "8   0316055433              11746   \n",
       "9   0849922070              10424   \n",
       "10  0007442920              10172   \n",
       "11  0345803493               9980   \n",
       "12  0399159347               9906   \n",
       "13  0345803507               9610   \n",
       "14  0007386648               9062   \n",
       "15  1469984202               8280   \n",
       "16  0606238409               8106   \n",
       "17  0316044695               7986   \n",
       "18  0141039280               7905   \n",
       "19  0545265355               7786   \n",
       "\n",
       "                                                Title  \n",
       "0                                    The Hunger Games  \n",
       "1                                           Gone Girl  \n",
       "2                                          Mockingjay  \n",
       "3                                             Inferno  \n",
       "4                                           Allegiant  \n",
       "5                                      The Book Thief  \n",
       "6                                        Sycamore row  \n",
       "7                                Fifty Shades of Grey  \n",
       "8                                       The Goldfinch  \n",
       "9                    Heaven is For Real Movie Edition  \n",
       "10                                          Insurgent  \n",
       "11                                Fifty shades darker  \n",
       "12                               The Husband's Secret  \n",
       "13                                 Fifty shades freed  \n",
       "14  Unbroken: an extraordinary true story of coura...  \n",
       "15                                       Wool omnibus  \n",
       "16                                        -----------  \n",
       "17  Lone survivor - the eyewitness account of Oper...  \n",
       "18                                           The help  \n",
       "19                     Hunger Games Trilogy Boxed Set  "
      ]
     },
     "execution_count": 141,
     "metadata": {},
     "output_type": "execute_result"
    }
   ],
   "source": [
    "get_top_x_number_reviews(20, data)"
   ]
  }
 ],
 "metadata": {
  "kernelspec": {
   "display_name": "Python 3",
   "language": "python",
   "name": "python3"
  },
  "language_info": {
   "codemirror_mode": {
    "name": "ipython",
    "version": 3
   },
   "file_extension": ".py",
   "mimetype": "text/x-python",
   "name": "python",
   "nbconvert_exporter": "python",
   "pygments_lexer": "ipython3",
   "version": "3.10.0"
  },
  "orig_nbformat": 4
 },
 "nbformat": 4,
 "nbformat_minor": 2
}
