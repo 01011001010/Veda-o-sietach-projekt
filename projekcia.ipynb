{
 "cells": [
  {
   "cell_type": "code",
   "execution_count": 31,
   "metadata": {
    "collapsed": true,
    "pycharm": {
     "name": "#%%\n"
    }
   },
   "outputs": [],
   "source": [
    "import pandas as pd\n",
    "import networkx as nx\n",
    "from networkx.algorithms import community\n",
    "from networkx.algorithms import bipartite\n",
    "import matplotlib.pyplot as plt\n",
    "import time\n",
    "from operator import itemgetter"
   ]
  },
  {
   "cell_type": "code",
   "execution_count": 2,
   "outputs": [],
   "source": [
    "data = pd.read_csv('data/rec-amz-Books.edges', header=None)"
   ],
   "metadata": {
    "collapsed": false,
    "pycharm": {
     "name": "#%%\n"
    }
   }
  },
  {
   "cell_type": "code",
   "execution_count": 3,
   "outputs": [
    {
     "data": {
      "text/plain": "                       0           1    2           3\n0          AH2L9G3DQHHAJ  0000000116  4.0  1019865600\n1         A2IIIDRK3PRRZY  0000000116  1.0  1395619200\n2         A1TADCM7YWPQ8M  0000000868  4.0  1031702400\n3          AWGH7V0BDOJKB  0000013714  4.0  1383177600\n4         A3UTQPQPM4TQO0  0000013714  5.0  1374883200\n...                  ...         ...  ...         ...\n22507150  A20KO0BPMNREJL  B00M13FNSS  5.0  1406073600\n22507151  A1BQO66R6OLCCW  B00M13FNSS  5.0  1406073600\n22507152  A1CI87FHKK6HVC  B00M13FNSS  5.0  1406073600\n22507153   A8W4BR3HGGS3C  B00M13FNSS  5.0  1406073600\n22507154  A2NRGE3CSFY2TQ  B00M13FNSS  5.0  1406073600\n\n[22507155 rows x 4 columns]",
      "text/html": "<div>\n<style scoped>\n    .dataframe tbody tr th:only-of-type {\n        vertical-align: middle;\n    }\n\n    .dataframe tbody tr th {\n        vertical-align: top;\n    }\n\n    .dataframe thead th {\n        text-align: right;\n    }\n</style>\n<table border=\"1\" class=\"dataframe\">\n  <thead>\n    <tr style=\"text-align: right;\">\n      <th></th>\n      <th>0</th>\n      <th>1</th>\n      <th>2</th>\n      <th>3</th>\n    </tr>\n  </thead>\n  <tbody>\n    <tr>\n      <th>0</th>\n      <td>AH2L9G3DQHHAJ</td>\n      <td>0000000116</td>\n      <td>4.0</td>\n      <td>1019865600</td>\n    </tr>\n    <tr>\n      <th>1</th>\n      <td>A2IIIDRK3PRRZY</td>\n      <td>0000000116</td>\n      <td>1.0</td>\n      <td>1395619200</td>\n    </tr>\n    <tr>\n      <th>2</th>\n      <td>A1TADCM7YWPQ8M</td>\n      <td>0000000868</td>\n      <td>4.0</td>\n      <td>1031702400</td>\n    </tr>\n    <tr>\n      <th>3</th>\n      <td>AWGH7V0BDOJKB</td>\n      <td>0000013714</td>\n      <td>4.0</td>\n      <td>1383177600</td>\n    </tr>\n    <tr>\n      <th>4</th>\n      <td>A3UTQPQPM4TQO0</td>\n      <td>0000013714</td>\n      <td>5.0</td>\n      <td>1374883200</td>\n    </tr>\n    <tr>\n      <th>...</th>\n      <td>...</td>\n      <td>...</td>\n      <td>...</td>\n      <td>...</td>\n    </tr>\n    <tr>\n      <th>22507150</th>\n      <td>A20KO0BPMNREJL</td>\n      <td>B00M13FNSS</td>\n      <td>5.0</td>\n      <td>1406073600</td>\n    </tr>\n    <tr>\n      <th>22507151</th>\n      <td>A1BQO66R6OLCCW</td>\n      <td>B00M13FNSS</td>\n      <td>5.0</td>\n      <td>1406073600</td>\n    </tr>\n    <tr>\n      <th>22507152</th>\n      <td>A1CI87FHKK6HVC</td>\n      <td>B00M13FNSS</td>\n      <td>5.0</td>\n      <td>1406073600</td>\n    </tr>\n    <tr>\n      <th>22507153</th>\n      <td>A8W4BR3HGGS3C</td>\n      <td>B00M13FNSS</td>\n      <td>5.0</td>\n      <td>1406073600</td>\n    </tr>\n    <tr>\n      <th>22507154</th>\n      <td>A2NRGE3CSFY2TQ</td>\n      <td>B00M13FNSS</td>\n      <td>5.0</td>\n      <td>1406073600</td>\n    </tr>\n  </tbody>\n</table>\n<p>22507155 rows × 4 columns</p>\n</div>"
     },
     "execution_count": 3,
     "metadata": {},
     "output_type": "execute_result"
    }
   ],
   "source": [
    "data"
   ],
   "metadata": {
    "collapsed": false,
    "pycharm": {
     "name": "#%%\n"
    }
   }
  },
  {
   "cell_type": "markdown",
   "source": [],
   "metadata": {
    "collapsed": false,
    "pycharm": {
     "name": "#%% md\n"
    }
   }
  },
  {
   "cell_type": "code",
   "execution_count": 4,
   "outputs": [],
   "source": [
    "#prvych n riadkov....\n",
    "n = 20000\n",
    "data_sample = data.iloc[:n,0:3]\n",
    "B = nx.Graph()\n",
    "B.add_nodes_from(data_sample[0], bipartite=0)\n",
    "B.add_nodes_from(data_sample[1],bipartite=1)\n",
    "B.add_weighted_edges_from(data_sample.apply(tuple, axis=1))"
   ],
   "metadata": {
    "collapsed": false,
    "pycharm": {
     "name": "#%%\n"
    }
   }
  },
  {
   "cell_type": "code",
   "execution_count": 5,
   "outputs": [
    {
     "data": {
      "text/plain": "True"
     },
     "execution_count": 5,
     "metadata": {},
     "output_type": "execute_result"
    }
   ],
   "source": [
    "bipartite.is_bipartite(B)"
   ],
   "metadata": {
    "collapsed": false,
    "pycharm": {
     "name": "#%%\n"
    }
   }
  },
  {
   "cell_type": "code",
   "execution_count": null,
   "outputs": [],
   "source": [
    "#nx.draw(B, nx.bipartite_layout(B, data_sample[0]))"
   ],
   "metadata": {
    "collapsed": false,
    "pycharm": {
     "name": "#%%\n",
     "is_executing": true
    }
   }
  },
  {
   "cell_type": "code",
   "execution_count": 6,
   "outputs": [],
   "source": [
    "#z bipartitneho vytvorime 2 projekcie\n",
    "G_rec = bipartite.projected_graph(B, data_sample[0])\n",
    "G_knihy = bipartite.projected_graph(B, data_sample[1])"
   ],
   "metadata": {
    "collapsed": false,
    "pycharm": {
     "name": "#%%\n"
    }
   }
  },
  {
   "cell_type": "code",
   "execution_count": 7,
   "outputs": [
    {
     "name": "stdout",
     "output_type": "stream",
     "text": [
      "hustota recenzentov: 0.21269450433030873\n",
      "hustota knih: 0.0014285348931521663\n"
     ]
    }
   ],
   "source": [
    "#kompletnost grafu, hustota\n",
    "print(\"hustota recenzentov:\", nx.density(G_rec))\n",
    "print(\"hustota knih:\", nx.density(G_knihy))"
   ],
   "metadata": {
    "collapsed": false,
    "pycharm": {
     "name": "#%%\n"
    }
   }
  },
  {
   "cell_type": "code",
   "execution_count": 16,
   "outputs": [
    {
     "data": {
      "text/plain": "1         \n0002247399    6473\n0002007770    6001\n0002242052     563\n000100039X     536\n0002051850     426\n000224053X     404\n0002219417     291\n000612609X     184\n0002185385     184\n000616823X     121\nName: count, dtype: int64"
     },
     "execution_count": 16,
     "metadata": {},
     "output_type": "execute_result"
    }
   ],
   "source": [
    "#najrecenzovanejšie knihy z prvých 20 tisic recenzií\n",
    "data.iloc[:n,1:2].value_counts().head(10)"
   ],
   "metadata": {
    "collapsed": false,
    "pycharm": {
     "name": "#%%\n"
    }
   }
  },
  {
   "cell_type": "markdown",
   "source": [
    "Aka je najkratšia cesta medzi 2ma vrcholmi?\n",
    "Treba vymyslieť otázku aké 2 knihy by nás zaujímali, lebo väčšina populárnych kníh sú automaticky susedmi"
   ],
   "metadata": {
    "collapsed": false,
    "pycharm": {
     "name": "#%% md\n"
    }
   }
  },
  {
   "cell_type": "code",
   "execution_count": 17,
   "outputs": [
    {
     "name": "stdout",
     "output_type": "stream",
     "text": [
      "Shortest path: ['0002247399', '0002007770']\n"
     ]
    }
   ],
   "source": [
    "path1 = nx.shortest_path(G_knihy, source=\"0002247399\", target=\"0002007770\")\n",
    "print(\"Shortest path:\", path1)"
   ],
   "metadata": {
    "collapsed": false,
    "pycharm": {
     "name": "#%%\n"
    }
   }
  },
  {
   "cell_type": "markdown",
   "source": [],
   "metadata": {
    "collapsed": false,
    "pycharm": {
     "name": "#%% md\n"
    }
   }
  },
  {
   "cell_type": "code",
   "execution_count": 19,
   "outputs": [
    {
     "name": "stdout",
     "output_type": "stream",
     "text": [
      "je bipartitný graf, pôvodný graf, 1 komponent? : False\n",
      "------------\n",
      "je graf recenzorov 1 komponent? :  False\n",
      "je graf kníh 1 komponent? :  False\n"
     ]
    }
   ],
   "source": [
    "#je graf jeden komponent?\n",
    "print(\"je bipartitný graf, pôvodný graf, 1 komponent? :\",  nx.is_connected(B))\n",
    "print(\"------------\")\n",
    "print(\"je graf recenzorov 1 komponent? : \",  nx.is_connected(G_rec))\n",
    "print(\"je graf kníh 1 komponent? : \",  nx.is_connected(G_knihy))"
   ],
   "metadata": {
    "collapsed": false,
    "pycharm": {
     "name": "#%%\n"
    }
   }
  },
  {
   "cell_type": "code",
   "execution_count": 24,
   "outputs": [
    {
     "name": "stdout",
     "output_type": "stream",
     "text": [
      "diameter najvacsieho komponentu knih: 11\n"
     ]
    }
   ],
   "source": [
    "komponenty_knih = nx.connected_components(G_knihy)\n",
    "najvacsi_kom_knih = max(komponenty_knih, key=len)\n",
    "G_knihy_najvacsi_kom = G_knihy.subgraph(najvacsi_kom_knih)\n",
    "print(\"diameter najvacsieho komponentu knih:\", nx.diameter(G_knihy_najvacsi_kom))\n",
    "\n",
    "#trva dlhsie\n",
    "#komponenty_rec = nx.connected_components(G_rec)\n",
    "#najvacsi_kom_rec = max(komponenty_rec, key=len)\n",
    "#G_rec_najvacsi_kom = G_rec.subgraph(najvacsi_kom_rec)\n",
    "#print(\"diameter najvacsieho komponentu recenzentov:\", nx.diameter(G_rec_najvacsi_kom))"
   ],
   "metadata": {
    "collapsed": false,
    "pycharm": {
     "name": "#%%\n"
    }
   }
  },
  {
   "cell_type": "code",
   "execution_count": 26,
   "outputs": [
    {
     "name": "stdout",
     "output_type": "stream",
     "text": [
      "zhlukovy koeficient knih: 0.6057656995960338\n"
     ]
    }
   ],
   "source": [
    "#zhlukovy koeficient, triadic closure, clustering coefficient\n",
    "\n",
    "print(\"zhlukovy koeficient knih:\", nx.transitivity(G_knihy))\n",
    "\n",
    "#trva dlho\n",
    "#print(\"zhlukovy koeficient recenzentov:\", nx.transitivity(G_rec))"
   ],
   "metadata": {
    "collapsed": false,
    "pycharm": {
     "name": "#%%\n"
    }
   }
  },
  {
   "cell_type": "markdown",
   "source": [
    "Na prednáške sme brali tieto typy centralít:\n",
    "eigenvector, katz, pagerank, closeness, betweenness\n",
    "\n",
    "Networkx ponúka okrem tých vyššie ešte aj:\n",
    "degree, hubs and authorities, prestige\n",
    "\n",
    "Zatiaľ som spravila:\n",
    "degree, betweenness, eigenvectors"
   ],
   "metadata": {
    "collapsed": false,
    "pycharm": {
     "name": "#%% md\n"
    }
   }
  },
  {
   "cell_type": "code",
   "execution_count": 39,
   "outputs": [
    {
     "name": "stdout",
     "output_type": "stream",
     "text": [
      "[('0002007770', 48), ('0002051850', 43), ('000224053X', 38), ('0006158048', 34), ('0002726874', 30), ('0006161413', 29), ('000215725X', 28), ('0002247399', 28), ('000616174X', 26), ('000615591X', 25), ('0002318075', 22), ('0006128149', 22), ('0006129226', 22), ('0006130801', 22), ('0006131247', 22)]\n"
     ]
    }
   ],
   "source": [
    "#1. typ centrality - degree\n",
    "stupne_knih = dict(G_knihy.degree(G_knihy.nodes()))\n",
    "nx.set_node_attributes(G_knihy, stupne_knih, 'degree')\n",
    "sorted_stupne_knih = sorted(stupne_knih.items(), key=itemgetter(1), reverse=True)\n",
    "print(sorted_stupne_knih[:15])"
   ],
   "metadata": {
    "collapsed": false,
    "pycharm": {
     "name": "#%%\n"
    }
   }
  },
  {
   "cell_type": "markdown",
   "source": [],
   "metadata": {
    "collapsed": false,
    "pycharm": {
     "name": "#%% md\n"
    }
   }
  },
  {
   "cell_type": "code",
   "execution_count": 40,
   "outputs": [
    {
     "name": "stdout",
     "output_type": "stream",
     "text": [
      "[('000215725X', 0.21177717414624841), ('0006128149', 0.20818724687699627), ('0006129226', 0.20818724687699627), ('0006130801', 0.20818724687699627), ('0006131247', 0.20818724687699627), ('0006131255', 0.20818724687699627), ('0006132480', 0.20818724687699627), ('0006132499', 0.20818724687699627), ('0006136230', 0.20818724687699627), ('0006136966', 0.20818724687699627), ('0006137008', 0.20818724687699627), ('0006139264', 0.20818724687699627), ('0006140904', 0.20818724687699627), ('0006149006', 0.20818724687699627), ('0006154042', 0.20818724687699627)]\n"
     ]
    }
   ],
   "source": [
    "#2.typ centrality - betweenness\n",
    "eigenvector_knihy = nx.eigenvector_centrality(G_knihy)\n",
    "sorted_eigenvector_knihy = sorted(eigenvector_knihy.items(), key=itemgetter(1), reverse=True)\n",
    "print(sorted_eigenvector_knihy[:15])"
   ],
   "metadata": {
    "collapsed": false,
    "pycharm": {
     "name": "#%%\n"
    }
   }
  },
  {
   "cell_type": "code",
   "execution_count": 42,
   "outputs": [
    {
     "name": "stdout",
     "output_type": "stream",
     "text": [
      "[('0002007770', 0.011294441911703245), ('0002247399', 0.008553425494466783), ('0002051850', 0.007035187806048585), ('000215725X', 0.007015526298763531), ('000224053X', 0.006049995453090212), ('0002550296', 0.005621218774395004), ('0002726874', 0.004330338039682277), ('000215949X', 0.003861119242779079), ('000615591X', 0.003855195003331867), ('000222383X', 0.0037036797147610785), ('000100039X', 0.002992049813064985), ('0002152134', 0.002898126463700234), ('0006171044', 0.0024346220980866573), ('000612609X', 0.0023190300476222544), ('0002154463', 0.0022894711163153787)]\n"
     ]
    }
   ],
   "source": [
    "#3.  typ centrality - eigenvector\n",
    "betweenness_knihy = nx.betweenness_centrality(G_knihy)\n",
    "sorted_betweenness_knihy = sorted(betweenness_knihy.items(), key=itemgetter(1), reverse=True)\n",
    "print(sorted_betweenness_knihy[:15])"
   ],
   "metadata": {
    "collapsed": false,
    "pycharm": {
     "name": "#%%\n"
    }
   }
  },
  {
   "cell_type": "code",
   "execution_count": null,
   "outputs": [],
   "source": [],
   "metadata": {
    "collapsed": false,
    "pycharm": {
     "name": "#%%\n"
    }
   }
  }
 ],
 "metadata": {
  "kernelspec": {
   "display_name": "Python 3",
   "language": "python",
   "name": "python3"
  },
  "language_info": {
   "codemirror_mode": {
    "name": "ipython",
    "version": 2
   },
   "file_extension": ".py",
   "mimetype": "text/x-python",
   "name": "python",
   "nbconvert_exporter": "python",
   "pygments_lexer": "ipython2",
   "version": "2.7.6"
  }
 },
 "nbformat": 4,
 "nbformat_minor": 0
}