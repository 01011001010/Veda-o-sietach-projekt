{
 "cells": [
  {
   "cell_type": "code",
   "execution_count": 1,
   "metadata": {
    "collapsed": true,
    "pycharm": {
     "name": "#%%\n"
    }
   },
   "outputs": [],
   "source": [
    "import pandas as pd\n",
    "import networkx as nx\n",
    "from networkx.algorithms import community\n",
    "from networkx.algorithms import bipartite\n",
    "import matplotlib.pyplot as plt\n",
    "import time\n",
    "from operator import itemgetter"
   ]
  },
  {
   "cell_type": "code",
   "execution_count": 4,
   "metadata": {
    "collapsed": false,
    "pycharm": {
     "name": "#%%\n"
    }
   },
   "outputs": [],
   "source": [
    "data = pd.read_csv('rec-amz-Books.edges', header=None)"
   ]
  },
  {
   "cell_type": "code",
   "execution_count": 6,
   "metadata": {
    "collapsed": false,
    "pycharm": {
     "name": "#%%\n"
    }
   },
   "outputs": [
    {
     "data": {
      "text/html": [
       "<div>\n",
       "<style scoped>\n",
       "    .dataframe tbody tr th:only-of-type {\n",
       "        vertical-align: middle;\n",
       "    }\n",
       "\n",
       "    .dataframe tbody tr th {\n",
       "        vertical-align: top;\n",
       "    }\n",
       "\n",
       "    .dataframe thead th {\n",
       "        text-align: right;\n",
       "    }\n",
       "</style>\n",
       "<table border=\"1\" class=\"dataframe\">\n",
       "  <thead>\n",
       "    <tr style=\"text-align: right;\">\n",
       "      <th></th>\n",
       "      <th>0</th>\n",
       "      <th>1</th>\n",
       "      <th>2</th>\n",
       "      <th>3</th>\n",
       "    </tr>\n",
       "  </thead>\n",
       "  <tbody>\n",
       "    <tr>\n",
       "      <th>0</th>\n",
       "      <td>AH2L9G3DQHHAJ</td>\n",
       "      <td>0000000116</td>\n",
       "      <td>4.0</td>\n",
       "      <td>1019865600</td>\n",
       "    </tr>\n",
       "    <tr>\n",
       "      <th>1</th>\n",
       "      <td>A2IIIDRK3PRRZY</td>\n",
       "      <td>0000000116</td>\n",
       "      <td>1.0</td>\n",
       "      <td>1395619200</td>\n",
       "    </tr>\n",
       "    <tr>\n",
       "      <th>2</th>\n",
       "      <td>A1TADCM7YWPQ8M</td>\n",
       "      <td>0000000868</td>\n",
       "      <td>4.0</td>\n",
       "      <td>1031702400</td>\n",
       "    </tr>\n",
       "    <tr>\n",
       "      <th>3</th>\n",
       "      <td>AWGH7V0BDOJKB</td>\n",
       "      <td>0000013714</td>\n",
       "      <td>4.0</td>\n",
       "      <td>1383177600</td>\n",
       "    </tr>\n",
       "    <tr>\n",
       "      <th>4</th>\n",
       "      <td>A3UTQPQPM4TQO0</td>\n",
       "      <td>0000013714</td>\n",
       "      <td>5.0</td>\n",
       "      <td>1374883200</td>\n",
       "    </tr>\n",
       "    <tr>\n",
       "      <th>...</th>\n",
       "      <td>...</td>\n",
       "      <td>...</td>\n",
       "      <td>...</td>\n",
       "      <td>...</td>\n",
       "    </tr>\n",
       "    <tr>\n",
       "      <th>22507150</th>\n",
       "      <td>A20KO0BPMNREJL</td>\n",
       "      <td>B00M13FNSS</td>\n",
       "      <td>5.0</td>\n",
       "      <td>1406073600</td>\n",
       "    </tr>\n",
       "    <tr>\n",
       "      <th>22507151</th>\n",
       "      <td>A1BQO66R6OLCCW</td>\n",
       "      <td>B00M13FNSS</td>\n",
       "      <td>5.0</td>\n",
       "      <td>1406073600</td>\n",
       "    </tr>\n",
       "    <tr>\n",
       "      <th>22507152</th>\n",
       "      <td>A1CI87FHKK6HVC</td>\n",
       "      <td>B00M13FNSS</td>\n",
       "      <td>5.0</td>\n",
       "      <td>1406073600</td>\n",
       "    </tr>\n",
       "    <tr>\n",
       "      <th>22507153</th>\n",
       "      <td>A8W4BR3HGGS3C</td>\n",
       "      <td>B00M13FNSS</td>\n",
       "      <td>5.0</td>\n",
       "      <td>1406073600</td>\n",
       "    </tr>\n",
       "    <tr>\n",
       "      <th>22507154</th>\n",
       "      <td>A2NRGE3CSFY2TQ</td>\n",
       "      <td>B00M13FNSS</td>\n",
       "      <td>5.0</td>\n",
       "      <td>1406073600</td>\n",
       "    </tr>\n",
       "  </tbody>\n",
       "</table>\n",
       "<p>22507155 rows × 4 columns</p>\n",
       "</div>"
      ],
      "text/plain": [
       "                       0           1    2           3\n",
       "0          AH2L9G3DQHHAJ  0000000116  4.0  1019865600\n",
       "1         A2IIIDRK3PRRZY  0000000116  1.0  1395619200\n",
       "2         A1TADCM7YWPQ8M  0000000868  4.0  1031702400\n",
       "3          AWGH7V0BDOJKB  0000013714  4.0  1383177600\n",
       "4         A3UTQPQPM4TQO0  0000013714  5.0  1374883200\n",
       "...                  ...         ...  ...         ...\n",
       "22507150  A20KO0BPMNREJL  B00M13FNSS  5.0  1406073600\n",
       "22507151  A1BQO66R6OLCCW  B00M13FNSS  5.0  1406073600\n",
       "22507152  A1CI87FHKK6HVC  B00M13FNSS  5.0  1406073600\n",
       "22507153   A8W4BR3HGGS3C  B00M13FNSS  5.0  1406073600\n",
       "22507154  A2NRGE3CSFY2TQ  B00M13FNSS  5.0  1406073600\n",
       "\n",
       "[22507155 rows x 4 columns]"
      ]
     },
     "execution_count": 6,
     "metadata": {},
     "output_type": "execute_result"
    }
   ],
   "source": [
    "data"
   ]
  },
  {
   "cell_type": "markdown",
   "metadata": {
    "collapsed": false,
    "pycharm": {
     "name": "#%% md\n"
    }
   },
   "source": []
  },
  {
   "cell_type": "code",
   "execution_count": 3,
   "metadata": {
    "collapsed": false,
    "pycharm": {
     "name": "#%%\n"
    }
   },
   "outputs": [
    {
     "ename": "NameError",
     "evalue": "name 'data' is not defined",
     "output_type": "error",
     "traceback": [
      "\u001b[1;31m---------------------------------------------------------------------------\u001b[0m",
      "\u001b[1;31mNameError\u001b[0m                                 Traceback (most recent call last)",
      "\u001b[1;32m~\\AppData\\Local\\Temp/ipykernel_34996/3333343117.py\u001b[0m in \u001b[0;36m<module>\u001b[1;34m\u001b[0m\n\u001b[0;32m      1\u001b[0m \u001b[1;31m#prvych n riadkov....\u001b[0m\u001b[1;33m\u001b[0m\u001b[1;33m\u001b[0m\u001b[0m\n\u001b[0;32m      2\u001b[0m \u001b[0mn\u001b[0m \u001b[1;33m=\u001b[0m \u001b[1;36m20000\u001b[0m\u001b[1;33m\u001b[0m\u001b[1;33m\u001b[0m\u001b[0m\n\u001b[1;32m----> 3\u001b[1;33m \u001b[0mdata_sample\u001b[0m \u001b[1;33m=\u001b[0m \u001b[0mdata\u001b[0m\u001b[1;33m.\u001b[0m\u001b[0miloc\u001b[0m\u001b[1;33m[\u001b[0m\u001b[1;33m:\u001b[0m\u001b[0mn\u001b[0m\u001b[1;33m,\u001b[0m\u001b[1;36m0\u001b[0m\u001b[1;33m:\u001b[0m\u001b[1;36m3\u001b[0m\u001b[1;33m]\u001b[0m\u001b[1;33m\u001b[0m\u001b[1;33m\u001b[0m\u001b[0m\n\u001b[0m\u001b[0;32m      4\u001b[0m \u001b[0mB\u001b[0m \u001b[1;33m=\u001b[0m \u001b[0mnx\u001b[0m\u001b[1;33m.\u001b[0m\u001b[0mGraph\u001b[0m\u001b[1;33m(\u001b[0m\u001b[1;33m)\u001b[0m\u001b[1;33m\u001b[0m\u001b[1;33m\u001b[0m\u001b[0m\n\u001b[0;32m      5\u001b[0m \u001b[0mB\u001b[0m\u001b[1;33m.\u001b[0m\u001b[0madd_nodes_from\u001b[0m\u001b[1;33m(\u001b[0m\u001b[0mdata_sample\u001b[0m\u001b[1;33m[\u001b[0m\u001b[1;36m0\u001b[0m\u001b[1;33m]\u001b[0m\u001b[1;33m,\u001b[0m \u001b[0mbipartite\u001b[0m\u001b[1;33m=\u001b[0m\u001b[1;36m0\u001b[0m\u001b[1;33m)\u001b[0m\u001b[1;33m\u001b[0m\u001b[1;33m\u001b[0m\u001b[0m\n",
      "\u001b[1;31mNameError\u001b[0m: name 'data' is not defined"
     ]
    }
   ],
   "source": [
    "#prvych n riadkov....\n",
    "n = 20000\n",
    "data_sample = data.iloc[:n,0:3]\n",
    "B = nx.Graph()\n",
    "B.add_nodes_from(data_sample[0], bipartite=0)\n",
    "B.add_nodes_from(data_sample[1],bipartite=1)\n",
    "B.add_weighted_edges_from(data_sample.apply(tuple, axis=1))"
   ]
  },
  {
   "cell_type": "code",
   "execution_count": 8,
   "metadata": {
    "collapsed": false,
    "pycharm": {
     "name": "#%%\n"
    }
   },
   "outputs": [
    {
     "data": {
      "text/plain": [
       "True"
      ]
     },
     "execution_count": 8,
     "metadata": {},
     "output_type": "execute_result"
    }
   ],
   "source": [
    "bipartite.is_bipartite(B)"
   ]
  },
  {
   "cell_type": "code",
   "execution_count": 9,
   "metadata": {
    "collapsed": false,
    "pycharm": {
     "is_executing": true,
     "name": "#%%\n"
    }
   },
   "outputs": [],
   "source": [
    "#nx.draw(B, nx.bipartite_layout(B, data_sample[0]))"
   ]
  },
  {
   "cell_type": "code",
   "execution_count": 10,
   "metadata": {
    "collapsed": false,
    "pycharm": {
     "name": "#%%\n"
    }
   },
   "outputs": [],
   "source": [
    "#z bipartitneho vytvorime 2 projekcie\n",
    "G_rec = bipartite.projected_graph(B, data_sample[0])\n",
    "G_knihy = bipartite.projected_graph(B, data_sample[1])"
   ]
  },
  {
   "cell_type": "code",
   "execution_count": 11,
   "metadata": {
    "collapsed": false,
    "pycharm": {
     "name": "#%%\n"
    }
   },
   "outputs": [
    {
     "name": "stdout",
     "output_type": "stream",
     "text": [
      "hustota recenzentov: 0.21269450433030873\n",
      "hustota knih: 0.0014285348931521663\n"
     ]
    }
   ],
   "source": [
    "#kompletnost grafu, hustota\n",
    "print(\"hustota recenzentov:\", nx.density(G_rec))\n",
    "print(\"hustota knih:\", nx.density(G_knihy))"
   ]
  },
  {
   "cell_type": "code",
   "execution_count": 12,
   "metadata": {
    "collapsed": false,
    "pycharm": {
     "name": "#%%\n"
    }
   },
   "outputs": [
    {
     "data": {
      "text/plain": [
       "1         \n",
       "0002247399    6473\n",
       "0002007770    6001\n",
       "0002242052     563\n",
       "000100039X     536\n",
       "0002051850     426\n",
       "000224053X     404\n",
       "0002219417     291\n",
       "000612609X     184\n",
       "0002185385     184\n",
       "000616823X     121\n",
       "dtype: int64"
      ]
     },
     "execution_count": 12,
     "metadata": {},
     "output_type": "execute_result"
    }
   ],
   "source": [
    "#najrecenzovanejšie knihy z prvých 20 tisic recenzií\n",
    "data.iloc[:n,1:2].value_counts().head(10)"
   ]
  },
  {
   "cell_type": "markdown",
   "metadata": {
    "collapsed": false,
    "pycharm": {
     "name": "#%% md\n"
    }
   },
   "source": [
    "Aka je najkratšia cesta medzi 2ma vrcholmi?\n",
    "Treba vymyslieť otázku aké 2 knihy by nás zaujímali, lebo väčšina populárnych kníh sú automaticky susedmi"
   ]
  },
  {
   "cell_type": "code",
   "execution_count": 13,
   "metadata": {
    "collapsed": false,
    "pycharm": {
     "name": "#%%\n"
    }
   },
   "outputs": [
    {
     "name": "stdout",
     "output_type": "stream",
     "text": [
      "Shortest path: ['0002247399', '0002007770']\n"
     ]
    }
   ],
   "source": [
    "path1 = nx.shortest_path(G_knihy, source=\"0002247399\", target=\"0002007770\")\n",
    "print(\"Shortest path:\", path1)"
   ]
  },
  {
   "cell_type": "markdown",
   "metadata": {
    "collapsed": false,
    "pycharm": {
     "name": "#%% md\n"
    }
   },
   "source": []
  },
  {
   "cell_type": "code",
   "execution_count": 14,
   "metadata": {
    "collapsed": false,
    "pycharm": {
     "name": "#%%\n"
    }
   },
   "outputs": [
    {
     "name": "stdout",
     "output_type": "stream",
     "text": [
      "je bipartitný graf, pôvodný graf, 1 komponent? : False\n",
      "------------\n",
      "je graf recenzorov 1 komponent? :  False\n",
      "je graf kníh 1 komponent? :  False\n"
     ]
    }
   ],
   "source": [
    "#je graf jeden komponent?\n",
    "print(\"je bipartitný graf, pôvodný graf, 1 komponent? :\",  nx.is_connected(B))\n",
    "print(\"------------\")\n",
    "print(\"je graf recenzorov 1 komponent? : \",  nx.is_connected(G_rec))\n",
    "print(\"je graf kníh 1 komponent? : \",  nx.is_connected(G_knihy))"
   ]
  },
  {
   "cell_type": "code",
   "execution_count": 15,
   "metadata": {
    "collapsed": false,
    "pycharm": {
     "name": "#%%\n"
    }
   },
   "outputs": [
    {
     "name": "stdout",
     "output_type": "stream",
     "text": [
      "diameter najvacsieho komponentu knih: 11\n"
     ]
    }
   ],
   "source": [
    "komponenty_knih = nx.connected_components(G_knihy)\n",
    "najvacsi_kom_knih = max(komponenty_knih, key=len)\n",
    "G_knihy_najvacsi_kom = G_knihy.subgraph(najvacsi_kom_knih)\n",
    "print(\"diameter najvacsieho komponentu knih:\", nx.diameter(G_knihy_najvacsi_kom))\n",
    "\n",
    "#trva dlhsie\n",
    "#komponenty_rec = nx.connected_components(G_rec)\n",
    "#najvacsi_kom_rec = max(komponenty_rec, key=len)\n",
    "#G_rec_najvacsi_kom = G_rec.subgraph(najvacsi_kom_rec)\n",
    "#print(\"diameter najvacsieho komponentu recenzentov:\", nx.diameter(G_rec_najvacsi_kom))"
   ]
  },
  {
   "cell_type": "code",
   "execution_count": 16,
   "metadata": {
    "collapsed": false,
    "pycharm": {
     "name": "#%%\n"
    }
   },
   "outputs": [
    {
     "name": "stdout",
     "output_type": "stream",
     "text": [
      "zhlukovy koeficient knih: 0.6057656995960338\n"
     ]
    }
   ],
   "source": [
    "#zhlukovy koeficient, triadic closure, clustering coefficient\n",
    "\n",
    "print(\"zhlukovy koeficient knih:\", nx.transitivity(G_knihy))\n",
    "\n",
    "#trva dlho\n",
    "#print(\"zhlukovy koeficient recenzentov:\", nx.transitivity(G_rec))"
   ]
  },
  {
   "cell_type": "markdown",
   "metadata": {
    "collapsed": false,
    "pycharm": {
     "name": "#%% md\n"
    }
   },
   "source": [
    "Na prednáške sme brali tieto typy centralít:\n",
    "eigenvector, katz, pagerank, closeness, betweenness\n",
    "\n",
    "Networkx ponúka okrem tých vyššie ešte aj:\n",
    "degree, hubs and authorities, prestige\n",
    "\n",
    "Zatiaľ som spravila:\n",
    "degree, betweenness, eigenvectors"
   ]
  },
  {
   "cell_type": "code",
   "execution_count": 17,
   "metadata": {
    "collapsed": false,
    "pycharm": {
     "name": "#%%\n"
    }
   },
   "outputs": [
    {
     "name": "stdout",
     "output_type": "stream",
     "text": [
      "[('0002007770', 48), ('0002051850', 43), ('000224053X', 38), ('0006158048', 34), ('0002726874', 30), ('0006161413', 29), ('000215725X', 28), ('0002247399', 28), ('000616174X', 26), ('000615591X', 25), ('0002318075', 22), ('0006128149', 22), ('0006129226', 22), ('0006130801', 22), ('0006131247', 22)]\n"
     ]
    }
   ],
   "source": [
    "#1. typ centrality - degree\n",
    "stupne_knih = dict(G_knihy.degree(G_knihy.nodes()))\n",
    "nx.set_node_attributes(G_knihy, stupne_knih, 'degree')\n",
    "sorted_stupne_knih = sorted(stupne_knih.items(), key=itemgetter(1), reverse=True)\n",
    "print(sorted_stupne_knih[:15])"
   ]
  },
  {
   "cell_type": "markdown",
   "metadata": {
    "collapsed": false,
    "pycharm": {
     "name": "#%% md\n"
    }
   },
   "source": []
  },
  {
   "cell_type": "code",
   "execution_count": 18,
   "metadata": {
    "collapsed": false,
    "pycharm": {
     "name": "#%%\n"
    }
   },
   "outputs": [
    {
     "name": "stdout",
     "output_type": "stream",
     "text": [
      "[('000215725X', 0.21177717414624841), ('0006128149', 0.20818724687699625), ('0006129226', 0.20818724687699625), ('0006130801', 0.20818724687699625), ('0006131247', 0.20818724687699625), ('0006131255', 0.20818724687699625), ('0006132480', 0.20818724687699625), ('0006132499', 0.20818724687699625), ('0006136230', 0.20818724687699625), ('0006136966', 0.20818724687699625), ('0006137008', 0.20818724687699625), ('0006139264', 0.20818724687699625), ('0006140904', 0.20818724687699625), ('0006149006', 0.20818724687699625), ('0006154042', 0.20818724687699625)]\n"
     ]
    }
   ],
   "source": [
    "#2.typ centrality - betweenness\n",
    "eigenvector_knihy = nx.eigenvector_centrality(G_knihy)\n",
    "sorted_eigenvector_knihy = sorted(eigenvector_knihy.items(), key=itemgetter(1), reverse=True)\n",
    "print(sorted_eigenvector_knihy[:15])"
   ]
  },
  {
   "cell_type": "code",
   "execution_count": 19,
   "metadata": {
    "collapsed": false,
    "pycharm": {
     "name": "#%%\n"
    }
   },
   "outputs": [
    {
     "name": "stdout",
     "output_type": "stream",
     "text": [
      "[('0002007770', 0.011294441911703245), ('0002247399', 0.008553425494466783), ('0002051850', 0.0070351878060485856), ('000215725X', 0.007015526298763531), ('000224053X', 0.006049995453090213), ('0002550296', 0.005621218774395004), ('0002726874', 0.004330338039682276), ('000215949X', 0.003861119242779079), ('000615591X', 0.003855195003331867), ('000222383X', 0.0037036797147610785), ('000100039X', 0.002992049813064985), ('0002152134', 0.002898126463700234), ('0006171044', 0.0024346220980866573), ('000612609X', 0.0023190300476222544), ('0002154463', 0.0022894711163153787)]\n"
     ]
    }
   ],
   "source": [
    "#3.  typ centrality - eigenvector\n",
    "betweenness_knihy = nx.betweenness_centrality(G_knihy)\n",
    "sorted_betweenness_knihy = sorted(betweenness_knihy.items(), key=itemgetter(1), reverse=True)\n",
    "print(sorted_betweenness_knihy[:15])"
   ]
  },
  {
   "attachments": {},
   "cell_type": "markdown",
   "metadata": {},
   "source": [
    "Modularita"
   ]
  },
  {
   "cell_type": "code",
   "execution_count": 20,
   "metadata": {},
   "outputs": [],
   "source": [
    "modularity = community.modularity(G_knihy, nx.connected_components(G_knihy))"
   ]
  },
  {
   "cell_type": "code",
   "execution_count": 21,
   "metadata": {},
   "outputs": [],
   "source": [
    "communities = community.greedy_modularity_communities(G_knihy)"
   ]
  },
  {
   "attachments": {},
   "cell_type": "markdown",
   "metadata": {},
   "source": [
    "Projekcna matica - algoritmus"
   ]
  },
  {
   "cell_type": "code",
   "execution_count": 22,
   "metadata": {
    "collapsed": false,
    "pycharm": {
     "name": "#%%\n"
    }
   },
   "outputs": [],
   "source": [
    "import numpy as np\n",
    "from numba import jit"
   ]
  },
  {
   "cell_type": "code",
   "execution_count": 23,
   "metadata": {},
   "outputs": [],
   "source": [
    "# matica knih, bezvahova\n",
    "books = data_sample[1].unique().tolist()\n",
    "A=bipartite.biadjacency_matrix(B, books, weight=None).todense()\n",
    "\n",
    "# samotny algoritmus\n",
    "@jit(nopython=True)\n",
    "def proj(B_graph):\n",
    "    n1 = B_graph.shape[0]\n",
    "    n2 = B_graph.shape[1]\n",
    "    A_pr = np.zeros((n1,n1))\n",
    "    for i in range(n1):\n",
    "        for j in range(i+1, n1):\n",
    "            for k in range(n2):\n",
    "                if B_graph[i][k] == 1 and B_graph[j][k] == 1:\n",
    "                    A_pr[i][j] = 1\n",
    "                    A_pr[j][i] = 1\n",
    "                else:\n",
    "                    A_pr[i][j] = 0\n",
    "    return A_pr\n",
    "A_p = proj(A)\n",
    "\n",
    "B_test = nx.from_numpy_array(A_p)\n",
    "#node_map = dict(zip(list(B_test),books))\n",
    "B_test = nx.relabel_nodes(B_test, dict(zip(list(B_test),books)))"
   ]
  }
 ],
 "metadata": {
  "kernelspec": {
   "display_name": "Python 3",
   "language": "python",
   "name": "python3"
  },
  "language_info": {
   "codemirror_mode": {
    "name": "ipython",
    "version": 3
   },
   "file_extension": ".py",
   "mimetype": "text/x-python",
   "name": "python",
   "nbconvert_exporter": "python",
   "pygments_lexer": "ipython3",
   "version": "3.10.0"
  }
 },
 "nbformat": 4,
 "nbformat_minor": 0
}
