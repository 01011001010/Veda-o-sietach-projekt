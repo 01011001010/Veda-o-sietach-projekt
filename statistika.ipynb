{
 "cells": [
  {
   "attachments": {},
   "cell_type": "markdown",
   "metadata": {},
   "source": [
    "# Importy a čítanie dát"
   ]
  },
  {
   "cell_type": "code",
   "execution_count": 1,
   "metadata": {
    "collapsed": true,
    "pycharm": {
     "name": "#%%\n"
    }
   },
   "outputs": [],
   "source": [
    "import json\n",
    "import pandas as pd\n",
    "import numpy as np\n",
    "import matplotlib.pyplot as plt\n",
    "import networkx as nx\n",
    "from networkx.algorithms import bipartite, community\n",
    "#!pip install isbnlib\n",
    "import isbnlib\n",
    "from isbnlib import meta\n",
    "from isbnlib.registry import bibformatters\n",
    "from numba import jit\n",
    "from operator import itemgetter\n",
    "#!pip install python-louvain\n",
    "#!pip install community\n",
    "from community import community_louvain\n",
    "import matplotlib.cm as cm\n",
    "import seaborn as sns"
   ]
  },
  {
   "cell_type": "code",
   "execution_count": 2,
   "metadata": {},
   "outputs": [],
   "source": [
    "df = pd.read_csv('rec-amz-Books.edges', header=None, names=['ID_reviewer', 'ISBN', 'Stars', 'Date'])"
   ]
  },
  {
   "attachments": {},
   "cell_type": "markdown",
   "metadata": {},
   "source": [
    "# Bipartitný graf - štatistika"
   ]
  },
  {
   "attachments": {},
   "cell_type": "markdown",
   "metadata": {},
   "source": [
    "## Histogram recenzií"
   ]
  },
  {
   "cell_type": "code",
   "execution_count": 12,
   "metadata": {},
   "outputs": [
    {
     "data": {
      "image/png": "[encoded data removed]",
      "text/plain": [
       "<Figure size 432x288 with 1 Axes>"
      ]
     },
     "metadata": {},
     "output_type": "display_data"
    }
   ],
   "source": [
    "sns.set_theme()\n",
    "fig, ax = plt.subplots()\n",
    "sns.histplot(ax=ax, data=df, x='Stars', bins=5, color='darkseagreen')\n",
    "ax.set_xticks(range(1,6))\n",
    "ax.set_ylabel('Number of reviews')\n",
    "plt.show()"
   ]
  },
  {
   "attachments": {},
   "cell_type": "markdown",
   "metadata": {},
   "source": [
    "## Histogram stupňa vrcholov kníh"
   ]
  },
  {
   "cell_type": "code",
   "execution_count": 22,
   "metadata": {},
   "outputs": [],
   "source": [
    "df_isbn = pd.DataFrame(df['ISBN'].value_counts()).rename(columns={'ISBN':'Number of reviews'})"
   ]
  },
  {
   "cell_type": "code",
   "execution_count": 23,
   "metadata": {},
   "outputs": [
    {
     "data": {
      "text/html": [
       "<div>\n",
       "<style scoped>\n",
       "    .dataframe tbody tr th:only-of-type {\n",
       "        vertical-align: middle;\n",
       "    }\n",
       "\n",
       "    .dataframe tbody tr th {\n",
       "        vertical-align: top;\n",
       "    }\n",
       "\n",
       "    .dataframe thead th {\n",
       "        text-align: right;\n",
       "    }\n",
       "</style>\n",
       "<table border=\"1\" class=\"dataframe\">\n",
       "  <thead>\n",
       "    <tr style=\"text-align: right;\">\n",
       "      <th></th>\n",
       "      <th>Number of reviews</th>\n",
       "    </tr>\n",
       "  </thead>\n",
       "  <tbody>\n",
       "    <tr>\n",
       "      <th>0439023483</th>\n",
       "      <td>21398</td>\n",
       "    </tr>\n",
       "    <tr>\n",
       "      <th>030758836X</th>\n",
       "      <td>19867</td>\n",
       "    </tr>\n",
       "    <tr>\n",
       "      <th>0439023513</th>\n",
       "      <td>14114</td>\n",
       "    </tr>\n",
       "    <tr>\n",
       "      <th>0385537859</th>\n",
       "      <td>12973</td>\n",
       "    </tr>\n",
       "    <tr>\n",
       "      <th>0007444117</th>\n",
       "      <td>12629</td>\n",
       "    </tr>\n",
       "    <tr>\n",
       "      <th>...</th>\n",
       "      <td>...</td>\n",
       "    </tr>\n",
       "    <tr>\n",
       "      <th>0821510401</th>\n",
       "      <td>1</td>\n",
       "    </tr>\n",
       "    <tr>\n",
       "      <th>0821508717</th>\n",
       "      <td>1</td>\n",
       "    </tr>\n",
       "    <tr>\n",
       "      <th>1939084261</th>\n",
       "      <td>1</td>\n",
       "    </tr>\n",
       "    <tr>\n",
       "      <th>1939084768</th>\n",
       "      <td>1</td>\n",
       "    </tr>\n",
       "    <tr>\n",
       "      <th>1453758569</th>\n",
       "      <td>1</td>\n",
       "    </tr>\n",
       "  </tbody>\n",
       "</table>\n",
       "<p>2330066 rows × 1 columns</p>\n",
       "</div>"
      ],
      "text/plain": [
       "            Number of reviews\n",
       "0439023483              21398\n",
       "030758836X              19867\n",
       "0439023513              14114\n",
       "0385537859              12973\n",
       "0007444117              12629\n",
       "...                       ...\n",
       "0821510401                  1\n",
       "0821508717                  1\n",
       "1939084261                  1\n",
       "1939084768                  1\n",
       "1453758569                  1\n",
       "\n",
       "[2330066 rows x 1 columns]"
      ]
     },
     "execution_count": 23,
     "metadata": {},
     "output_type": "execute_result"
    }
   ],
   "source": [
    "df_isbn"
   ]
  },
  {
   "cell_type": "code",
   "execution_count": 27,
   "metadata": {},
   "outputs": [
    {
     "data": {
      "image/png": "[encoded data removed]",
      "text/plain": [
       "<Figure size 432x288 with 1 Axes>"
      ]
     },
     "metadata": {},
     "output_type": "display_data"
    }
   ],
   "source": [
    "fig, ax = plt.subplots()\n",
    "ax.set_xscale('log')\n",
    "ax.set_yscale('log')\n",
    "sns.histplot(ax=ax, data=pd.DataFrame(df['ISBN'].value_counts()).rename(columns={'ISBN':'Number of reviews'}), x='Number of reviews', bins=20, color='darkseagreen')\n",
    "plt.show()"
   ]
  },
  {
   "attachments": {},
   "cell_type": "markdown",
   "metadata": {},
   "source": [
    "## Histogram stupňa vrcholov autorov recenzií"
   ]
  },
  {
   "cell_type": "code",
   "execution_count": 26,
   "metadata": {},
   "outputs": [
    {
     "data": {
      "image/png": "[encoded data removed]",
      "text/plain": [
       "<Figure size 432x288 with 1 Axes>"
      ]
     },
     "metadata": {},
     "output_type": "display_data"
    }
   ],
   "source": [
    "fig, ax = plt.subplots()\n",
    "ax.set_xscale('log')\n",
    "ax.set_yscale('log')\n",
    "sns.histplot(ax=ax, data=pd.DataFrame(df['ID_reviewer'].value_counts()).rename(columns={'ID_reviewer':'Number of reviews'}), x='Number of reviews', bins=10, color='darkseagreen')\n",
    "plt.show()"
   ]
  },
  {
   "cell_type": "code",
   "execution_count": 6,
   "metadata": {},
   "outputs": [],
   "source": [
    "def from_ISBN_to_title(column):\n",
    "    new_col = list()\n",
    "    bibtex = bibformatters[\"json\"]\n",
    "    for value in column:\n",
    "            try:\n",
    "                isbn = str(value)\n",
    "                SERVICE = 'openl'\n",
    "                #print(isbn)\n",
    "                new_col.append(json.loads(bibtex(meta(isbn, SERVICE)))['title'])\n",
    "            except AttributeError:\n",
    "                try:\n",
    "                    isbn = str(value)\n",
    "                    SERVICE = 'goob'\n",
    "                    #print(isbn)\n",
    "                    new_col.append(json.loads(bibtex(meta(isbn, SERVICE)))['title'])\n",
    "                except:\n",
    "                    new_col.append('---')\n",
    "                    continue\n",
    "            except isbnlib.NotValidISBNError:\n",
    "                new_col.append('---')\n",
    "            except:\n",
    "                new_col.append('---')\n",
    "    return new_col"
   ]
  },
  {
   "attachments": {},
   "cell_type": "markdown",
   "metadata": {},
   "source": [
    "## Top X najlepšie hodnotených kníh s aspoň 5 000 hodnoteniami"
   ]
  },
  {
   "cell_type": "code",
   "execution_count": 4,
   "metadata": {},
   "outputs": [],
   "source": [
    "data_100 = df.groupby('ISBN').filter(lambda x : len(x)>5000)  # tie, ktoré majú aspoň 5000 recenzií"
   ]
  },
  {
   "cell_type": "code",
   "execution_count": 3,
   "metadata": {},
   "outputs": [],
   "source": [
    "def get_top_x_reviewed(x, data):\n",
    "    top_x = data.groupby('ISBN')['Stars'].agg(np.mean).reset_index().sort_values(by='Stars', ascending=False).head(x)\n",
    "    top_x.loc[:, 'Title']= from_ISBN_to_title(top_x['ISBN'])\n",
    "    return top_x"
   ]
  },
  {
   "cell_type": "code",
   "execution_count": 7,
   "metadata": {},
   "outputs": [
    {
     "data": {
      "text/html": [
       "<div>\n",
       "<style scoped>\n",
       "    .dataframe tbody tr th:only-of-type {\n",
       "        vertical-align: middle;\n",
       "    }\n",
       "\n",
       "    .dataframe tbody tr th {\n",
       "        vertical-align: top;\n",
       "    }\n",
       "\n",
       "    .dataframe thead th {\n",
       "        text-align: right;\n",
       "    }\n",
       "</style>\n",
       "<table border=\"1\" class=\"dataframe\">\n",
       "  <thead>\n",
       "    <tr style=\"text-align: right;\">\n",
       "      <th></th>\n",
       "      <th>ISBN</th>\n",
       "      <th>Stars</th>\n",
       "      <th>Title</th>\n",
       "    </tr>\n",
       "  </thead>\n",
       "  <tbody>\n",
       "    <tr>\n",
       "      <th>44</th>\n",
       "      <td>1400318130</td>\n",
       "      <td>4.865852</td>\n",
       "      <td>Jesus Calling Leatherette Large Deluxe</td>\n",
       "    </tr>\n",
       "    <tr>\n",
       "      <th>7</th>\n",
       "      <td>0141345713</td>\n",
       "      <td>4.795980</td>\n",
       "      <td>Fault in Our Stars</td>\n",
       "    </tr>\n",
       "    <tr>\n",
       "      <th>50</th>\n",
       "      <td>1491510706</td>\n",
       "      <td>4.779646</td>\n",
       "      <td>The Fault in Our Stars</td>\n",
       "    </tr>\n",
       "    <tr>\n",
       "      <th>2</th>\n",
       "      <td>0007386648</td>\n",
       "      <td>4.772346</td>\n",
       "      <td>Unbroken: an extraordinary true story of courage and survival</td>\n",
       "    </tr>\n",
       "    <tr>\n",
       "      <th>16</th>\n",
       "      <td>0316044695</td>\n",
       "      <td>4.730403</td>\n",
       "      <td>Lone survivor - the eyewitness account of Operation Redwing and the lost heroes of SEAL Team 10</td>\n",
       "    </tr>\n",
       "    <tr>\n",
       "      <th>33</th>\n",
       "      <td>043920352X</td>\n",
       "      <td>4.720043</td>\n",
       "      <td>Harry Potter and the Sorcerer's stone</td>\n",
       "    </tr>\n",
       "    <tr>\n",
       "      <th>37</th>\n",
       "      <td>0606238409</td>\n",
       "      <td>4.714409</td>\n",
       "      <td>---</td>\n",
       "    </tr>\n",
       "    <tr>\n",
       "      <th>9</th>\n",
       "      <td>0261103288</td>\n",
       "      <td>4.706798</td>\n",
       "      <td>The hobbit - or There and back again</td>\n",
       "    </tr>\n",
       "    <tr>\n",
       "      <th>36</th>\n",
       "      <td>0545265355</td>\n",
       "      <td>4.706396</td>\n",
       "      <td>Hunger Games Trilogy Boxed Set</td>\n",
       "    </tr>\n",
       "    <tr>\n",
       "      <th>32</th>\n",
       "      <td>0439136350</td>\n",
       "      <td>4.706212</td>\n",
       "      <td>Harry Potter and the Prisoner of Azkaban</td>\n",
       "    </tr>\n",
       "    <tr>\n",
       "      <th>48</th>\n",
       "      <td>1469984202</td>\n",
       "      <td>4.668961</td>\n",
       "      <td>Wool omnibus</td>\n",
       "    </tr>\n",
       "    <tr>\n",
       "      <th>6</th>\n",
       "      <td>0141039280</td>\n",
       "      <td>4.657812</td>\n",
       "      <td>The help</td>\n",
       "    </tr>\n",
       "    <tr>\n",
       "      <th>31</th>\n",
       "      <td>043902353X</td>\n",
       "      <td>4.652494</td>\n",
       "      <td>Catching Fire</td>\n",
       "    </tr>\n",
       "    <tr>\n",
       "      <th>29</th>\n",
       "      <td>0439023483</td>\n",
       "      <td>4.644406</td>\n",
       "      <td>The Hunger Games</td>\n",
       "    </tr>\n",
       "    <tr>\n",
       "      <th>5</th>\n",
       "      <td>0061950726</td>\n",
       "      <td>4.639595</td>\n",
       "      <td>Orphan train</td>\n",
       "    </tr>\n",
       "    <tr>\n",
       "      <th>49</th>\n",
       "      <td>147674355X</td>\n",
       "      <td>4.638957</td>\n",
       "      <td>Hopeless - a novel</td>\n",
       "    </tr>\n",
       "    <tr>\n",
       "      <th>23</th>\n",
       "      <td>0375831002</td>\n",
       "      <td>4.623737</td>\n",
       "      <td>The Book Thief</td>\n",
       "    </tr>\n",
       "    <tr>\n",
       "      <th>34</th>\n",
       "      <td>0446547573</td>\n",
       "      <td>4.576524</td>\n",
       "      <td>Safe haven</td>\n",
       "    </tr>\n",
       "    <tr>\n",
       "      <th>46</th>\n",
       "      <td>1442362383</td>\n",
       "      <td>4.576374</td>\n",
       "      <td>---</td>\n",
       "    </tr>\n",
       "    <tr>\n",
       "      <th>13</th>\n",
       "      <td>0312853238</td>\n",
       "      <td>4.536011</td>\n",
       "      <td>Ender's game</td>\n",
       "    </tr>\n",
       "  </tbody>\n",
       "</table>\n",
       "</div>"
      ],
      "text/plain": [
       "          ISBN     Stars  \\\n",
       "44  1400318130  4.865852   \n",
       "7   0141345713  4.795980   \n",
       "50  1491510706  4.779646   \n",
       "2   0007386648  4.772346   \n",
       "16  0316044695  4.730403   \n",
       "33  043920352X  4.720043   \n",
       "37  0606238409  4.714409   \n",
       "9   0261103288  4.706798   \n",
       "36  0545265355  4.706396   \n",
       "32  0439136350  4.706212   \n",
       "48  1469984202  4.668961   \n",
       "6   0141039280  4.657812   \n",
       "31  043902353X  4.652494   \n",
       "29  0439023483  4.644406   \n",
       "5   0061950726  4.639595   \n",
       "49  147674355X  4.638957   \n",
       "23  0375831002  4.623737   \n",
       "34  0446547573  4.576524   \n",
       "46  1442362383  4.576374   \n",
       "13  0312853238  4.536011   \n",
       "\n",
       "                                                                                              Title  \n",
       "44                                                           Jesus Calling Leatherette Large Deluxe  \n",
       "7                                                                                Fault in Our Stars  \n",
       "50                                                                           The Fault in Our Stars  \n",
       "2                                     Unbroken: an extraordinary true story of courage and survival  \n",
       "16  Lone survivor - the eyewitness account of Operation Redwing and the lost heroes of SEAL Team 10  \n",
       "33                                                            Harry Potter and the Sorcerer's stone  \n",
       "37                                                                                              ---  \n",
       "9                                                              The hobbit - or There and back again  \n",
       "36                                                                   Hunger Games Trilogy Boxed Set  \n",
       "32                                                         Harry Potter and the Prisoner of Azkaban  \n",
       "48                                                                                     Wool omnibus  \n",
       "6                                                                                          The help  \n",
       "31                                                                                    Catching Fire  \n",
       "29                                                                                 The Hunger Games  \n",
       "5                                                                                      Orphan train  \n",
       "49                                                                               Hopeless - a novel  \n",
       "23                                                                                   The Book Thief  \n",
       "34                                                                                       Safe haven  \n",
       "46                                                                                              ---  \n",
       "13                                                                                     Ender's game  "
      ]
     },
     "execution_count": 7,
     "metadata": {},
     "output_type": "execute_result"
    }
   ],
   "source": [
    "pd.set_option('max_colwidth', None)\n",
    "get_top_x_reviewed(20, data_100)"
   ]
  },
  {
   "attachments": {},
   "cell_type": "markdown",
   "metadata": {},
   "source": [
    "## Top X najlepšie hodnotených kníh podľa počtu hodnotení\n",
    "\n",
    "Knihy, ktoré majú najviac hodnotení nehľadiac na počet hviezdičiek."
   ]
  },
  {
   "cell_type": "code",
   "execution_count": 8,
   "metadata": {},
   "outputs": [],
   "source": [
    "def get_top_x_number_reviews(x, data):\n",
    "    data_x = data['ISBN'].value_counts().head(x).reset_index()\n",
    "    data_x.loc[:, 'Title']= from_ISBN_to_title(data_x['index'])\n",
    "    data_x = data_x.rename(columns={'ISBN':\"Number of reviews\", 'index':'ISBN'})\n",
    "    return data_x"
   ]
  },
  {
   "cell_type": "code",
   "execution_count": 9,
   "metadata": {},
   "outputs": [
    {
     "data": {
      "text/html": [
       "<div>\n",
       "<style scoped>\n",
       "    .dataframe tbody tr th:only-of-type {\n",
       "        vertical-align: middle;\n",
       "    }\n",
       "\n",
       "    .dataframe tbody tr th {\n",
       "        vertical-align: top;\n",
       "    }\n",
       "\n",
       "    .dataframe thead th {\n",
       "        text-align: right;\n",
       "    }\n",
       "</style>\n",
       "<table border=\"1\" class=\"dataframe\">\n",
       "  <thead>\n",
       "    <tr style=\"text-align: right;\">\n",
       "      <th></th>\n",
       "      <th>ISBN</th>\n",
       "      <th>Number of reviews</th>\n",
       "      <th>Title</th>\n",
       "    </tr>\n",
       "  </thead>\n",
       "  <tbody>\n",
       "    <tr>\n",
       "      <th>0</th>\n",
       "      <td>0439023483</td>\n",
       "      <td>21398</td>\n",
       "      <td>The Hunger Games</td>\n",
       "    </tr>\n",
       "    <tr>\n",
       "      <th>1</th>\n",
       "      <td>030758836X</td>\n",
       "      <td>19867</td>\n",
       "      <td>Gone Girl</td>\n",
       "    </tr>\n",
       "    <tr>\n",
       "      <th>2</th>\n",
       "      <td>0439023513</td>\n",
       "      <td>14114</td>\n",
       "      <td>Mockingjay</td>\n",
       "    </tr>\n",
       "    <tr>\n",
       "      <th>3</th>\n",
       "      <td>0385537859</td>\n",
       "      <td>12973</td>\n",
       "      <td>Inferno</td>\n",
       "    </tr>\n",
       "    <tr>\n",
       "      <th>4</th>\n",
       "      <td>0007444117</td>\n",
       "      <td>12629</td>\n",
       "      <td>Allegiant</td>\n",
       "    </tr>\n",
       "    <tr>\n",
       "      <th>5</th>\n",
       "      <td>0375831002</td>\n",
       "      <td>12571</td>\n",
       "      <td>The Book Thief</td>\n",
       "    </tr>\n",
       "    <tr>\n",
       "      <th>6</th>\n",
       "      <td>038536315X</td>\n",
       "      <td>12564</td>\n",
       "      <td>Sycamore row</td>\n",
       "    </tr>\n",
       "    <tr>\n",
       "      <th>7</th>\n",
       "      <td>0345803485</td>\n",
       "      <td>12290</td>\n",
       "      <td>Fifty Shades of Grey</td>\n",
       "    </tr>\n",
       "    <tr>\n",
       "      <th>8</th>\n",
       "      <td>0316055433</td>\n",
       "      <td>11746</td>\n",
       "      <td>The Goldfinch</td>\n",
       "    </tr>\n",
       "    <tr>\n",
       "      <th>9</th>\n",
       "      <td>0849922070</td>\n",
       "      <td>10424</td>\n",
       "      <td>Heaven is For Real Movie Edition</td>\n",
       "    </tr>\n",
       "    <tr>\n",
       "      <th>10</th>\n",
       "      <td>0007442920</td>\n",
       "      <td>10172</td>\n",
       "      <td>Insurgent</td>\n",
       "    </tr>\n",
       "    <tr>\n",
       "      <th>11</th>\n",
       "      <td>0345803493</td>\n",
       "      <td>9980</td>\n",
       "      <td>Fifty shades darker</td>\n",
       "    </tr>\n",
       "    <tr>\n",
       "      <th>12</th>\n",
       "      <td>0399159347</td>\n",
       "      <td>9906</td>\n",
       "      <td>The Husband's Secret</td>\n",
       "    </tr>\n",
       "    <tr>\n",
       "      <th>13</th>\n",
       "      <td>0345803507</td>\n",
       "      <td>9610</td>\n",
       "      <td>Fifty shades freed</td>\n",
       "    </tr>\n",
       "    <tr>\n",
       "      <th>14</th>\n",
       "      <td>0007386648</td>\n",
       "      <td>9062</td>\n",
       "      <td>Unbroken: an extraordinary true story of courage and survival</td>\n",
       "    </tr>\n",
       "    <tr>\n",
       "      <th>15</th>\n",
       "      <td>1469984202</td>\n",
       "      <td>8280</td>\n",
       "      <td>Wool omnibus</td>\n",
       "    </tr>\n",
       "    <tr>\n",
       "      <th>16</th>\n",
       "      <td>0606238409</td>\n",
       "      <td>8106</td>\n",
       "      <td>---</td>\n",
       "    </tr>\n",
       "    <tr>\n",
       "      <th>17</th>\n",
       "      <td>0316044695</td>\n",
       "      <td>7986</td>\n",
       "      <td>Lone survivor - the eyewitness account of Operation Redwing and the lost heroes of SEAL Team 10</td>\n",
       "    </tr>\n",
       "    <tr>\n",
       "      <th>18</th>\n",
       "      <td>0141039280</td>\n",
       "      <td>7905</td>\n",
       "      <td>The help</td>\n",
       "    </tr>\n",
       "    <tr>\n",
       "      <th>19</th>\n",
       "      <td>0545265355</td>\n",
       "      <td>7786</td>\n",
       "      <td>Hunger Games Trilogy Boxed Set</td>\n",
       "    </tr>\n",
       "  </tbody>\n",
       "</table>\n",
       "</div>"
      ],
      "text/plain": [
       "          ISBN  Number of reviews  \\\n",
       "0   0439023483              21398   \n",
       "1   030758836X              19867   \n",
       "2   0439023513              14114   \n",
       "3   0385537859              12973   \n",
       "4   0007444117              12629   \n",
       "5   0375831002              12571   \n",
       "6   038536315X              12564   \n",
       "7   0345803485              12290   \n",
       "8   0316055433              11746   \n",
       "9   0849922070              10424   \n",
       "10  0007442920              10172   \n",
       "11  0345803493               9980   \n",
       "12  0399159347               9906   \n",
       "13  0345803507               9610   \n",
       "14  0007386648               9062   \n",
       "15  1469984202               8280   \n",
       "16  0606238409               8106   \n",
       "17  0316044695               7986   \n",
       "18  0141039280               7905   \n",
       "19  0545265355               7786   \n",
       "\n",
       "                                                                                              Title  \n",
       "0                                                                                  The Hunger Games  \n",
       "1                                                                                         Gone Girl  \n",
       "2                                                                                        Mockingjay  \n",
       "3                                                                                           Inferno  \n",
       "4                                                                                         Allegiant  \n",
       "5                                                                                    The Book Thief  \n",
       "6                                                                                      Sycamore row  \n",
       "7                                                                              Fifty Shades of Grey  \n",
       "8                                                                                     The Goldfinch  \n",
       "9                                                                  Heaven is For Real Movie Edition  \n",
       "10                                                                                        Insurgent  \n",
       "11                                                                              Fifty shades darker  \n",
       "12                                                                             The Husband's Secret  \n",
       "13                                                                               Fifty shades freed  \n",
       "14                                    Unbroken: an extraordinary true story of courage and survival  \n",
       "15                                                                                     Wool omnibus  \n",
       "16                                                                                              ---  \n",
       "17  Lone survivor - the eyewitness account of Operation Redwing and the lost heroes of SEAL Team 10  \n",
       "18                                                                                         The help  \n",
       "19                                                                   Hunger Games Trilogy Boxed Set  "
      ]
     },
     "execution_count": 9,
     "metadata": {},
     "output_type": "execute_result"
    }
   ],
   "source": [
    "get_top_x_number_reviews(20, df)"
   ]
  },
  {
   "attachments": {},
   "cell_type": "markdown",
   "metadata": {},
   "source": [
    "# Projekčná matica kníh"
   ]
  },
  {
   "cell_type": "code",
   "execution_count": 22,
   "metadata": {},
   "outputs": [],
   "source": [
    "def subgraphByListOfValues(values: pd.Series, column: str, df: pd.DataFrame) -> pd.DataFrame:\n",
    "    return df[np.isin(df[column], values)]\n",
    "\n",
    "def randomSubgraph(n:int, column: str, df: pd.DataFrame, weighed: bool = True, seed: int = 3) -> pd.DataFrame:\n",
    "    np.random.seed(seed)\n",
    "    values, counts = np.unique(df[column], return_counts=True)\n",
    "    return subgraphByListOfValues(np.random.choice(values, n, replace=False, p=(counts / sum(counts)) if weighed else None), column, df)"
   ]
  },
  {
   "cell_type": "code",
   "execution_count": 23,
   "metadata": {},
   "outputs": [],
   "source": [
    "subdf = randomSubgraph(500, 'ISBN', df, seed=3) # 500 za 3 min a 6 sekund"
   ]
  },
  {
   "cell_type": "code",
   "execution_count": 24,
   "metadata": {},
   "outputs": [],
   "source": [
    "# Vytvorenie bipartitného subgrafu\n",
    "\n",
    "B = nx.Graph()\n",
    "B.add_nodes_from(subdf['ID_reviewer'], bipartite=0)\n",
    "B.add_nodes_from(subdf['ISBN'],bipartite=1)\n",
    "B.add_weighted_edges_from(subdf.iloc[:,:3].apply(tuple, axis=1))"
   ]
  },
  {
   "cell_type": "code",
   "execution_count": 25,
   "metadata": {},
   "outputs": [],
   "source": [
    "# matica kníh, bezváhova\n",
    "\n",
    "authors = subdf['ID_reviewer'].unique()\n",
    "books = subdf['ISBN'].unique()\n",
    "\n",
    "A=bipartite.biadjacency_matrix(B, books, weight=None).todense()\n",
    "\n",
    "# samotný algoritmus\n",
    "\n",
    "@jit(nopython=True)\n",
    "def proj(B_graph):\n",
    "    n1 = B_graph.shape[0]\n",
    "    #print(n1)\n",
    "    n2 = B_graph.shape[1]\n",
    "    A_pr = np.zeros((n1,n1))\n",
    "    for i in range(n1):\n",
    "        for j in range(i+1, n1):\n",
    "            for k in range(n2):\n",
    "                if B_graph[i][k] == 1 and B_graph[j][k] == 1:\n",
    "                    A_pr[i][j] = 1\n",
    "                    A_pr[j][i] = 1\n",
    "                    break\n",
    "                else:\n",
    "                    A_pr[j][i] = 0\n",
    "    return A_pr\n",
    "A_p = proj(A)\n",
    "\n",
    "G_knihy = nx.from_numpy_array(A_p)\n",
    "node_map = dict(zip(list(G_knihy),books))\n",
    "G_knihy = nx.relabel_nodes(G_knihy, dict(zip(list(G_knihy),books)))"
   ]
  },
  {
   "cell_type": "code",
   "execution_count": 26,
   "metadata": {
    "collapsed": false,
    "pycharm": {
     "name": "#%%\n"
    }
   },
   "outputs": [
    {
     "data": {
      "text/plain": [
       "True"
      ]
     },
     "execution_count": 26,
     "metadata": {},
     "output_type": "execute_result"
    }
   ],
   "source": [
    "bipartite.is_bipartite(B)"
   ]
  },
  {
   "cell_type": "code",
   "execution_count": 27,
   "metadata": {
    "collapsed": false,
    "pycharm": {
     "name": "#%%\n"
    }
   },
   "outputs": [
    {
     "name": "stdout",
     "output_type": "stream",
     "text": [
      "hustota knih: 0.05745891783567134\n"
     ]
    }
   ],
   "source": [
    "#kompletnost grafu, hustota\n",
    "print(\"hustota knih:\", nx.density(G_knihy))"
   ]
  },
  {
   "cell_type": "code",
   "execution_count": 29,
   "metadata": {
    "collapsed": false,
    "pycharm": {
     "name": "#%%\n"
    }
   },
   "outputs": [
    {
     "name": "stdout",
     "output_type": "stream",
     "text": [
      "je bipartitný graf, pôvodný graf, 1 komponent? : False\n",
      "------------\n",
      "je graf kníh 1 komponent? :  False\n"
     ]
    }
   ],
   "source": [
    "#je graf jeden komponent?\n",
    "print(\"je bipartitný graf, pôvodný graf, 1 komponent? :\",  nx.is_connected(B))\n",
    "print(\"------------\")\n",
    "print(\"je graf kníh 1 komponent? : \",  nx.is_connected(G_knihy))"
   ]
  },
  {
   "cell_type": "code",
   "execution_count": 30,
   "metadata": {
    "collapsed": false,
    "pycharm": {
     "name": "#%%\n"
    }
   },
   "outputs": [
    {
     "name": "stdout",
     "output_type": "stream",
     "text": [
      "diameter najvacsieho komponentu knih: 5\n"
     ]
    }
   ],
   "source": [
    "komponenty_knih = nx.connected_components(G_knihy)\n",
    "najvacsi_kom_knih = max(komponenty_knih, key=len)\n",
    "G_knihy_najvacsi_kom = G_knihy.subgraph(najvacsi_kom_knih)\n",
    "print(\"diameter najvacsieho komponentu knih:\", nx.diameter(G_knihy_najvacsi_kom))"
   ]
  },
  {
   "cell_type": "code",
   "execution_count": 31,
   "metadata": {
    "collapsed": false,
    "pycharm": {
     "name": "#%%\n"
    }
   },
   "outputs": [
    {
     "name": "stdout",
     "output_type": "stream",
     "text": [
      "zhlukovy koeficient knih: 0.4351088330533862\n"
     ]
    }
   ],
   "source": [
    "print(\"zhlukovy koeficient knih:\", nx.transitivity(G_knihy))"
   ]
  },
  {
   "cell_type": "code",
   "execution_count": 32,
   "metadata": {},
   "outputs": [
    {
     "name": "stdout",
     "output_type": "stream",
     "text": [
      "modularita: 0.00027897893166069985\n"
     ]
    }
   ],
   "source": [
    "print('modularita:', community.modularity(G_knihy, nx.connected_components(G_knihy)))"
   ]
  },
  {
   "attachments": {},
   "cell_type": "markdown",
   "metadata": {
    "collapsed": false,
    "pycharm": {
     "name": "#%% md\n"
    }
   },
   "source": [
    "Na prednáške sme brali tieto typy centralít: eigenvector, katz, pagerank, closeness, betweenness\n",
    "Networkx ponúka okrem tých vyššie ešte aj: degree, hubs and authorities, prestige\n",
    "Zatiaľ som spravila: degree, betweenness, eigenvectors"
   ]
  },
  {
   "cell_type": "code",
   "execution_count": 33,
   "metadata": {},
   "outputs": [
    {
     "data": {
      "text/html": [
       "<div>\n",
       "<style scoped>\n",
       "    .dataframe tbody tr th:only-of-type {\n",
       "        vertical-align: middle;\n",
       "    }\n",
       "\n",
       "    .dataframe tbody tr th {\n",
       "        vertical-align: top;\n",
       "    }\n",
       "\n",
       "    .dataframe thead th {\n",
       "        text-align: right;\n",
       "    }\n",
       "</style>\n",
       "<table border=\"1\" class=\"dataframe\">\n",
       "  <thead>\n",
       "    <tr style=\"text-align: right;\">\n",
       "      <th></th>\n",
       "      <th>Book ISBN</th>\n",
       "      <th>Book title</th>\n",
       "      <th>Degree centrality</th>\n",
       "    </tr>\n",
       "  </thead>\n",
       "  <tbody>\n",
       "    <tr>\n",
       "      <th>0</th>\n",
       "      <td>030758836X</td>\n",
       "      <td>Gone Girl</td>\n",
       "      <td>0.421</td>\n",
       "    </tr>\n",
       "    <tr>\n",
       "      <th>1</th>\n",
       "      <td>0143170090</td>\n",
       "      <td>The Girl With the Dragon Tattoo</td>\n",
       "      <td>0.411</td>\n",
       "    </tr>\n",
       "    <tr>\n",
       "      <th>2</th>\n",
       "      <td>0141039280</td>\n",
       "      <td>The help</td>\n",
       "      <td>0.389</td>\n",
       "    </tr>\n",
       "    <tr>\n",
       "      <th>3</th>\n",
       "      <td>0345803485</td>\n",
       "      <td>Fifty Shades of Grey</td>\n",
       "      <td>0.359</td>\n",
       "    </tr>\n",
       "    <tr>\n",
       "      <th>4</th>\n",
       "      <td>0849922070</td>\n",
       "      <td>Heaven is For Real Movie Edition</td>\n",
       "      <td>0.349</td>\n",
       "    </tr>\n",
       "    <tr>\n",
       "      <th>5</th>\n",
       "      <td>0316036919</td>\n",
       "      <td>Host</td>\n",
       "      <td>0.343</td>\n",
       "    </tr>\n",
       "    <tr>\n",
       "      <th>6</th>\n",
       "      <td>030728090X</td>\n",
       "      <td>Twilight [audiobook]</td>\n",
       "      <td>0.341</td>\n",
       "    </tr>\n",
       "    <tr>\n",
       "      <th>7</th>\n",
       "      <td>0718178122</td>\n",
       "      <td>The Rosie Project</td>\n",
       "      <td>0.333</td>\n",
       "    </tr>\n",
       "    <tr>\n",
       "      <th>8</th>\n",
       "      <td>0385340990</td>\n",
       "      <td>The Guernsey Literary and Potato Peel Pie Society</td>\n",
       "      <td>0.323</td>\n",
       "    </tr>\n",
       "    <tr>\n",
       "      <th>9</th>\n",
       "      <td>038536315X</td>\n",
       "      <td>Sycamore row</td>\n",
       "      <td>0.315</td>\n",
       "    </tr>\n",
       "  </tbody>\n",
       "</table>\n",
       "</div>"
      ],
      "text/plain": [
       "    Book ISBN                                         Book title  \\\n",
       "0  030758836X                                          Gone Girl   \n",
       "1  0143170090                    The Girl With the Dragon Tattoo   \n",
       "2  0141039280                                           The help   \n",
       "3  0345803485                               Fifty Shades of Grey   \n",
       "4  0849922070                   Heaven is For Real Movie Edition   \n",
       "5  0316036919                                               Host   \n",
       "6  030728090X                               Twilight [audiobook]   \n",
       "7  0718178122                                  The Rosie Project   \n",
       "8  0385340990  The Guernsey Literary and Potato Peel Pie Society   \n",
       "9  038536315X                                       Sycamore row   \n",
       "\n",
       "   Degree centrality  \n",
       "0              0.421  \n",
       "1              0.411  \n",
       "2              0.389  \n",
       "3              0.359  \n",
       "4              0.349  \n",
       "5              0.343  \n",
       "6              0.341  \n",
       "7              0.333  \n",
       "8              0.323  \n",
       "9              0.315  "
      ]
     },
     "execution_count": 33,
     "metadata": {},
     "output_type": "execute_result"
    }
   ],
   "source": [
    "#degree centrality\n",
    "stupne_knih = nx.degree_centrality(G_knihy)\n",
    "stupne_knih = sorted(stupne_knih.items(), key=lambda x:x[1], reverse=True)[:10]\n",
    "stupne_knih_df = pd.DataFrame(columns=['Book ISBN', 'Book title', 'Degree centrality'])\n",
    "stupne_knih_df['Book ISBN'] = [t[0] for t in stupne_knih]\n",
    "stupne_knih_df['Degree centrality'] = [t[1] for t in stupne_knih]\n",
    "stupne_knih_df['Degree centrality'] = stupne_knih_df['Degree centrality'].apply(lambda x: round(x, 3))\n",
    "stupne_knih_df['Book title'] = from_ISBN_to_title(stupne_knih_df['Book ISBN'])\n",
    "stupne_knih_df"
   ]
  },
  {
   "cell_type": "code",
   "execution_count": 35,
   "metadata": {},
   "outputs": [
    {
     "data": {
      "text/html": [
       "<div>\n",
       "<style scoped>\n",
       "    .dataframe tbody tr th:only-of-type {\n",
       "        vertical-align: middle;\n",
       "    }\n",
       "\n",
       "    .dataframe tbody tr th {\n",
       "        vertical-align: top;\n",
       "    }\n",
       "\n",
       "    .dataframe thead th {\n",
       "        text-align: right;\n",
       "    }\n",
       "</style>\n",
       "<table border=\"1\" class=\"dataframe\">\n",
       "  <thead>\n",
       "    <tr style=\"text-align: right;\">\n",
       "      <th></th>\n",
       "      <th>Book ISBN</th>\n",
       "      <th>Book title</th>\n",
       "      <th>Eigenvector centrality</th>\n",
       "    </tr>\n",
       "  </thead>\n",
       "  <tbody>\n",
       "    <tr>\n",
       "      <th>0</th>\n",
       "      <td>030758836X</td>\n",
       "      <td>Gone Girl</td>\n",
       "      <td>0.421</td>\n",
       "    </tr>\n",
       "    <tr>\n",
       "      <th>1</th>\n",
       "      <td>0143170090</td>\n",
       "      <td>The Girl With the Dragon Tattoo</td>\n",
       "      <td>0.411</td>\n",
       "    </tr>\n",
       "    <tr>\n",
       "      <th>2</th>\n",
       "      <td>0316036919</td>\n",
       "      <td>Host</td>\n",
       "      <td>0.389</td>\n",
       "    </tr>\n",
       "    <tr>\n",
       "      <th>3</th>\n",
       "      <td>0141039280</td>\n",
       "      <td>The help</td>\n",
       "      <td>0.359</td>\n",
       "    </tr>\n",
       "    <tr>\n",
       "      <th>4</th>\n",
       "      <td>0345803485</td>\n",
       "      <td>Fifty Shades of Grey</td>\n",
       "      <td>0.349</td>\n",
       "    </tr>\n",
       "    <tr>\n",
       "      <th>5</th>\n",
       "      <td>0718178122</td>\n",
       "      <td>The Rosie Project</td>\n",
       "      <td>0.343</td>\n",
       "    </tr>\n",
       "    <tr>\n",
       "      <th>6</th>\n",
       "      <td>030728090X</td>\n",
       "      <td>Twilight [audiobook]</td>\n",
       "      <td>0.341</td>\n",
       "    </tr>\n",
       "    <tr>\n",
       "      <th>7</th>\n",
       "      <td>0849922070</td>\n",
       "      <td>Heaven is For Real Movie Edition</td>\n",
       "      <td>0.333</td>\n",
       "    </tr>\n",
       "    <tr>\n",
       "      <th>8</th>\n",
       "      <td>0399159347</td>\n",
       "      <td>The Husband's Secret</td>\n",
       "      <td>0.323</td>\n",
       "    </tr>\n",
       "    <tr>\n",
       "      <th>9</th>\n",
       "      <td>0345803493</td>\n",
       "      <td>Fifty shades darker</td>\n",
       "      <td>0.315</td>\n",
       "    </tr>\n",
       "  </tbody>\n",
       "</table>\n",
       "</div>"
      ],
      "text/plain": [
       "    Book ISBN                        Book title  Eigenvector centrality\n",
       "0  030758836X                         Gone Girl                   0.421\n",
       "1  0143170090   The Girl With the Dragon Tattoo                   0.411\n",
       "2  0316036919                              Host                   0.389\n",
       "3  0141039280                          The help                   0.359\n",
       "4  0345803485              Fifty Shades of Grey                   0.349\n",
       "5  0718178122                 The Rosie Project                   0.343\n",
       "6  030728090X              Twilight [audiobook]                   0.341\n",
       "7  0849922070  Heaven is For Real Movie Edition                   0.333\n",
       "8  0399159347              The Husband's Secret                   0.323\n",
       "9  0345803493               Fifty shades darker                   0.315"
      ]
     },
     "execution_count": 35,
     "metadata": {},
     "output_type": "execute_result"
    }
   ],
   "source": [
    "#eigenvector centrality\n",
    "eigenvector_knihy = nx.eigenvector_centrality(G_knihy)\n",
    "sorted_eigenvector_knihy = sorted(eigenvector_knihy.items(), key=itemgetter(1), reverse=True)[:10]\n",
    "eigenvector_knih_df = pd.DataFrame(columns=['Book ISBN', 'Book title', 'Eigenvector centrality'])\n",
    "eigenvector_knih_df['Book ISBN'] = [t[0] for t in sorted_eigenvector_knihy]\n",
    "eigenvector_knih_df['Eigenvector centrality'] = [t[1] for t in stupne_knih]\n",
    "eigenvector_knih_df['Eigenvector centrality'] = eigenvector_knih_df['Eigenvector centrality'].apply(lambda x: round(x, 3))\n",
    "eigenvector_knih_df['Book title'] = from_ISBN_to_title(eigenvector_knih_df['Book ISBN'])\n",
    "\n",
    "eigenvector_knih_df"
   ]
  },
  {
   "cell_type": "code",
   "execution_count": 36,
   "metadata": {},
   "outputs": [
    {
     "data": {
      "text/html": [
       "<div>\n",
       "<style scoped>\n",
       "    .dataframe tbody tr th:only-of-type {\n",
       "        vertical-align: middle;\n",
       "    }\n",
       "\n",
       "    .dataframe tbody tr th {\n",
       "        vertical-align: top;\n",
       "    }\n",
       "\n",
       "    .dataframe thead th {\n",
       "        text-align: right;\n",
       "    }\n",
       "</style>\n",
       "<table border=\"1\" class=\"dataframe\">\n",
       "  <thead>\n",
       "    <tr style=\"text-align: right;\">\n",
       "      <th></th>\n",
       "      <th>Book ISBN</th>\n",
       "      <th>Book title</th>\n",
       "      <th>Betweenness centrality</th>\n",
       "    </tr>\n",
       "  </thead>\n",
       "  <tbody>\n",
       "    <tr>\n",
       "      <th>0</th>\n",
       "      <td>0143170090</td>\n",
       "      <td>The Girl With the Dragon Tattoo</td>\n",
       "      <td>0.043</td>\n",
       "    </tr>\n",
       "    <tr>\n",
       "      <th>1</th>\n",
       "      <td>0141039280</td>\n",
       "      <td>The help</td>\n",
       "      <td>0.036</td>\n",
       "    </tr>\n",
       "    <tr>\n",
       "      <th>2</th>\n",
       "      <td>030758836X</td>\n",
       "      <td>Gone Girl</td>\n",
       "      <td>0.035</td>\n",
       "    </tr>\n",
       "    <tr>\n",
       "      <th>3</th>\n",
       "      <td>0849922070</td>\n",
       "      <td>Heaven is For Real Movie Edition</td>\n",
       "      <td>0.033</td>\n",
       "    </tr>\n",
       "    <tr>\n",
       "      <th>4</th>\n",
       "      <td>0345803485</td>\n",
       "      <td>Fifty Shades of Grey</td>\n",
       "      <td>0.032</td>\n",
       "    </tr>\n",
       "    <tr>\n",
       "      <th>5</th>\n",
       "      <td>0385340990</td>\n",
       "      <td>The Guernsey Literary and Potato Peel Pie Society</td>\n",
       "      <td>0.021</td>\n",
       "    </tr>\n",
       "    <tr>\n",
       "      <th>6</th>\n",
       "      <td>0316001821</td>\n",
       "      <td>The Lovely Bones - Deluxe Edition</td>\n",
       "      <td>0.021</td>\n",
       "    </tr>\n",
       "    <tr>\n",
       "      <th>7</th>\n",
       "      <td>030728090X</td>\n",
       "      <td>Twilight [audiobook]</td>\n",
       "      <td>0.020</td>\n",
       "    </tr>\n",
       "    <tr>\n",
       "      <th>8</th>\n",
       "      <td>038536315X</td>\n",
       "      <td>Sycamore row</td>\n",
       "      <td>0.019</td>\n",
       "    </tr>\n",
       "    <tr>\n",
       "      <th>9</th>\n",
       "      <td>0805096663</td>\n",
       "      <td>Killing Kennedy - The end of Camelot</td>\n",
       "      <td>0.018</td>\n",
       "    </tr>\n",
       "  </tbody>\n",
       "</table>\n",
       "</div>"
      ],
      "text/plain": [
       "    Book ISBN                                         Book title  \\\n",
       "0  0143170090                    The Girl With the Dragon Tattoo   \n",
       "1  0141039280                                           The help   \n",
       "2  030758836X                                          Gone Girl   \n",
       "3  0849922070                   Heaven is For Real Movie Edition   \n",
       "4  0345803485                               Fifty Shades of Grey   \n",
       "5  0385340990  The Guernsey Literary and Potato Peel Pie Society   \n",
       "6  0316001821                  The Lovely Bones - Deluxe Edition   \n",
       "7  030728090X                               Twilight [audiobook]   \n",
       "8  038536315X                                       Sycamore row   \n",
       "9  0805096663               Killing Kennedy - The end of Camelot   \n",
       "\n",
       "   Betweenness centrality  \n",
       "0                   0.043  \n",
       "1                   0.036  \n",
       "2                   0.035  \n",
       "3                   0.033  \n",
       "4                   0.032  \n",
       "5                   0.021  \n",
       "6                   0.021  \n",
       "7                   0.020  \n",
       "8                   0.019  \n",
       "9                   0.018  "
      ]
     },
     "execution_count": 36,
     "metadata": {},
     "output_type": "execute_result"
    }
   ],
   "source": [
    "#betweenness centrality\n",
    "betweenness_knihy = nx.betweenness_centrality(G_knihy)\n",
    "sorted_betweenness_knihy = sorted(betweenness_knihy.items(), key=itemgetter(1), reverse=True)[:10]\n",
    "betweenness_knih_df = pd.DataFrame(columns=['Book ISBN', 'Book title', 'Betweenness centrality'])\n",
    "betweenness_knih_df['Book ISBN'] = [t[0] for t in sorted_betweenness_knihy]\n",
    "betweenness_knih_df['Betweenness centrality'] = [t[1] for t in sorted_betweenness_knihy]\n",
    "betweenness_knih_df['Betweenness centrality'] = betweenness_knih_df['Betweenness centrality'].apply(lambda x: round(x, 3))\n",
    "betweenness_knih_df['Book title'] = from_ISBN_to_title(betweenness_knih_df['Book ISBN'])\n",
    "betweenness_knih_df"
   ]
  },
  {
   "cell_type": "code",
   "execution_count": 60,
   "metadata": {
    "collapsed": false,
    "pycharm": {
     "name": "#%%\n"
    }
   },
   "outputs": [
    {
     "name": "stdout",
     "output_type": "stream",
     "text": [
      "[0, 3, 2, 3, 4, 4, 3, 3, 4, 3, 3, 0, 0, 2, 0, 3, 3, 1, 1, 3, 3, 3, 0, 3, 3, 0, 2, 1, 3, 1, 2, 0, 2, 4, 3, 3, 0, 1, 1, 3, 0, 3, 3, 3, 3, 3, 0, 3, 3, 3, 1, 4, 4, 4, 4, 4, 3, 4, 3, 2, 3, 4, 2, 4, 0, 3, 4, 3, 3, 3, 3, 0, 4, 4, 3, 3, 2, 2, 2, 2, 2, 3, 3, 3, 3, 3, 0, 1, 3, 3, 2, 3, 3, 3, 3, 4, 3, 4, 2, 0, 0, 3, 4, 0, 2, 2, 4, 4, 4, 0, 4, 4, 2, 2, 3, 1, 4, 3, 1, 1, 3, 1, 1, 4, 3, 3, 3, 2, 3, 3, 3, 2, 3, 2, 2, 2, 3, 4, 4, 1, 3, 3, 1, 4, 2, 0, 3, 1, 4, 4, 4, 3, 0, 3, 3, 0, 2, 2, 1, 0, 0, 4, 4, 3, 4, 3, 4, 0, 1, 4, 0, 0, 0, 0, 0, 0, 0, 3, 2, 0, 1, 3, 3, 3, 0, 3, 2, 3, 1, 1, 1, 1, 3, 3, 3, 1, 1, 1, 4, 3, 1, 4, 3, 0, 1, 0, 0, 1, 0, 0, 0, 1, 1, 0, 2, 0, 2, 2, 0, 0, 2, 2, 2, 2, 2, 0, 2, 1, 0, 0, 3, 0, 3, 4, 0, 3, 3, 3, 1, 0, 0, 0, 2, 2, 2, 1, 1, 4, 4, 1, 2, 0, 1, 2, 2, 1, 1, 0, 2, 0, 2, 0, 2, 2, 0, 2, 2, 0, 2, 0, 0, 0, 2, 2, 2, 0, 2, 2, 2, 2, 0, 0, 2, 2, 0, 2, 1, 1, 2, 0, 0, 2, 2, 3, 3, 1, 3, 3, 3, 3, 1, 3, 0, 3, 1, 1, 1, 0, 1, 1, 3, 1, 3, 1, 1, 3, 0, 4, 0, 3, 3, 0, 2, 2, 2, 0, 4, 3, 3, 0, 0, 0, 0, 0, 1, 2, 0, 0, 1, 2, 2, 2, 3, 2, 2, 2, 0, 3, 0, 3, 0, 2, 0, 2, 0, 2, 0, 2, 0, 2, 0, 0, 2, 3, 0, 0, 2, 2, 3, 2, 2, 0, 0, 0, 2, 2, 2, 2, 2, 2, 0, 0, 0, 2, 2, 2, 0, 0, 2, 0, 2, 2, 2, 0, 2, 2, 3]\n"
     ]
    },
    {
     "data": {
      "image/png": "[encoded data removed]",
      "text/plain": [
       "<Figure size 576x576 with 1 Axes>"
      ]
     },
     "metadata": {},
     "output_type": "display_data"
    }
   ],
   "source": [
    "#vyberieme najvacsi komponent\n",
    "Gcc = G_knihy.subgraph(sorted(nx.connected_components(G_knihy), key=len, reverse=True)[0])\n",
    "\n",
    "#zadelime do komunit podla Louvian method\n",
    "partition_knihy = community_louvain.best_partition(Gcc)\n",
    "\n",
    "#zafarbime podla komunit\n",
    "cmap = cm.get_cmap('gist_rainbow')#, max(partition_knihy.values()) + 1)\n",
    "\n",
    "plt.figure(figsize=(8, 8))\n",
    "pos = nx.spring_layout(Gcc, seed=42)\n",
    "print(list(partition_knihy.values()))\n",
    "nx.draw_networkx_nodes(Gcc, pos, partition_knihy.keys(), node_size=30, cmap=cmap, node_color=list(partition_knihy.values()))\n",
    "nx.draw_networkx_edges(Gcc, pos, alpha=0.1)\n",
    "plt.title(\"Book Community\")\n",
    "plt.show()"
   ]
  }
 ],
 "metadata": {
  "kernelspec": {
   "display_name": "Python 3",
   "language": "python",
   "name": "python3"
  },
  "language_info": {
   "codemirror_mode": {
    "name": "ipython",
    "version": 3
   },
   "file_extension": ".py",
   "mimetype": "text/x-python",
   "name": "python",
   "nbconvert_exporter": "python",
   "pygments_lexer": "ipython3",
   "version": "3.10.0"
  }
 },
 "nbformat": 4,
 "nbformat_minor": 0
}
