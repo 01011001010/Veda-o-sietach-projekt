{
 "cells": [
  {
   "cell_type": "code",
   "execution_count": 80,
   "outputs": [],
   "source": [
    "import numpy as np\n",
    "import pandas as pd\n",
    "import networkx as nx\n",
    "import json\n",
    "from collections import Counter"
   ],
   "metadata": {
    "collapsed": false,
    "ExecuteTime": {
     "start_time": "2023-04-30T20:20:15.610353Z",
     "end_time": "2023-04-30T20:20:15.643730Z"
    }
   }
  },
  {
   "cell_type": "code",
   "execution_count": 81,
   "outputs": [],
   "source": [
    "#nainštalujte\n",
    "#!pip install isbnlib"
   ],
   "metadata": {
    "collapsed": false,
    "ExecuteTime": {
     "start_time": "2023-04-30T20:20:15.616357Z",
     "end_time": "2023-04-30T20:20:15.718026Z"
    }
   }
  },
  {
   "cell_type": "markdown",
   "source": [
    "zatial len cast siete, cele mi to zozralo calu ram\n",
    "\n",
    "pocitanie matic celkovej podobnosti je implementovane, ale pre celu siet bude asi narocne si vsetko pamatat naraz, oplati sa teda pocitat len 'stlpec' pre kazdeho uzivatela, ked sa na neho budeme pytat\n",
    "\n",
    "celkovo bude zaujiamve sa pytat aj na podobne knihy, ako aj podobnych uzivatelov\n",
    "pre knihy -> \"odporucanie, kupte si aj toto pri knihe\"\n",
    "pre pouzivatelov -> podobneho pouzivatela -> odporucime knihu, ktoru on cital, a my nie\n",
    "\n",
    "na knihy z malych komponentov sa asi nebude mat zmysel pytat, giganticky komponent bude zaujimavsi"
   ],
   "metadata": {
    "collapsed": false
   }
  },
  {
   "cell_type": "code",
   "execution_count": 82,
   "outputs": [],
   "source": [
    "from isbnlib import meta\n",
    "from isbnlib.registry import bibformatters"
   ],
   "metadata": {
    "collapsed": false,
    "ExecuteTime": {
     "start_time": "2023-04-30T20:20:15.635381Z",
     "end_time": "2023-04-30T20:20:15.718026Z"
    }
   }
  },
  {
   "cell_type": "code",
   "execution_count": 83,
   "outputs": [],
   "source": [
    "# df = pd.read_csv('data/rec-amz-Books.edges', header=None, names=['ID_reviewer', 'ISBN', 'Stars', 'Date'])"
   ],
   "metadata": {
    "collapsed": false,
    "ExecuteTime": {
     "start_time": "2023-04-30T20:20:15.643730Z",
     "end_time": "2023-04-30T20:20:15.720027Z"
    }
   }
  },
  {
   "cell_type": "code",
   "execution_count": null,
   "outputs": [],
   "source": [
    "def subgraphByListOfValues(values: pd.Series, column: str, df: pd.DataFrame) -> pd.DataFrame:\n",
    "    return df[np.isin(df[column], values)]"
   ],
   "metadata": {
    "collapsed": false
   }
  },
  {
   "cell_type": "code",
   "execution_count": 84,
   "outputs": [],
   "source": [
    "def randomSubgraph(n:int, column: str, df: pd.DataFrame, weighed: bool = True, seed: int = 3) -> pd.DataFrame:\n",
    "    np.random.seed(seed)\n",
    "    values, counts = np.unique(df[column], return_counts=True)\n",
    "    return subgraphByListOfValues(np.random.choice(values, n, replace=False, p=(counts / sum(counts)) if weighed else None), column, df)"
   ],
   "metadata": {
    "collapsed": false,
    "ExecuteTime": {
     "start_time": "2023-04-30T20:20:15.654428Z",
     "end_time": "2023-04-30T20:20:15.728026Z"
    }
   }
  },
  {
   "cell_type": "code",
   "execution_count": 85,
   "outputs": [],
   "source": [
    "# subdf = randomSubgraph(150, 'ISBN', df, seed=3)"
   ],
   "metadata": {
    "collapsed": false,
    "ExecuteTime": {
     "start_time": "2023-04-30T20:20:15.663088Z",
     "end_time": "2023-04-30T20:20:15.728026Z"
    }
   }
  },
  {
   "cell_type": "code",
   "execution_count": 86,
   "outputs": [],
   "source": [
    "# '0439023483' in subdf['ISBN']"
   ],
   "metadata": {
    "collapsed": false,
    "ExecuteTime": {
     "start_time": "2023-04-30T20:20:15.670660Z",
     "end_time": "2023-04-30T20:20:15.729031Z"
    }
   }
  },
  {
   "cell_type": "code",
   "execution_count": 87,
   "outputs": [],
   "source": [
    "# subdf\n"
   ],
   "metadata": {
    "collapsed": false,
    "ExecuteTime": {
     "start_time": "2023-04-30T20:20:15.677888Z",
     "end_time": "2023-04-30T20:20:15.729031Z"
    }
   }
  },
  {
   "cell_type": "code",
   "execution_count": 88,
   "outputs": [],
   "source": [
    "# v, c = np.unique(subdf['ISBN'] , return_counts=True)\n",
    "# v[c.argmax()]"
   ],
   "metadata": {
    "collapsed": false,
    "ExecuteTime": {
     "start_time": "2023-04-30T20:20:15.686285Z",
     "end_time": "2023-04-30T20:20:15.729031Z"
    }
   }
  },
  {
   "cell_type": "code",
   "execution_count": 89,
   "outputs": [],
   "source": [
    "class RecommendationEngine:\n",
    "    def __init__(self, filename: str):\n",
    "        self.df = pd.read_csv(filename, header=None, names=['ID_reviewer', 'ISBN','Stars','Date'])\n",
    "        self.subdf = randomSubgraph(200, 'ISBN', self.df)\n",
    "        self.SM = None\n",
    "        self.SMC = None\n",
    "        self.G: nx.classes.graph.Graph = nx.from_pandas_edgelist(self.subdf, source='ID_reviewer', target='ISBN', edge_attr='Stars')\n",
    "\n",
    "    def filterNodes(self, users: bool) -> list[str]:\n",
    "        return list(filter(lambda x: (x[0] == 'A') if users else (x[0] != 'A'), self.G.nodes()))\n",
    "\n",
    "    def similarityMatrix(self, users: bool, save: bool=False) -> pd.DataFrame:\n",
    "        # if self.SM is not None:\n",
    "        #     return self.SM\n",
    "        # A = nx.to_numpy_array(re.G)\n",
    "        # SM = A @ A\n",
    "        # if save:\n",
    "        #     self.SM = SM\n",
    "        # return SM\n",
    "        filterList = self.filterNodes(users)\n",
    "        if self.SM is not None:\n",
    "            return self.SM.loc[filterList,filterList]\n",
    "        order = self.G.nodes()\n",
    "        A = nx.to_numpy_array(self.G, nodelist=order)\n",
    "        product = A @ A\n",
    "        np.fill_diagonal(product, 0)\n",
    "        SM = pd.DataFrame(product, columns = order)\n",
    "        SM.index = order\n",
    "        if save:\n",
    "            self.SM = SM\n",
    "        return SM.loc[filterList,filterList]\n",
    "\n",
    "    def similarityMatrixCosine(self, users: bool, save: bool=False) -> np.ndarray:\n",
    "        filterList = self.filterNodes(users)\n",
    "        if self.SMC is not None:\n",
    "            return self.SMC.loc[filterList,filterList]\n",
    "        SM = self.similarityMatrix(users)\n",
    "        norms = (np.linalg.norm(SM, axis=1))\n",
    "        SMC = SM / norms[:, None] / norms[None, :]\n",
    "        np.nan_to_num(SMC, copy=False)\n",
    "        if save:\n",
    "            self.SMC = SMC\n",
    "        return SMC.loc[filterList,filterList]\n",
    "\n",
    "\n",
    "    def getMetaFromISBN(self,isbn:str) -> json:\n",
    "      SERVICE = \"goob\"\n",
    "      format_json = bibformatters[\"json\"]\n",
    "      meta_data = (format_json(meta(isbn, SERVICE)))\n",
    "      #print(meta_data)\n",
    "      return meta_data\n",
    "\n",
    "    def fromJsonToDict(self,json_file:json) -> dict:\n",
    "      return json.loads(json_file)\n",
    "\n",
    "    def getDf(self)->pd.DataFrame:\n",
    "      return self.subdf\n",
    "\n",
    "    def getBooksByUser(self,df:pd.DataFrame,id:str) ->list: #(list of ISBN for user)\n",
    "      df = df.loc[df['ID_reviewer']==id, 'ISBN'].values\n",
    "      return df\n",
    "\n",
    "    def getBooks(self,df:pd.DataFrame,id1:str,id2:str,type_:str) ->list: #same - same books, diff - different books\n",
    "      b1 = self.getBooksByUser(data,id1)\n",
    "      b2 = self.getBooksByUser(data,id2)\n",
    "      if type_ == \"same\":\n",
    "        return list(set(b1).intersection(set(b2)))\n",
    "      elif type_ == \"diff1\":\n",
    "        return list(set(b2) - set(b1)) #vsetky knihy od id2, ktore id1 necital\n",
    "      elif type_ == \"diff2\":\n",
    "        return list(set(b1) - set(b2)) #vsetky knihy od id1, ktore id2 necital\n",
    "\n",
    "    def getSimilarBooks(self,df:pd.DataFrame,id1:str,id2:str,type_:str) ->list:  #type ==(year, publisher)\n",
    "        if type_ == \"year\": #odporucame id1 knihy od uzivatela id2 na zaklade roku vydania knihy\n",
    "          books_s = self.getBooks(df,id1,id2,\"same\")\n",
    "          #print(books_s)\n",
    "          years = list()\n",
    "          for i in range(len(books_s)): #zoberieme vseetky roky a pozrieme sa aky najviac prevlada -> zoberiem okolie (-5,5) a to odporucime\n",
    "            pom = self.getMetaFromISBN(books_s[i])\n",
    "            if pom != None: #nenaslo ISBN\n",
    "              years.append(self.fromJsonToDict(pom)[\"year\"])\n",
    "          most_common_era = Counter(years).most_common(1) #rok,pocet_opakovani\n",
    "          most_common_era = [int(most_common_era[0][0])-5,int(most_common_era[0][0])+5]\n",
    "          #print(most_common_era)\n",
    "          books_d = self.getBooks(df,id1,id2,\"diff1\")\n",
    "          recommendation_by_year = list()\n",
    "          for i in range(len(books_d)): #zistime info o vsetkych kniha id2 a vyberieme nazvy tych ktorych vydania su medzi most_common_era\n",
    "            pom = self.getMetaFromISBN(books_d[i])\n",
    "            if pom != None: #nenaslo ISBN\n",
    "              if most_common_era[0] <= (int(self.fromJsonToDict(pom)[\"year\"])) <= most_common_era[1]:\n",
    "                title = self.fromJsonToDict(pom)[\"title\"]\n",
    "                year = self.fromJsonToDict(pom)[\"year\"]\n",
    "                authors = list()\n",
    "                for i in range(len(self.fromJsonToDict(pom)[\"author\"])):  #ak mame viac autorov\n",
    "                  authors.append(self.fromJsonToDict(pom)[\"author\"][i]['name'])\n",
    "                recommendation_by_year.append([title,year, authors])\n",
    "                #print(recommendation_by_year)\n",
    "          if recommendation_by_year == []:\n",
    "            recommendation_by_year = [(\"Nenasli sa ziadne knihy z rokov:\",most_common_era[0],\"-\",most_common_era[1])]\n",
    "          return recommendation_by_year\n",
    "\n",
    "        elif type_ == \"publisher\": #odporucame id1 knihy od uzivatela id2, vyberame oblubeneho vydavatelstvo\n",
    "           books_s = self.getBooks(df,id1,id2,\"same\")\n",
    "           publishers = list()\n",
    "           for i in range(len(books_s)): #zoberieme vseetky vydavatelstva -> most_common\n",
    "              pom = self.getMetaFromISBN(books_s[i])\n",
    "              if pom != None: #nenaslo ISBN\n",
    "                publishers.append(self.fromJsonToDict(pom)[\"publisher\"])\n",
    "           most_common_publisher = Counter(publishers).most_common(1) #vydavatelstvo,pocet_opakovani\n",
    "           print(most_common_publisher)\n",
    "           books_d = self.getBooks(df,id1,id2,\"diff1\")\n",
    "           recommendation_by_publisher = list()\n",
    "           for i in range(len(books_d)): #zistime info o vsetkych kniha id2 a vyberieme nazvy tych ktorych vydania su od most_common_publishe\n",
    "              pom = self.getMetaFromISBN(books_d[i])\n",
    "              if pom != None: #nenaslo ISBN\n",
    "                if most_common_publisher[0] == (self.fromJsonToDict(pom)[\"publisher\"]):\n",
    "                  title = self.fromJsonToDict(pom)[\"title\"]\n",
    "                  year = self.fromJsonToDict(pom)[\"year\"]\n",
    "                  authors = list()\n",
    "                  for i in range(len(self.fromJsonToDict(pom)[\"author\"])): #ak mame viac autorov\n",
    "                    authors.append(self.fromJsonToDict(pom)[\"author\"][i]['name'])\n",
    "                  recommendation_by_publisher.append([title,year, authors])\n",
    "                #print(recommendation_by_year)\n",
    "           if recommendation_by_publisher == []:\n",
    "              recommendation_by_publisher = [\"Nenasli sa ziadne knihy od oblubeneho vydavatela\"]\n",
    "           return recommendation_by_publisher\n"
   ],
   "metadata": {
    "collapsed": false,
    "ExecuteTime": {
     "start_time": "2023-04-30T20:20:15.708543Z",
     "end_time": "2023-04-30T20:20:15.729031Z"
    }
   }
  },
  {
   "cell_type": "code",
   "execution_count": 90,
   "metadata": {
    "collapsed": true,
    "ExecuteTime": {
     "start_time": "2023-04-30T20:20:15.717026Z",
     "end_time": "2023-04-30T20:21:25.872686Z"
    }
   },
   "outputs": [],
   "source": [
    "re = RecommendationEngine('data/rec-amz-Books.edges')"
   ]
  },
  {
   "cell_type": "code",
   "execution_count": 91,
   "outputs": [
    {
     "data": {
      "text/plain": "False"
     },
     "execution_count": 91,
     "metadata": {},
     "output_type": "execute_result"
    }
   ],
   "source": [
    "'0439023483' in re.subdf['ISBN']"
   ],
   "metadata": {
    "collapsed": false,
    "ExecuteTime": {
     "start_time": "2023-04-30T20:21:25.875686Z",
     "end_time": "2023-04-30T20:21:25.882773Z"
    }
   }
  },
  {
   "cell_type": "code",
   "execution_count": 92,
   "outputs": [
    {
     "data": {
      "text/plain": "False"
     },
     "execution_count": 92,
     "metadata": {},
     "output_type": "execute_result"
    }
   ],
   "source": [
    "nx.is_connected(re.G)"
   ],
   "metadata": {
    "collapsed": false,
    "ExecuteTime": {
     "start_time": "2023-04-30T20:21:25.881775Z",
     "end_time": "2023-04-30T20:21:25.983270Z"
    }
   }
  },
  {
   "cell_type": "code",
   "execution_count": 93,
   "outputs": [],
   "source": [
    "data = re.getDf()"
   ],
   "metadata": {
    "collapsed": false,
    "ExecuteTime": {
     "start_time": "2023-04-30T20:21:25.981342Z",
     "end_time": "2023-04-30T20:21:25.986849Z"
    }
   }
  },
  {
   "cell_type": "code",
   "execution_count": 94,
   "outputs": [
    {
     "data": {
      "text/plain": "             ID_reviewer        ISBN  Stars        Date\n539610    A300KQBH76WJSK  0061231134    4.0  1374883200\n539611     AAEPR16TFJU06  0061231134    4.0  1109203200\n539612    A1TRH2JALWQ6I0  0061231134    3.0  1328745600\n539613    A2HA1CNG8SKTUN  0061231134    1.0  1269216000\n539614    A2USQ41MEPJXXL  0061231134    3.0  1138838400\n...                  ...         ...    ...         ...\n21967025  A1F7NX5BA22PZD  B00H5SE1TG    4.0  1388880000\n22010923  A3J0W78JCYNOFA  B00HG1X9YA    5.0  1405987200\n22010924  A1GWENX3EN39VV  B00HG1X9YA    4.0  1388707200\n22010925   AN0N05A9LIJEQ  B00HG1X9YA    5.0  1389830400\n22010926  A1281JLIM0IOMS  B00HG1X9YA    5.0  1405555200\n\n[79469 rows x 4 columns]",
      "text/html": "<div>\n<style scoped>\n    .dataframe tbody tr th:only-of-type {\n        vertical-align: middle;\n    }\n\n    .dataframe tbody tr th {\n        vertical-align: top;\n    }\n\n    .dataframe thead th {\n        text-align: right;\n    }\n</style>\n<table border=\"1\" class=\"dataframe\">\n  <thead>\n    <tr style=\"text-align: right;\">\n      <th></th>\n      <th>ID_reviewer</th>\n      <th>ISBN</th>\n      <th>Stars</th>\n      <th>Date</th>\n    </tr>\n  </thead>\n  <tbody>\n    <tr>\n      <th>539610</th>\n      <td>A300KQBH76WJSK</td>\n      <td>0061231134</td>\n      <td>4.0</td>\n      <td>1374883200</td>\n    </tr>\n    <tr>\n      <th>539611</th>\n      <td>AAEPR16TFJU06</td>\n      <td>0061231134</td>\n      <td>4.0</td>\n      <td>1109203200</td>\n    </tr>\n    <tr>\n      <th>539612</th>\n      <td>A1TRH2JALWQ6I0</td>\n      <td>0061231134</td>\n      <td>3.0</td>\n      <td>1328745600</td>\n    </tr>\n    <tr>\n      <th>539613</th>\n      <td>A2HA1CNG8SKTUN</td>\n      <td>0061231134</td>\n      <td>1.0</td>\n      <td>1269216000</td>\n    </tr>\n    <tr>\n      <th>539614</th>\n      <td>A2USQ41MEPJXXL</td>\n      <td>0061231134</td>\n      <td>3.0</td>\n      <td>1138838400</td>\n    </tr>\n    <tr>\n      <th>...</th>\n      <td>...</td>\n      <td>...</td>\n      <td>...</td>\n      <td>...</td>\n    </tr>\n    <tr>\n      <th>21967025</th>\n      <td>A1F7NX5BA22PZD</td>\n      <td>B00H5SE1TG</td>\n      <td>4.0</td>\n      <td>1388880000</td>\n    </tr>\n    <tr>\n      <th>22010923</th>\n      <td>A3J0W78JCYNOFA</td>\n      <td>B00HG1X9YA</td>\n      <td>5.0</td>\n      <td>1405987200</td>\n    </tr>\n    <tr>\n      <th>22010924</th>\n      <td>A1GWENX3EN39VV</td>\n      <td>B00HG1X9YA</td>\n      <td>4.0</td>\n      <td>1388707200</td>\n    </tr>\n    <tr>\n      <th>22010925</th>\n      <td>AN0N05A9LIJEQ</td>\n      <td>B00HG1X9YA</td>\n      <td>5.0</td>\n      <td>1389830400</td>\n    </tr>\n    <tr>\n      <th>22010926</th>\n      <td>A1281JLIM0IOMS</td>\n      <td>B00HG1X9YA</td>\n      <td>5.0</td>\n      <td>1405555200</td>\n    </tr>\n  </tbody>\n</table>\n<p>79469 rows × 4 columns</p>\n</div>"
     },
     "execution_count": 94,
     "metadata": {},
     "output_type": "execute_result"
    }
   ],
   "source": [
    "re.subdf"
   ],
   "metadata": {
    "collapsed": false,
    "ExecuteTime": {
     "start_time": "2023-04-30T20:21:25.988850Z",
     "end_time": "2023-04-30T20:21:26.001201Z"
    }
   }
  },
  {
   "cell_type": "code",
   "execution_count": null,
   "outputs": [],
   "source": [
    "re.similarityMatrix(users=True)"
   ],
   "metadata": {
    "collapsed": false,
    "ExecuteTime": {
     "start_time": "2023-04-24T23:10:13.447775Z",
     "end_time": "2023-04-24T23:10:33.056933Z"
    }
   }
  },
  {
   "cell_type": "code",
   "execution_count": null,
   "outputs": [],
   "source": [
    "re.similarityMatrix(users=False)"
   ],
   "metadata": {
    "collapsed": false,
    "ExecuteTime": {
     "start_time": "2023-04-24T23:10:33.055936Z",
     "end_time": "2023-04-24T23:10:57.652943Z"
    }
   }
  },
  {
   "cell_type": "code",
   "execution_count": null,
   "outputs": [],
   "source": [
    "re.similarityMatrixCosine(users=True)"
   ],
   "metadata": {
    "collapsed": false,
    "ExecuteTime": {
     "start_time": "2023-04-24T23:10:57.650949Z",
     "end_time": "2023-04-24T23:11:24.412279Z"
    }
   }
  },
  {
   "cell_type": "code",
   "execution_count": null,
   "outputs": [],
   "source": [
    "re.similarityMatrixCosine(users=False)"
   ],
   "metadata": {
    "collapsed": false,
    "ExecuteTime": {
     "start_time": "2023-04-24T23:11:24.411277Z",
     "end_time": "2023-04-24T23:11:49.985743Z"
    }
   }
  },
  {
   "cell_type": "code",
   "execution_count": null,
   "outputs": [],
   "source": [
    "meta_json_book = re.getMetaFromISBN(\"0000013714\")\n",
    "list_meta = re.fromJsonToDict(meta_json_book)\n",
    "print(list_meta)\n",
    "print(list_meta[\"publisher\"])"
   ],
   "metadata": {
    "collapsed": false,
    "ExecuteTime": {
     "start_time": "2023-04-30T19:56:56.877712Z",
     "end_time": "2023-04-30T19:56:57.347610Z"
    }
   }
  },
  {
   "cell_type": "code",
   "execution_count": null,
   "outputs": [],
   "source": [
    "print(re.getBooksByUser(data,\"A1KP12IVP6LAGL\"))\n",
    "books_users = re.getBooks(data,\"A1KP12IVP6LAGL\",\"AG7R3MMF8QLDT\",\"same\")\n",
    "print(\"same:\" ,books_users)\n",
    "books_users = re.getBooks(data,\"A1KP12IVP6LAGL\",\"AG7R3MMF8QLDT\",\"diff1\")\n",
    "print(\"diff1:\" ,books_users)\n",
    "books_users = re.getBooks(data,\"A1KP12IVP6LAGL\",\"AG7R3MMF8QLDT\",\"diff2\")\n",
    "print(\"diff2:\" ,books_users)"
   ],
   "metadata": {
    "collapsed": false,
    "ExecuteTime": {
     "start_time": "2023-04-30T19:56:57.347610Z",
     "end_time": "2023-04-30T19:57:04.511351Z"
    }
   }
  },
  {
   "cell_type": "code",
   "execution_count": null,
   "outputs": [],
   "source": [
    "print(\"Recommendation by year: \")\n",
    "books_recomendation = re.getSimilarBooks(data,\"A1KP12IVP6LAGL\",\"AG7R3MMF8QLDT\",\"year\")\n",
    "print(books_recomendation)\n",
    "print(\"Recommendation by publisher: \")\n",
    "books_recomendation = re.getSimilarBooks(data,\"A1KP12IVP6LAGL\",\"AG7R3MMF8QLDT\",\"publisher\")\n",
    "print(books_recomendation)"
   ],
   "metadata": {
    "collapsed": false
   }
  }
 ],
 "metadata": {
  "kernelspec": {
   "display_name": "Python 3",
   "language": "python",
   "name": "python3"
  },
  "language_info": {
   "codemirror_mode": {
    "name": "ipython",
    "version": 2
   },
   "file_extension": ".py",
   "mimetype": "text/x-python",
   "name": "python",
   "nbconvert_exporter": "python",
   "pygments_lexer": "ipython2",
   "version": "2.7.6"
  }
 },
 "nbformat": 4,
 "nbformat_minor": 0
}
