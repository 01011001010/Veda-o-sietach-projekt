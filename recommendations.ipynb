{
 "cells": [
  {
   "cell_type": "code",
   "execution_count": 74,
   "outputs": [],
   "source": [
    "import numpy as np\n",
    "import pandas as pd\n",
    "import networkx as nx\n",
    "import json\n",
    "from collections import Counter\n",
    "#nainštalujte pip install isbnlib\n",
    "from isbnlib import meta\n",
    "from isbnlib.registry import bibformatters"
   ],
   "metadata": {
    "collapsed": false,
    "ExecuteTime": {
     "start_time": "2023-05-08T18:20:41.576978Z",
     "end_time": "2023-05-08T18:20:41.639224Z"
    }
   }
  },
  {
   "cell_type": "code",
   "execution_count": 74,
   "outputs": [],
   "source": [],
   "metadata": {
    "collapsed": false,
    "ExecuteTime": {
     "start_time": "2023-05-08T18:20:41.584537Z",
     "end_time": "2023-05-08T18:20:41.640225Z"
    }
   }
  },
  {
   "cell_type": "code",
   "execution_count": 75,
   "outputs": [],
   "source": [
    "# np.ones((87085, 87085))"
   ],
   "metadata": {
    "collapsed": false,
    "ExecuteTime": {
     "start_time": "2023-05-08T18:20:41.592056Z",
     "end_time": "2023-05-08T18:20:41.689884Z"
    }
   }
  },
  {
   "cell_type": "code",
   "execution_count": 76,
   "outputs": [],
   "source": [
    "# np.ones((10356390, 10356390))"
   ],
   "metadata": {
    "collapsed": false,
    "ExecuteTime": {
     "start_time": "2023-05-08T18:20:41.603660Z",
     "end_time": "2023-05-08T18:20:41.703392Z"
    }
   }
  },
  {
   "cell_type": "code",
   "execution_count": 77,
   "outputs": [],
   "source": [
    "def subgraphByListOfValues(values: pd.Series, column: str, df: pd.DataFrame) -> pd.DataFrame:\n",
    "    return df[np.isin(df[column], values)]"
   ],
   "metadata": {
    "collapsed": false,
    "ExecuteTime": {
     "start_time": "2023-05-08T18:20:41.614156Z",
     "end_time": "2023-05-08T18:20:41.704392Z"
    }
   }
  },
  {
   "cell_type": "code",
   "execution_count": 78,
   "outputs": [],
   "source": [
    "def randomSubgraph(n:int, column: str, df: pd.DataFrame, weighed: bool = True, seed: int = 3, minDeg: int= 10) -> pd.DataFrame:\n",
    "    np.random.seed(seed)\n",
    "    values, counts = np.unique(df[column], return_counts=True)\n",
    "    values, counts = values[counts > minDeg],  counts[counts > minDeg] # nech nemame knihy s velmi malo hodnoteniami (resp uzivatelov co majo citaju)\n",
    "    return subgraphByListOfValues(np.random.choice(values, n, replace=False, p=(counts / sum(counts)) if weighed else None), column, df)"
   ],
   "metadata": {
    "collapsed": false,
    "ExecuteTime": {
     "start_time": "2023-05-08T18:20:41.627084Z",
     "end_time": "2023-05-08T18:20:41.704392Z"
    }
   }
  },
  {
   "cell_type": "code",
   "execution_count": 79,
   "outputs": [],
   "source": [
    "class RecommendationEngine:\n",
    "    def __init__(self, filename: str, seed: int=3, n: int = 200, col: str = \"ISBN\"):\n",
    "        self.df = pd.read_csv(filename, header=None, names=['ID_reviewer', 'ISBN','Stars','Date'])\n",
    "        self.subdf = randomSubgraph(n, col, self.df, seed=seed)\n",
    "        self.SM = {True: None, False: None}\n",
    "        self.SMC = {True: None, False: None}\n",
    "        self.G: nx.classes.graph.Graph = nx.from_pandas_edgelist(self.subdf, source='ID_reviewer', target='ISBN', edge_attr='Stars')\n",
    "        self.userOrder = self.filterNodes(True)\n",
    "        self.bookOrder = self.filterNodes(False)\n",
    "\n",
    "    def filterNodes(self, users: bool) -> list[str]:\n",
    "        return list(filter(lambda x: (x[0] == 'A') if users else (x[0] != 'A'), self.G.nodes()))\n",
    "\n",
    "    def similarityMatrix(self, users: bool, save: bool=False) -> pd.DataFrame:  # use wisely!\n",
    "        if self.SM[users] is not None:\n",
    "            return self.SM[users]\n",
    "        userOrder = self.filterNodes(True)\n",
    "        bookOrder = self.filterNodes(False)\n",
    "        A = nx.algorithms.bipartite.matrix.biadjacency_matrix(self.G, userOrder, bookOrder).toarray()\n",
    "        product = A @ A.T if users else A.T @ A\n",
    "        np.fill_diagonal(product, 0)\n",
    "        order = userOrder if users else bookOrder\n",
    "        SM = pd.DataFrame(product, columns = order)\n",
    "        SM.index = order\n",
    "        if save:\n",
    "            self.SM[users] = SM\n",
    "        return SM\n",
    "\n",
    "    def similarityMatrixCosine(self, users: bool, save: bool=False) -> np.ndarray:  # use wisely!\n",
    "        if self.SMC[users] is not None:\n",
    "            return self.SMC[users]\n",
    "        SM = self.similarityMatrix(users)\n",
    "        norms = (np.linalg.norm(SM, axis=1))\n",
    "        SMC = SM / norms[:, None] / norms[None, :]\n",
    "        np.nan_to_num(SMC, copy=False)\n",
    "        if save:\n",
    "            self.SMC[users] = SMC\n",
    "        return SMC\n",
    "\n",
    "    def similarityVectorForUser(self, user:str, userOrder:list[str] = None, cosine:bool = True):\n",
    "        if userOrder is None:\n",
    "            userOrder = self.filterNodes(True)\n",
    "        u = userOrder.index(user)\n",
    "        A = nx.algorithms.bipartite.matrix.biadjacency_matrix(self.G, userOrder, weight='Stars').toarray()\n",
    "        result = np.zeros((len(userOrder)))\n",
    "        for r in range(len(userOrder)):\n",
    "            result[r] = np.dot(A[r, :], A[u, :])\n",
    "            if cosine:\n",
    "                result[r] /= np.sqrt(np.dot(A[r, :], A[r, :]))\n",
    "        if cosine:\n",
    "            result /= np.sqrt(np.dot(A[u, :], A[u, :]))\n",
    "        result[u] = 0\n",
    "        return result, np.array(userOrder)\n",
    "\n",
    "    def getNMostSimilarUsers(self, user:str, n:int, ignoreTotalMatch=True):\n",
    "        sim, users = self.similarityVectorForUser(user, cosine=True)\n",
    "        if ignoreTotalMatch:\n",
    "            sim, users = sim[sim < 0.9999], users[sim < 0.9999]\n",
    "        sim.argsort()\n",
    "        return users[sim.argsort()[-n:]]\n",
    "\n",
    "    def getSimilarBooksToABook(self, book):\n",
    "        df = self.similarityMatrixCosine(False)\n",
    "        return list(df[book][df[book] == df[book].max()].index)\n",
    "\n",
    "    def getMetaFromISBN(self,isbn:str) -> json:\n",
    "      SERVICE = \"goob\"\n",
    "      format_json = bibformatters[\"json\"]\n",
    "      meta_data = (format_json(meta(isbn, SERVICE)))\n",
    "      #print(meta_data)\n",
    "      return meta_data\n",
    "\n",
    "    def fromJsonToDict(self,json_file:json) -> dict:\n",
    "      return json.loads(json_file)\n",
    "\n",
    "    def getDf(self)->pd.DataFrame:\n",
    "      return self.subdf\n",
    "\n",
    "    def getBooksByUser(self,df:pd.DataFrame, id:str) ->list: #(list of ISBN for user)\n",
    "      # df = df.loc[df['ID_reviewer']==id, 'ISBN'].values\n",
    "      # return df\n",
    "        return list(self.G.neighbors(id))\n",
    "\n",
    "    def getBooks(self,df:pd.DataFrame,id1:str,id2:str,type_:str) ->list: #same - same books, diff - different books\n",
    "      b1 = self.getBooksByUser(self.getDf(),id1)\n",
    "      b2 = self.getBooksByUser(self.getDf(),id2)\n",
    "      if type_ == \"same\":\n",
    "        return list(set(b1).intersection(set(b2)))\n",
    "      elif type_ == \"diff1\":\n",
    "        return list(set(b2) - set(b1)) #vsetky knihy od id2, ktore id1 necital\n",
    "      elif type_ == \"diff2\":\n",
    "        return list(set(b1) - set(b2)) #vsetky knihy od id1, ktore id2 necital\n",
    "\n",
    "    def getSimilarBooks(self,df:pd.DataFrame,id1:str,id2:str,type_:str) ->list:  #type ==(year, publisher)\n",
    "        if type_ == \"year\": #odporucame id1 knihy od uzivatela id2 na zaklade roku vydania knihy\n",
    "          books_s = self.getBooks(df,id1,id2,\"same\")\n",
    "          #print(books_s)\n",
    "          years = list()\n",
    "          for i in range(len(books_s)): #zoberieme vseetky roky a pozrieme sa aky najviac prevlada -> zoberiem okolie (-5,5) a to odporucime\n",
    "            pom = self.getMetaFromISBN(books_s[i])\n",
    "            if pom != None: #nenaslo ISBN\n",
    "              years.append(self.fromJsonToDict(pom)[\"year\"])\n",
    "          most_common_era = Counter(years).most_common(1) #rok,pocet_opakovani\n",
    "          most_common_era = [int(most_common_era[0][0])-5,int(most_common_era[0][0])+5]\n",
    "          #print(most_common_era)\n",
    "          books_d = self.getBooks(df,id1,id2,\"diff1\")\n",
    "          recommendation_by_year = list()\n",
    "          for i in range(len(books_d)): #zistime info o vsetkych kniha id2 a vyberieme nazvy tych ktorych vydania su medzi most_common_era\n",
    "            pom = self.getMetaFromISBN(books_d[i])\n",
    "            if pom != None: #nenaslo ISBN\n",
    "              if most_common_era[0] <= (int(self.fromJsonToDict(pom)[\"year\"])) <= most_common_era[1]:\n",
    "                title = self.fromJsonToDict(pom)[\"title\"]\n",
    "                year = self.fromJsonToDict(pom)[\"year\"]\n",
    "                authors = list()\n",
    "                for i in range(len(self.fromJsonToDict(pom)[\"author\"])):  #ak mame viac autorov\n",
    "                  authors.append(self.fromJsonToDict(pom)[\"author\"][i]['name'])\n",
    "                recommendation_by_year.append([title,year, authors])\n",
    "                #print(recommendation_by_year)\n",
    "          if recommendation_by_year == []:\n",
    "            recommendation_by_year = [(\"Nenasli sa ziadne knihy z rokov:\",most_common_era[0],\"-\",most_common_era[1])]\n",
    "          return recommendation_by_year\n",
    "\n",
    "        elif type_ == \"publisher\": #odporucame id1 knihy od uzivatela id2, vyberame oblubeneho vydavatelstvo\n",
    "           books_s = self.getBooks(df,id1,id2,\"same\")\n",
    "           publishers = list()\n",
    "           for i in range(len(books_s)): #zoberieme vseetky vydavatelstva -> most_common\n",
    "              pom = self.getMetaFromISBN(books_s[i])\n",
    "              if pom != None: #nenaslo ISBN\n",
    "                publishers.append(self.fromJsonToDict(pom)[\"publisher\"])\n",
    "           most_common_publisher = Counter(publishers).most_common(1) #vydavatelstvo,pocet_opakovani\n",
    "           print(most_common_publisher)\n",
    "           books_d = self.getBooks(df,id1,id2,\"diff1\")\n",
    "           recommendation_by_publisher = list()\n",
    "           for i in range(len(books_d)): #zistime info o vsetkych kniha id2 a vyberieme nazvy tych ktorych vydania su od most_common_publishe\n",
    "              pom = self.getMetaFromISBN(books_d[i])\n",
    "              if pom != None: #nenaslo ISBN\n",
    "                if most_common_publisher[0] == (self.fromJsonToDict(pom)[\"publisher\"]):\n",
    "                  title = self.fromJsonToDict(pom)[\"title\"]\n",
    "                  year = self.fromJsonToDict(pom)[\"year\"]\n",
    "                  authors = list()\n",
    "                  for i in range(len(self.fromJsonToDict(pom)[\"author\"])): #ak mame viac autorov\n",
    "                    authors.append(self.fromJsonToDict(pom)[\"author\"][i]['name'])\n",
    "                  recommendation_by_publisher.append([title,year, authors])\n",
    "                #print(recommendation_by_year)\n",
    "           if recommendation_by_publisher == []:\n",
    "              recommendation_by_publisher = [\"Nenasli sa ziadne knihy od oblubeneho vydavatela\"]\n",
    "           return recommendation_by_publisher\n"
   ],
   "metadata": {
    "collapsed": false,
    "ExecuteTime": {
     "start_time": "2023-05-08T18:20:41.655934Z",
     "end_time": "2023-05-08T18:20:41.705392Z"
    }
   }
  },
  {
   "cell_type": "code",
   "execution_count": 79,
   "outputs": [],
   "source": [],
   "metadata": {
    "collapsed": false,
    "ExecuteTime": {
     "start_time": "2023-05-08T18:20:41.665176Z",
     "end_time": "2023-05-08T18:20:41.705392Z"
    }
   }
  },
  {
   "cell_type": "code",
   "execution_count": 80,
   "metadata": {
    "collapsed": true,
    "ExecuteTime": {
     "start_time": "2023-05-08T18:20:41.669871Z",
     "end_time": "2023-05-08T18:22:31.057410Z"
    }
   },
   "outputs": [],
   "source": [
    "re = RecommendationEngine('data/rec-amz-Books.edges', n=200, seed=76972)"
   ]
  },
  {
   "cell_type": "code",
   "execution_count": 81,
   "outputs": [
    {
     "name": "stdout",
     "output_type": "stream",
     "text": [
      "number of users: 87085\n"
     ]
    }
   ],
   "source": [
    "print(f'number of users: {len(re.filterNodes(True))}')"
   ],
   "metadata": {
    "collapsed": false,
    "ExecuteTime": {
     "start_time": "2023-05-08T18:22:31.062414Z",
     "end_time": "2023-05-08T18:22:31.080447Z"
    }
   }
  },
  {
   "cell_type": "code",
   "execution_count": 82,
   "outputs": [
    {
     "data": {
      "text/plain": "['0060987103',\n '0061537934',\n '0307476073',\n '0316098329',\n '0575081384',\n '0788749730',\n '1439142009']"
     },
     "execution_count": 82,
     "metadata": {},
     "output_type": "execute_result"
    }
   ],
   "source": [],
   "metadata": {
    "collapsed": false,
    "ExecuteTime": {
     "start_time": "2023-05-08T18:22:31.083958Z",
     "end_time": "2023-05-08T18:22:31.179207Z"
    }
   }
  },
  {
   "cell_type": "code",
   "execution_count": 83,
   "outputs": [
    {
     "name": "stdout",
     "output_type": "stream",
     "text": [
      "3 most similar users to A2BWZNAJCDKQ96: ['A1FTBXHM3DJTEA' 'ARSDJ482Z8MGV' 'AI3AUM07TTPE1']\n",
      "most similar books to 1477448616: ['B00DP8R3P4']\n"
     ]
    }
   ],
   "source": [
    "randomUser = np.random.choice(re.filterNodes(True))\n",
    "randomBook = np.random.choice(re.filterNodes(False))\n",
    "print(f'3 most similar users to {randomUser}: {re.getNMostSimilarUsers(randomUser, 3)}')\n",
    "print(f'most similar books to {randomBook}: {re.getSimilarBooksToABook(randomBook)}')# vela podobnych znamena, ze kniha si nie je podobna so ziadnou knihou, teda je izolovana"
   ],
   "metadata": {
    "collapsed": false,
    "ExecuteTime": {
     "start_time": "2023-05-08T18:22:31.179207Z",
     "end_time": "2023-05-08T18:23:23.226329Z"
    }
   }
  },
  {
   "cell_type": "markdown",
   "source": [
    "ukazkovy outupt:\n",
    "most similar books to 1858600073: ['0786407735']\n",
    "ku knihe \"They Walked With Jesus: Past Life Experience With Christ\", to naslo \"Genocide and Rescue in Wolyn: Recollections of the Ukrainian Nationalist Ethnic Cleansing Campaign Against the Poles During World War II\", co myslim nie je uplne odveci odporucanie (na to aku malu podmnozinu knih mame)"
   ],
   "metadata": {
    "collapsed": false
   }
  },
  {
   "cell_type": "markdown",
   "source": [
    "pri hladani podobnych uzivatelov ignoreTotalMatch paraemter True ignoruje dokonale podobnych pouzivatelov, ty bu nemali ake ine knihy odporucit\n",
    "pri podobnych knihach, uz chceme ja dokolane zhody"
   ],
   "metadata": {
    "collapsed": false
   }
  },
  {
   "cell_type": "code",
   "execution_count": 84,
   "outputs": [
    {
     "data": {
      "text/plain": "            006057531X  0060593237  0060937750  0060987103  0061120618   \n006057531X           0           0           0           0           0  \\\n0060593237           0           0           0           0           0   \n0060937750           0           0           0           1           0   \n0060987103           0           0           1           0           0   \n0061120618           0           0           0           0           0   \n...                ...         ...         ...         ...         ...   \nB00HCTPAXE           0           0           0           0           0   \nB00HG3COP8           0           0           0           0           0   \nB00KSBQI84           0           0           0           0           0   \nB00L6HH1O4           0           0           0           0           0   \nB00L7H0RXA           0           0           0           0           0   \n\n            0061537934  0061774804  0061950726  0062022326  0071445137  ...   \n006057531X           1           0           0           1           0  ...  \\\n0060593237           0           0           0           0           0  ...   \n0060937750           0           0           0           0           0  ...   \n0060987103          23           2           2           0           0  ...   \n0061120618           2           0           0           0           0  ...   \n...                ...         ...         ...         ...         ...  ...   \nB00HCTPAXE           0           0           0           0           0  ...   \nB00HG3COP8           0           0           0           0           0  ...   \nB00KSBQI84           0           0           0           0           0  ...   \nB00L6HH1O4           0           0           0           0           0  ...   \nB00L7H0RXA           0           0           0           0           0  ...   \n\n            B00C2L7N4G  B00CK8CKZS  B00DP8R3P4  B00GJ371PE  B00H39Y6ZQ   \n006057531X           0           0           0           0           0  \\\n0060593237           0           0           0           0           0   \n0060937750           0           0           0           0           0   \n0060987103           0           0           0           0           0   \n0061120618           0           0           0           0           0   \n...                ...         ...         ...         ...         ...   \nB00HCTPAXE           0           0           0           0           0   \nB00HG3COP8           0           0           0           0           0   \nB00KSBQI84           0           0           0           0           0   \nB00L6HH1O4           0           0           0           0           0   \nB00L7H0RXA           0           0           0           0           0   \n\n            B00HCTPAXE  B00HG3COP8  B00KSBQI84  B00L6HH1O4  B00L7H0RXA  \n006057531X           0           0           0           0           0  \n0060593237           0           0           0           0           0  \n0060937750           0           0           0           0           0  \n0060987103           0           0           0           0           0  \n0061120618           0           0           0           0           0  \n...                ...         ...         ...         ...         ...  \nB00HCTPAXE           0           0           0           0           0  \nB00HG3COP8           0           0           0           0           0  \nB00KSBQI84           0           0           0           0           0  \nB00L6HH1O4           0           0           0           0           0  \nB00L7H0RXA           0           0           0           0           0  \n\n[200 rows x 200 columns]",
      "text/html": "<div>\n<style scoped>\n    .dataframe tbody tr th:only-of-type {\n        vertical-align: middle;\n    }\n\n    .dataframe tbody tr th {\n        vertical-align: top;\n    }\n\n    .dataframe thead th {\n        text-align: right;\n    }\n</style>\n<table border=\"1\" class=\"dataframe\">\n  <thead>\n    <tr style=\"text-align: right;\">\n      <th></th>\n      <th>006057531X</th>\n      <th>0060593237</th>\n      <th>0060937750</th>\n      <th>0060987103</th>\n      <th>0061120618</th>\n      <th>0061537934</th>\n      <th>0061774804</th>\n      <th>0061950726</th>\n      <th>0062022326</th>\n      <th>0071445137</th>\n      <th>...</th>\n      <th>B00C2L7N4G</th>\n      <th>B00CK8CKZS</th>\n      <th>B00DP8R3P4</th>\n      <th>B00GJ371PE</th>\n      <th>B00H39Y6ZQ</th>\n      <th>B00HCTPAXE</th>\n      <th>B00HG3COP8</th>\n      <th>B00KSBQI84</th>\n      <th>B00L6HH1O4</th>\n      <th>B00L7H0RXA</th>\n    </tr>\n  </thead>\n  <tbody>\n    <tr>\n      <th>006057531X</th>\n      <td>0</td>\n      <td>0</td>\n      <td>0</td>\n      <td>0</td>\n      <td>0</td>\n      <td>1</td>\n      <td>0</td>\n      <td>0</td>\n      <td>1</td>\n      <td>0</td>\n      <td>...</td>\n      <td>0</td>\n      <td>0</td>\n      <td>0</td>\n      <td>0</td>\n      <td>0</td>\n      <td>0</td>\n      <td>0</td>\n      <td>0</td>\n      <td>0</td>\n      <td>0</td>\n    </tr>\n    <tr>\n      <th>0060593237</th>\n      <td>0</td>\n      <td>0</td>\n      <td>0</td>\n      <td>0</td>\n      <td>0</td>\n      <td>0</td>\n      <td>0</td>\n      <td>0</td>\n      <td>0</td>\n      <td>0</td>\n      <td>...</td>\n      <td>0</td>\n      <td>0</td>\n      <td>0</td>\n      <td>0</td>\n      <td>0</td>\n      <td>0</td>\n      <td>0</td>\n      <td>0</td>\n      <td>0</td>\n      <td>0</td>\n    </tr>\n    <tr>\n      <th>0060937750</th>\n      <td>0</td>\n      <td>0</td>\n      <td>0</td>\n      <td>1</td>\n      <td>0</td>\n      <td>0</td>\n      <td>0</td>\n      <td>0</td>\n      <td>0</td>\n      <td>0</td>\n      <td>...</td>\n      <td>0</td>\n      <td>0</td>\n      <td>0</td>\n      <td>0</td>\n      <td>0</td>\n      <td>0</td>\n      <td>0</td>\n      <td>0</td>\n      <td>0</td>\n      <td>0</td>\n    </tr>\n    <tr>\n      <th>0060987103</th>\n      <td>0</td>\n      <td>0</td>\n      <td>1</td>\n      <td>0</td>\n      <td>0</td>\n      <td>23</td>\n      <td>2</td>\n      <td>2</td>\n      <td>0</td>\n      <td>0</td>\n      <td>...</td>\n      <td>0</td>\n      <td>0</td>\n      <td>0</td>\n      <td>0</td>\n      <td>0</td>\n      <td>0</td>\n      <td>0</td>\n      <td>0</td>\n      <td>0</td>\n      <td>0</td>\n    </tr>\n    <tr>\n      <th>0061120618</th>\n      <td>0</td>\n      <td>0</td>\n      <td>0</td>\n      <td>0</td>\n      <td>0</td>\n      <td>2</td>\n      <td>0</td>\n      <td>0</td>\n      <td>0</td>\n      <td>0</td>\n      <td>...</td>\n      <td>0</td>\n      <td>0</td>\n      <td>0</td>\n      <td>0</td>\n      <td>0</td>\n      <td>0</td>\n      <td>0</td>\n      <td>0</td>\n      <td>0</td>\n      <td>0</td>\n    </tr>\n    <tr>\n      <th>...</th>\n      <td>...</td>\n      <td>...</td>\n      <td>...</td>\n      <td>...</td>\n      <td>...</td>\n      <td>...</td>\n      <td>...</td>\n      <td>...</td>\n      <td>...</td>\n      <td>...</td>\n      <td>...</td>\n      <td>...</td>\n      <td>...</td>\n      <td>...</td>\n      <td>...</td>\n      <td>...</td>\n      <td>...</td>\n      <td>...</td>\n      <td>...</td>\n      <td>...</td>\n      <td>...</td>\n    </tr>\n    <tr>\n      <th>B00HCTPAXE</th>\n      <td>0</td>\n      <td>0</td>\n      <td>0</td>\n      <td>0</td>\n      <td>0</td>\n      <td>0</td>\n      <td>0</td>\n      <td>0</td>\n      <td>0</td>\n      <td>0</td>\n      <td>...</td>\n      <td>0</td>\n      <td>0</td>\n      <td>0</td>\n      <td>0</td>\n      <td>0</td>\n      <td>0</td>\n      <td>0</td>\n      <td>0</td>\n      <td>0</td>\n      <td>0</td>\n    </tr>\n    <tr>\n      <th>B00HG3COP8</th>\n      <td>0</td>\n      <td>0</td>\n      <td>0</td>\n      <td>0</td>\n      <td>0</td>\n      <td>0</td>\n      <td>0</td>\n      <td>0</td>\n      <td>0</td>\n      <td>0</td>\n      <td>...</td>\n      <td>0</td>\n      <td>0</td>\n      <td>0</td>\n      <td>0</td>\n      <td>0</td>\n      <td>0</td>\n      <td>0</td>\n      <td>0</td>\n      <td>0</td>\n      <td>0</td>\n    </tr>\n    <tr>\n      <th>B00KSBQI84</th>\n      <td>0</td>\n      <td>0</td>\n      <td>0</td>\n      <td>0</td>\n      <td>0</td>\n      <td>0</td>\n      <td>0</td>\n      <td>0</td>\n      <td>0</td>\n      <td>0</td>\n      <td>...</td>\n      <td>0</td>\n      <td>0</td>\n      <td>0</td>\n      <td>0</td>\n      <td>0</td>\n      <td>0</td>\n      <td>0</td>\n      <td>0</td>\n      <td>0</td>\n      <td>0</td>\n    </tr>\n    <tr>\n      <th>B00L6HH1O4</th>\n      <td>0</td>\n      <td>0</td>\n      <td>0</td>\n      <td>0</td>\n      <td>0</td>\n      <td>0</td>\n      <td>0</td>\n      <td>0</td>\n      <td>0</td>\n      <td>0</td>\n      <td>...</td>\n      <td>0</td>\n      <td>0</td>\n      <td>0</td>\n      <td>0</td>\n      <td>0</td>\n      <td>0</td>\n      <td>0</td>\n      <td>0</td>\n      <td>0</td>\n      <td>0</td>\n    </tr>\n    <tr>\n      <th>B00L7H0RXA</th>\n      <td>0</td>\n      <td>0</td>\n      <td>0</td>\n      <td>0</td>\n      <td>0</td>\n      <td>0</td>\n      <td>0</td>\n      <td>0</td>\n      <td>0</td>\n      <td>0</td>\n      <td>...</td>\n      <td>0</td>\n      <td>0</td>\n      <td>0</td>\n      <td>0</td>\n      <td>0</td>\n      <td>0</td>\n      <td>0</td>\n      <td>0</td>\n      <td>0</td>\n      <td>0</td>\n    </tr>\n  </tbody>\n</table>\n<p>200 rows × 200 columns</p>\n</div>"
     },
     "metadata": {},
     "output_type": "display_data"
    }
   ],
   "source": [
    "display(re.similarityMatrix(False, save=True))\n",
    "# pre users je matica moc velka...n neodporucam to skusat, a ani pre vela knih, to dlho trava..., lebo je tem vela user-ov, ale za cca min to zvladne"
   ],
   "metadata": {
    "collapsed": false,
    "ExecuteTime": {
     "start_time": "2023-05-08T18:23:23.225328Z",
     "end_time": "2023-05-08T18:24:07.017068Z"
    }
   }
  },
  {
   "cell_type": "markdown",
   "source": [],
   "metadata": {
    "collapsed": false
   }
  },
  {
   "cell_type": "markdown",
   "source": [
    "pre cast niszie, novy seed asi dost upravil podmnozinu pouzivatelov a knih, ktora bola vybrana"
   ],
   "metadata": {
    "collapsed": false
   }
  },
  {
   "cell_type": "code",
   "execution_count": 85,
   "outputs": [
    {
     "name": "stdout",
     "output_type": "stream",
     "text": [
      "{'type': 'book', 'title': 'The Art Of Racing In The Rain', 'author': [{'name': 'Garth Stein'}], 'year': '2008', 'identifier': [{'type': 'ISBN', 'id': '9780061537936'}], 'publisher': 'Harper'}\n",
      "Harper\n",
      "{'type': 'book', 'title': 'The Eradication Dilemma', 'author': [{'name': 'William Wilkerson'}], 'year': '2011', 'identifier': [{'type': 'ISBN', 'id': '9781937387709'}], 'publisher': ''}\n"
     ]
    }
   ],
   "source": [
    "meta_json_book = re.getMetaFromISBN(\"0061537934\")\n",
    "list_meta = re.fromJsonToDict(meta_json_book)\n",
    "print(list_meta)\n",
    "print(list_meta[\"publisher\"])\n",
    "\n",
    "print(re.fromJsonToDict(re.getMetaFromISBN(re.getSimilarBooksToABook(\"0061537934\")[0])))"
   ],
   "metadata": {
    "collapsed": false,
    "ExecuteTime": {
     "start_time": "2023-05-08T18:24:07.021582Z",
     "end_time": "2023-05-08T18:24:07.031716Z"
    }
   }
  },
  {
   "cell_type": "code",
   "execution_count": 85,
   "outputs": [],
   "source": [],
   "metadata": {
    "collapsed": false,
    "ExecuteTime": {
     "start_time": "2023-05-08T18:24:07.031716Z",
     "end_time": "2023-05-08T18:24:07.069364Z"
    }
   }
  },
  {
   "cell_type": "code",
   "execution_count": 91,
   "outputs": [
    {
     "name": "stdout",
     "output_type": "stream",
     "text": [
      "['0061774804', '0061950726', '0316153990', '0345534034', '0385346433', '1433527073', '1439142009', '1477805060']\n",
      "AYMSUHS3ZJTBJ\n",
      "same: ['0061950726', '0345534034']\n",
      "diff1: []\n",
      "diff2: ['0316153990', '1433527073', '0061774804', '0385346433', '1439142009', '1477805060']\n",
      "AZPNGUGH55MTO\n",
      "same: ['0061950726', '1477805060']\n",
      "diff1: ['1940026016']\n",
      "diff2: ['0316153990', '0345534034', '1433527073', '0061774804', '0385346433', '1439142009']\n",
      "A1WXJ1I42UOQ2V\n",
      "same: ['0061950726', '0345534034']\n",
      "diff1: []\n",
      "diff2: ['0316153990', '1433527073', '0061774804', '0385346433', '1439142009', '1477805060']\n"
     ]
    }
   ],
   "source": [
    "user = np.random.choice(list(map(lambda x: x[0], filter(lambda x: x[1] > 5, list(re.G.degree(re.filterNodes(True)))))))\n",
    "print(re.getBooksByUser(re.getDf(),user))\n",
    "# a, b, c = re.getNMostSimilarUsers(user, 3)\n",
    "for u in re.getNMostSimilarUsers(user, 3):\n",
    "    print(u)\n",
    "    books_users = re.getBooks(re.getDf(),user,u,\"same\")\n",
    "    print(\"same:\" ,books_users)\n",
    "    books_users = re.getBooks(re.getDf(),user,u,\"diff1\")\n",
    "    print(\"diff1:\" ,books_users)\n",
    "    books_users = re.getBooks(re.getDf(),user,u,\"diff2\")\n",
    "    print(\"diff2:\" ,books_users)"
   ],
   "metadata": {
    "collapsed": false,
    "ExecuteTime": {
     "start_time": "2023-05-08T18:31:07.436090Z",
     "end_time": "2023-05-08T18:31:09.113118Z"
    }
   }
  },
  {
   "cell_type": "code",
   "execution_count": 87,
   "outputs": [
    {
     "name": "stdout",
     "output_type": "stream",
     "text": [
      "Recommendation by year: \n"
     ]
    },
    {
     "ename": "IndexError",
     "evalue": "list index out of range",
     "output_type": "error",
     "traceback": [
      "\u001B[1;31m---------------------------------------------------------------------------\u001B[0m",
      "\u001B[1;31mIndexError\u001B[0m                                Traceback (most recent call last)",
      "Cell \u001B[1;32mIn[87], line 2\u001B[0m\n\u001B[0;32m      1\u001B[0m \u001B[38;5;28mprint\u001B[39m(\u001B[38;5;124m\"\u001B[39m\u001B[38;5;124mRecommendation by year: \u001B[39m\u001B[38;5;124m\"\u001B[39m)\n\u001B[1;32m----> 2\u001B[0m books_recomendation \u001B[38;5;241m=\u001B[39m \u001B[43mre\u001B[49m\u001B[38;5;241;43m.\u001B[39;49m\u001B[43mgetSimilarBooks\u001B[49m\u001B[43m(\u001B[49m\u001B[43mre\u001B[49m\u001B[38;5;241;43m.\u001B[39;49m\u001B[43mgetDf\u001B[49m\u001B[43m(\u001B[49m\u001B[43m)\u001B[49m\u001B[43m,\u001B[49m\u001B[38;5;124;43m\"\u001B[39;49m\u001B[38;5;124;43mA2BWZNAJCDKQ96\u001B[39;49m\u001B[38;5;124;43m\"\u001B[39;49m\u001B[43m,\u001B[49m\u001B[38;5;124;43m\"\u001B[39;49m\u001B[38;5;124;43mA1FTBXHM3DJTEA\u001B[39;49m\u001B[38;5;124;43m\"\u001B[39;49m\u001B[43m,\u001B[49m\u001B[38;5;124;43m\"\u001B[39;49m\u001B[38;5;124;43myear\u001B[39;49m\u001B[38;5;124;43m\"\u001B[39;49m\u001B[43m)\u001B[49m\n\u001B[0;32m      3\u001B[0m \u001B[38;5;28mprint\u001B[39m(books_recomendation)\n\u001B[0;32m      4\u001B[0m \u001B[38;5;28mprint\u001B[39m(\u001B[38;5;124m\"\u001B[39m\u001B[38;5;124mRecommendation by publisher: \u001B[39m\u001B[38;5;124m\"\u001B[39m)\n",
      "Cell \u001B[1;32mIn[79], line 104\u001B[0m, in \u001B[0;36mRecommendationEngine.getSimilarBooks\u001B[1;34m(self, df, id1, id2, type_)\u001B[0m\n\u001B[0;32m    102\u001B[0m     years\u001B[38;5;241m.\u001B[39mappend(\u001B[38;5;28mself\u001B[39m\u001B[38;5;241m.\u001B[39mfromJsonToDict(pom)[\u001B[38;5;124m\"\u001B[39m\u001B[38;5;124myear\u001B[39m\u001B[38;5;124m\"\u001B[39m])\n\u001B[0;32m    103\u001B[0m most_common_era \u001B[38;5;241m=\u001B[39m Counter(years)\u001B[38;5;241m.\u001B[39mmost_common(\u001B[38;5;241m1\u001B[39m) \u001B[38;5;66;03m#rok,pocet_opakovani\u001B[39;00m\n\u001B[1;32m--> 104\u001B[0m most_common_era \u001B[38;5;241m=\u001B[39m [\u001B[38;5;28mint\u001B[39m(\u001B[43mmost_common_era\u001B[49m\u001B[43m[\u001B[49m\u001B[38;5;241;43m0\u001B[39;49m\u001B[43m]\u001B[49m[\u001B[38;5;241m0\u001B[39m])\u001B[38;5;241m-\u001B[39m\u001B[38;5;241m5\u001B[39m,\u001B[38;5;28mint\u001B[39m(most_common_era[\u001B[38;5;241m0\u001B[39m][\u001B[38;5;241m0\u001B[39m])\u001B[38;5;241m+\u001B[39m\u001B[38;5;241m5\u001B[39m]\n\u001B[0;32m    105\u001B[0m \u001B[38;5;66;03m#print(most_common_era)\u001B[39;00m\n\u001B[0;32m    106\u001B[0m books_d \u001B[38;5;241m=\u001B[39m \u001B[38;5;28mself\u001B[39m\u001B[38;5;241m.\u001B[39mgetBooks(df,id1,id2,\u001B[38;5;124m\"\u001B[39m\u001B[38;5;124mdiff1\u001B[39m\u001B[38;5;124m\"\u001B[39m)\n",
      "\u001B[1;31mIndexError\u001B[0m: list index out of range"
     ]
    }
   ],
   "source": [
    "print(\"Recommendation by year: \")\n",
    "books_recomendation = re.getSimilarBooks(re.getDf(),\"A2BWZNAJCDKQ96\",\"A1FTBXHM3DJTEA\",\"year\")\n",
    "print(books_recomendation)\n",
    "print(\"Recommendation by publisher: \")\n",
    "books_recomendation = re.getSimilarBooks(re.getDf(),\"A2BWZNAJCDKQ96\",\"A1FTBXHM3DJTEA\",\"publisher\")\n",
    "print(books_recomendation)"
   ],
   "metadata": {
    "collapsed": false
   }
  },
  {
   "cell_type": "code",
   "execution_count": 88,
   "outputs": [
    {
     "data": {
      "text/plain": "['A1DW24U3K62NY1',\n 'A59XHO5Z2FJP4',\n 'AM3BITQCZ3S4A',\n 'A1420LW29L8NII',\n 'A1ICRF8W0W0MY6',\n 'A22WZLKAL6RPOH',\n 'A2NAKEDQ5NUFF9',\n 'A1A2YTFX2XC4O2',\n 'A3JQ8HXEGPT64X',\n 'A3TYDZG3KN5AML',\n 'AD0WUBKBO21KK',\n 'A3PURLPGPO4L1V',\n 'A2T4I7BNNKFI8P',\n 'A1WB2HH8N6UTMC',\n 'AS5CK4SWL6ER5',\n 'AOLUXXHMQ3N33',\n 'A1PXV5ODSL6L27',\n 'A1DHS99SF9F67M',\n 'A1W64PMDWFG9JZ',\n 'A3PVRA7GWG8QVN',\n 'A3QC4SG7NA4ULG',\n 'A24S9RAYBEQ2I3',\n 'A8E6Y3LTPX9XO',\n 'A2PN65B6BSTIYZ',\n 'A3PM1RLHWQZCHG',\n 'A15Q8SNK4ZRJNF',\n 'A7QCIXEBG4Y9J',\n 'ASPABROV8R7M5',\n 'A2YO1YX0N7V4S1',\n 'A2WBM4EMTRM1A',\n 'ANUWZ013U3HJV',\n 'A1AZGNMWEBMFC5',\n 'A2YSR1GDPOLRU4',\n 'A24S2WV5OPGXW6',\n 'AHSNV2I27XTD9',\n 'A1QXWM5P0CT45',\n 'A2F6N60Z96CAJI',\n 'A2EP2UJS9U0O6D',\n 'A1UA86VEHA6BV3',\n 'A3EP6YVAYS9YM3',\n 'A3L9A0ALVMOZQO',\n 'A1CBNUBPZPWH5D',\n 'A8Z0MJUYOC75E',\n 'A15ANBKUY4JSPD',\n 'ADGSV25O4HTAB',\n 'A24LFO50Q4F7YI',\n 'A325JING4PW8FE',\n 'A1SRN4FYFUIQOO',\n 'A136XBSBZPZKLD',\n 'A2N3URJ69JQYCM',\n 'A3W2AUV3LLPI86',\n 'AVDQOLXXHMUMM',\n 'A1IL6W1NK05UW9',\n 'A8T93X5EEIFL',\n 'A3GNBK82ZO9JU1',\n 'A3IIX475670HCH',\n 'A1TD7TX8T5E5XS',\n 'A2H44WVZS59KKT',\n 'A14SM92Z3KOVCB',\n 'A2KXE5LAK1B2S',\n 'A3W17HM9TBKG05',\n 'A3K6L6BR7YR8CB',\n 'A20R5SBA2CNXR8',\n 'A3G86A67U0GB45',\n 'A1T17LMQABMBN5',\n 'A2AM5MG66YOY5P',\n 'A3H7PNPXO3EAS7',\n 'A22BMXQ8AAJUS',\n 'A1JB2E6JGEUYHN',\n 'A3EXIZWHSNVNME',\n 'A1UWQM2DDOHXCM',\n 'A28WJUJF6D2ULA',\n 'A1UJ3PQFCT0HRH',\n 'A14DLUITOPCRJV',\n 'A17XZGC1T1Z4Z4',\n 'A3QEZ5AB9D2NBE',\n 'A1V9PFNWZ0ZBQR',\n 'A2A33KJUP7T2FK',\n 'ACVT68G8FCMVC',\n 'AMN9X91SKCK65',\n 'A1JV4QKTEB7QBL',\n 'A2T28R0X7X41TC',\n 'A18KJCC0RTLA5U',\n 'AWP06KYWLPUNY',\n 'AY5XJ3AG7RB2S',\n 'AGZ5O2O1KBFR2',\n 'ADD2HFZQ2B2UY',\n 'A1SUUQM8F0ZBNU',\n 'A2POOQHKKPL7SK',\n 'ARO9M3O2ROPXK',\n 'A192X927DS50P',\n 'A2V0BQ8ASQ0K03',\n 'A1DBGXI1U93MM1',\n 'A2ZDE5REBPHEH2',\n 'AJGASY4JNSZKY',\n 'A3FMM7P8E5I7DH',\n 'A2OQ4UADURUZ8T',\n 'A15Y6KLDPVNS9H',\n 'A3IKBHODOTYYHM',\n 'A3PGGI7A6XCNF1',\n 'A1OM1ORZYCZ8VY',\n 'A15XSQYRXL4A8P',\n 'A2KIVODZRTGY4U',\n 'A25DUFFGN0YQ28',\n 'AVTSFOUVNTEJC',\n 'A3TBNZFDY7ZNU7',\n 'A230ZS8F6I0AGM',\n 'AOTG4RC78XNCU',\n 'A1DJCVGX8N5U9N',\n 'A2MAC6YXAQ63EU',\n 'A1WLFRH5QAZ9T8',\n 'A15YWHK9QEUM71',\n 'ACTEAPEPGDV8G',\n 'A1RECBDKHVOJMW',\n 'A3RV8BDPQQUOOF',\n 'A2Z9B7F052F1KC',\n 'A106016KSI0YQ',\n 'AC31Y35ELBK9V',\n 'ALQ3RZT69RPL1',\n 'A1U00SSDK79VGQ',\n 'A3WJKS7MS5NW4',\n 'A398ZOI81ZR3XX',\n 'A2UY37VRNX5NQA',\n 'A1R9ZNKQWI3OM6',\n 'A1IZ7OZOBWC1YW',\n 'A2NVLZXX1X66HA',\n 'A1P28UWVW8H4QD',\n 'A3MP31NV91D177',\n 'AWIS85WWKGR2U',\n 'AQO1HS14ZM61L',\n 'A2LD89ZHIEY8PU',\n 'AT3ESUWYNLKUK',\n 'A2AYSFGUP5VTY3',\n 'A3LVTT4D4WTO4Z',\n 'A5GDYV5S0A9B2',\n 'A3I8P19TAHL59Q',\n 'A2E3GFHUDNPYDH',\n 'A1DV0ZPU2O4KD6',\n 'A1RD9OG3SH84BH',\n 'A1MEMUXP81RX0N',\n 'A1JDJ26UKLTNBW',\n 'A3KGAY4IDBOXHF',\n 'AY88EPY6PO912',\n 'AWI9XNZDVVMGT',\n 'A1PMB89C8S9IB4',\n 'AAXK95CYZN1ZP',\n 'A345WMMZGB5NSL',\n 'A1DM3A2RLDW0VI',\n 'A2CQ04HVR2RCAR',\n 'A1SG19RAGW2EI9',\n 'A37MTG6AMISNZV',\n 'A349691AKRJ9PU',\n 'A13H5US9Z7L9M7',\n 'A31RULW0KNYJ5H',\n 'A2OAD5Y7MXUOFZ',\n 'AN2CU1YP12J4U',\n 'A2BZ5WZITZZWX2',\n 'A3U9GYYIAVH5RX',\n 'A1GPE2G564TTKV',\n 'A2UZQ17NVF51M5',\n 'AZA3Z5DFYXO9F',\n 'A2CXP2Q04QZ8R2',\n 'A2K9FXOFFHVNWG',\n 'AALMTJ5AE992Q',\n 'A2279SG6V1WSYA',\n 'A3NLJZI5NEOT0K',\n 'A1RK0AH62TW4RF',\n 'A3BFXW4KIOBAMN',\n 'A19ZRY0J1GISP2',\n 'ABHTD5WI0J2ZS',\n 'A1XIWT77XLT1GX',\n 'A1D98BFYISNW4O',\n 'A3DT8Y1UUMV9WW',\n 'A25JKZWWDSJJIY',\n 'A10GKSJ0OV8QEI',\n 'A2IRJD20U8UUA2',\n 'A2EMIIHBL60K7L',\n 'A2IVZSMXQFQVXR',\n 'A1WIDCSO1S4YN7',\n 'A2XBJZX6SK8YG6',\n 'AVHMOENRENU3L',\n 'A2BN99HBNCV8OL',\n 'A1WDHQ9V2E4H5C',\n 'A1KH1D260N486S',\n 'A3L1QBOERVE23V',\n 'A2MVG9A7FXZB24',\n 'A3DTHQIPBY0NI7',\n 'A3CSG9ZPAFFFE4',\n 'AWCA36GX34NQG',\n 'A3G5971VNK7ROC',\n 'A3IJHV3XZZEED5',\n 'A3TYLT1P5J586Y',\n 'A90MLKY08NDVE',\n 'AYG86D7FXFOBA',\n 'A3TUU89VLARB63',\n 'A1V9KR0UJAXUH1',\n 'A2G0GGG93KX465',\n 'A3MRC2CNI5PZFD',\n 'AGBS7DV068Q1M',\n 'A1WOMXP1TMIX7O',\n 'AKWW4YXF3D80E',\n 'A1E9HUHTJ91EPX',\n 'A169SB4L1PRM4U',\n 'A3Z9QN0RCOHEY',\n 'A3Q8UJH5F800J5',\n 'A1O0RDA2P537JI',\n 'A1YMWWZXSX3FNQ',\n 'A1RBU3U8YKDKX9',\n 'A1T3HNECSG6F9G',\n 'A1E99H0PS2X28N',\n 'A1EY61MSOF2U0Q',\n 'A1BA72K4VK1UN1',\n 'A1MC81HLJ6Z9ZQ',\n 'A3PKZG3GHBEWT7',\n 'A359D655P5XEU4',\n 'A2U10LCSH8T3Y9',\n 'A32HAMICRE52M',\n 'A3UPUKYMXBF8WE',\n 'A91N895R18LD1',\n 'A2K1EZUZDCKHV3',\n 'A2AGZIWK310DOT',\n 'A2TNWNUKCRG7TK',\n 'A1YNMEVGW2ZVE',\n 'A2PRVXTFMJGQ7O',\n 'AMZ9GF1YL99WS',\n 'ALZTCWUGU29IP',\n 'A1M14VJQ3IX3CE',\n 'A2WXG7D33MM9GX',\n 'A2UREIQ41A289N',\n 'A2ZDSJAL37VJ89',\n 'A2VO4YKH7A4JQ3',\n 'A176RRCIRRVZX',\n 'AMOUCAFH0MKJV',\n 'A1FGWHGL2MX54A',\n 'A1T2ONMSOF6JL6',\n 'A1TSAUREAE8T0X',\n 'A2IQISGYXIUQ7H',\n 'APK14AD9MN94J',\n 'A3M2TR5UVO4NRO',\n 'A1TDQDK1H5UUP6',\n 'A2WNFSPKOID69X',\n 'A11FF3OE6U6KNT',\n 'A14PPJVQ7VG8ML',\n 'A3U1ITDCDVCM8C',\n 'A7CIHZCNERSS8',\n 'A1Y9ZANJWQVSD5',\n 'A33QM8VJ6NBU3R',\n 'A3GPIF46QYWK4V',\n 'A2UW83R0JOZZ6',\n 'A1H9YT6XH647EA',\n 'A3A4ZAIBQWKOZS',\n 'A1IQISZ75YTZH1',\n 'A1RYGB2GRLZBT0',\n 'AVUHF53TP0JRG',\n 'A2P0VZLK0RTCBY',\n 'A2KGI1OPBP7UNJ',\n 'A221JUMLMG2ZRH',\n 'APPSD1EWOJL7Y',\n 'ATN6BYETFBQPE',\n 'AD8N1U7QZ8L2I',\n 'A1S6BL50XR4O0F',\n 'A2YCRWCJ300JI9',\n 'A2SQNKITVX87W8',\n 'A294AT8E3LH189',\n 'A1WBWPVBZS1G84',\n 'A36DDI3ETVFQZ',\n 'A1JOEGJN439HNM',\n 'A2I9R1ODKOTPTF',\n 'A301NFBU4TB8UG',\n 'A1ZT776IVJSFM3',\n 'A3P0M5M32JEZZ0',\n 'AU37NUV1IJ9PX',\n 'A3RCLDBIA8CAKR',\n 'AYQMRVV8Z4B8',\n 'A1POFVVXUZR3IQ']"
     },
     "execution_count": 88,
     "metadata": {},
     "output_type": "execute_result"
    }
   ],
   "source": [
    "list(re.G.neighbors('1410419592'))"
   ],
   "metadata": {
    "collapsed": false,
    "ExecuteTime": {
     "start_time": "2023-05-08T18:24:20.286129Z",
     "end_time": "2023-05-08T18:24:20.292422Z"
    }
   }
  }
 ],
 "metadata": {
  "kernelspec": {
   "display_name": "Python 3",
   "language": "python",
   "name": "python3"
  },
  "language_info": {
   "codemirror_mode": {
    "name": "ipython",
    "version": 2
   },
   "file_extension": ".py",
   "mimetype": "text/x-python",
   "name": "python",
   "nbconvert_exporter": "python",
   "pygments_lexer": "ipython2",
   "version": "2.7.6"
  }
 },
 "nbformat": 4,
 "nbformat_minor": 0
}
