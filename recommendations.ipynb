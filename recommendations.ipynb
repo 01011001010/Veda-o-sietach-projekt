{
 "cells": [
  {
   "cell_type": "code",
   "execution_count": 85,
   "outputs": [],
   "source": [
    "import numpy as np\n",
    "import pandas as pd\n",
    "import networkx as nx"
   ],
   "metadata": {
    "collapsed": false,
    "ExecuteTime": {
     "start_time": "2023-04-24T23:10:01.253514Z",
     "end_time": "2023-04-24T23:10:01.262096Z"
    },
    "pycharm": {
     "name": "#%%\n"
    }
   }
  },
  {
   "cell_type": "markdown",
   "source": [
    "zatial len cast siete, cele mi to zozralo calu ram\n",
    "\n",
    "pocitanie matic celkovej podobnosti je implementovane, ale pre celu siet bude asi narocne si vsetko pamatat naraz, oplati sa teda pocitat len 'stlpec' pre kazdeho uzivatela, ked sa na neho budeme pytat\n",
    "\n",
    "celkovo bude zaujiamve sa pytat aj na podobne knihy, ako aj podobnych uzivatelov\n",
    "pre knihy -> \"odporucanie, kupte si aj toto pri knihe\"\n",
    "pre pouzivatelov -> podobneho pouzivatela -> odporucime knihu, ktoru on cital, a my nie\n",
    "\n",
    "na knihy z malych komponentov sa asi nebude mat zmysel pytat, giganticky komponent bude zaujimavsi"
   ],
   "metadata": {
    "collapsed": false,
    "pycharm": {
     "name": "#%% md\n"
    }
   }
  },
  {
   "cell_type": "code",
   "execution_count": 86,
   "outputs": [],
   "source": [
    "class RecommendationEngine:\n",
    "    def __init__(self, filename: str):\n",
    "        self.SM = None\n",
    "        self.SMC = None\n",
    "        self.G: nx.classes.graph.Graph = nx.from_pandas_edgelist(pd.read_csv(filename, header=None)[0:10000], source=0, target=1, edge_attr=2)\n",
    "\n",
    "    def filterNodes(self, users: bool) -> list[str]:\n",
    "        return list(filter(lambda x: (x[0] == 'A') if users else (x[0] != 'A'), self.G.nodes()))\n",
    "\n",
    "    def similarityMatrix(self, users: bool, save: bool=False) -> pd.DataFrame:\n",
    "        # if self.SM is not None:\n",
    "        #     return self.SM\n",
    "        # A = nx.to_numpy_array(re.G)\n",
    "        # SM = A @ A\n",
    "        # if save:\n",
    "        #     self.SM = SM\n",
    "        # return SM\n",
    "        filterList = self.filterNodes(users)\n",
    "        if self.SM is not None:\n",
    "            return self.SM.loc[filterList,filterList]\n",
    "        order = self.G.nodes()\n",
    "        A = nx.to_numpy_array(self.G, nodelist=order)\n",
    "        product = A @ A\n",
    "        np.fill_diagonal(product, 0)\n",
    "        SM = pd.DataFrame(product, columns = order)\n",
    "        SM.index = order\n",
    "        if save:\n",
    "            self.SM = SM\n",
    "        return SM.loc[filterList,filterList]\n",
    "\n",
    "    def similarityMatrixCosine(self, users: bool, save: bool=False) -> np.ndarray:\n",
    "        filterList = self.filterNodes(users)\n",
    "        if self.SMC is not None:\n",
    "            return self.SMC.loc[filterList,filterList]\n",
    "        SM = self.similarityMatrix(users)\n",
    "        norms = (np.linalg.norm(SM, axis=1))\n",
    "        SMC = SM / norms[:, None] / norms[None, :]\n",
    "        np.nan_to_num(SMC, copy=False)\n",
    "        if save:\n",
    "            self.SMC = SMC\n",
    "        return SMC.loc[filterList,filterList]\n"
   ],
   "metadata": {
    "collapsed": false,
    "ExecuteTime": {
     "start_time": "2023-04-24T23:10:01.266083Z",
     "end_time": "2023-04-24T23:10:01.292582Z"
    },
    "pycharm": {
     "name": "#%%\n"
    }
   }
  },
  {
   "cell_type": "code",
   "execution_count": 87,
   "metadata": {
    "collapsed": true,
    "ExecuteTime": {
     "start_time": "2023-04-24T23:10:01.276707Z",
     "end_time": "2023-04-24T23:10:13.445857Z"
    },
    "pycharm": {
     "name": "#%%\n"
    }
   },
   "outputs": [],
   "source": [
    "re = RecommendationEngine('data/rec-amz-Books.edges')"
   ]
  },
  {
   "cell_type": "code",
   "execution_count": 88,
   "outputs": [
    {
     "data": {
      "text/plain": "                AH2L9G3DQHHAJ  A2IIIDRK3PRRZY  A1TADCM7YWPQ8M  AWGH7V0BDOJKB   \nAH2L9G3DQHHAJ             0.0             1.0             0.0            0.0  \\\nA2IIIDRK3PRRZY            1.0             0.0             0.0            0.0   \nA1TADCM7YWPQ8M            0.0             0.0             0.0            0.0   \nAWGH7V0BDOJKB             0.0             0.0             0.0            0.0   \nA3UTQPQPM4TQO0            0.0             0.0             0.0            1.0   \n...                       ...             ...             ...            ...   \nAWWK4ZVFQPC82             0.0             0.0             0.0            0.0   \nA2FHD3ZCCIAJXE            0.0             0.0             0.0            0.0   \nA2I5TMZEVW09B5            0.0             0.0             0.0            0.0   \nA196S58LYV9FGG            0.0             0.0             0.0            0.0   \nAUGABW5AS2OXM             0.0             0.0             0.0            0.0   \n\n                A3UTQPQPM4TQO0  A8ZS0I5L5V31B  ACNGUPJ3A3TM9  A3BED5QFJWK88M   \nAH2L9G3DQHHAJ              0.0            0.0            0.0             0.0  \\\nA2IIIDRK3PRRZY             0.0            0.0            0.0             0.0   \nA1TADCM7YWPQ8M             0.0            0.0            0.0             0.0   \nAWGH7V0BDOJKB              1.0            1.0            1.0             1.0   \nA3UTQPQPM4TQO0             0.0            1.0            1.0             1.0   \n...                        ...            ...            ...             ...   \nAWWK4ZVFQPC82              0.0            0.0            0.0             0.0   \nA2FHD3ZCCIAJXE             0.0            0.0            0.0             0.0   \nA2I5TMZEVW09B5             0.0            0.0            0.0             0.0   \nA196S58LYV9FGG             0.0            0.0            0.0             0.0   \nAUGABW5AS2OXM              0.0            0.0            0.0             0.0   \n\n                A2SUAM1J3GNN3B  APOZ15IEYQRRR  ...  A3F4BMI23JDRGG   \nAH2L9G3DQHHAJ              0.0            0.0  ...             0.0  \\\nA2IIIDRK3PRRZY             0.0            0.0  ...             0.0   \nA1TADCM7YWPQ8M             0.0            0.0  ...             0.0   \nAWGH7V0BDOJKB              1.0            1.0  ...             0.0   \nA3UTQPQPM4TQO0             1.0            1.0  ...             0.0   \n...                        ...            ...  ...             ...   \nAWWK4ZVFQPC82              0.0            0.0  ...             1.0   \nA2FHD3ZCCIAJXE             0.0            0.0  ...             1.0   \nA2I5TMZEVW09B5             0.0            0.0  ...             1.0   \nA196S58LYV9FGG             0.0            0.0  ...             1.0   \nAUGABW5AS2OXM              0.0            0.0  ...             1.0   \n\n                AN8801IA2DQ40  A125ADBW85S3VA  A1Z2EROI0F5IZ9  A2LU9A6D53WU3R   \nAH2L9G3DQHHAJ             0.0             0.0             0.0             0.0  \\\nA2IIIDRK3PRRZY            0.0             0.0             0.0             0.0   \nA1TADCM7YWPQ8M            0.0             0.0             0.0             0.0   \nAWGH7V0BDOJKB             0.0             0.0             0.0             0.0   \nA3UTQPQPM4TQO0            0.0             0.0             0.0             0.0   \n...                       ...             ...             ...             ...   \nAWWK4ZVFQPC82             1.0             1.0             1.0             1.0   \nA2FHD3ZCCIAJXE            1.0             1.0             1.0             1.0   \nA2I5TMZEVW09B5            1.0             1.0             1.0             1.0   \nA196S58LYV9FGG            1.0             1.0             1.0             1.0   \nAUGABW5AS2OXM             1.0             1.0             1.0             1.0   \n\n                AWWK4ZVFQPC82  A2FHD3ZCCIAJXE  A2I5TMZEVW09B5  A196S58LYV9FGG   \nAH2L9G3DQHHAJ             0.0             0.0             0.0             0.0  \\\nA2IIIDRK3PRRZY            0.0             0.0             0.0             0.0   \nA1TADCM7YWPQ8M            0.0             0.0             0.0             0.0   \nAWGH7V0BDOJKB             0.0             0.0             0.0             0.0   \nA3UTQPQPM4TQO0            0.0             0.0             0.0             0.0   \n...                       ...             ...             ...             ...   \nAWWK4ZVFQPC82             0.0             1.0             1.0             1.0   \nA2FHD3ZCCIAJXE            1.0             0.0             1.0             1.0   \nA2I5TMZEVW09B5            1.0             1.0             0.0             1.0   \nA196S58LYV9FGG            1.0             1.0             1.0             0.0   \nAUGABW5AS2OXM             1.0             1.0             1.0             1.0   \n\n                AUGABW5AS2OXM  \nAH2L9G3DQHHAJ             0.0  \nA2IIIDRK3PRRZY            0.0  \nA1TADCM7YWPQ8M            0.0  \nAWGH7V0BDOJKB             0.0  \nA3UTQPQPM4TQO0            0.0  \n...                       ...  \nAWWK4ZVFQPC82             1.0  \nA2FHD3ZCCIAJXE            1.0  \nA2I5TMZEVW09B5            1.0  \nA196S58LYV9FGG            1.0  \nAUGABW5AS2OXM             0.0  \n\n[9815 rows x 9815 columns]",
      "text/html": "<div>\n<style scoped>\n    .dataframe tbody tr th:only-of-type {\n        vertical-align: middle;\n    }\n\n    .dataframe tbody tr th {\n        vertical-align: top;\n    }\n\n    .dataframe thead th {\n        text-align: right;\n    }\n</style>\n<table border=\"1\" class=\"dataframe\">\n  <thead>\n    <tr style=\"text-align: right;\">\n      <th></th>\n      <th>AH2L9G3DQHHAJ</th>\n      <th>A2IIIDRK3PRRZY</th>\n      <th>A1TADCM7YWPQ8M</th>\n      <th>AWGH7V0BDOJKB</th>\n      <th>A3UTQPQPM4TQO0</th>\n      <th>A8ZS0I5L5V31B</th>\n      <th>ACNGUPJ3A3TM9</th>\n      <th>A3BED5QFJWK88M</th>\n      <th>A2SUAM1J3GNN3B</th>\n      <th>APOZ15IEYQRRR</th>\n      <th>...</th>\n      <th>A3F4BMI23JDRGG</th>\n      <th>AN8801IA2DQ40</th>\n      <th>A125ADBW85S3VA</th>\n      <th>A1Z2EROI0F5IZ9</th>\n      <th>A2LU9A6D53WU3R</th>\n      <th>AWWK4ZVFQPC82</th>\n      <th>A2FHD3ZCCIAJXE</th>\n      <th>A2I5TMZEVW09B5</th>\n      <th>A196S58LYV9FGG</th>\n      <th>AUGABW5AS2OXM</th>\n    </tr>\n  </thead>\n  <tbody>\n    <tr>\n      <th>AH2L9G3DQHHAJ</th>\n      <td>0.0</td>\n      <td>1.0</td>\n      <td>0.0</td>\n      <td>0.0</td>\n      <td>0.0</td>\n      <td>0.0</td>\n      <td>0.0</td>\n      <td>0.0</td>\n      <td>0.0</td>\n      <td>0.0</td>\n      <td>...</td>\n      <td>0.0</td>\n      <td>0.0</td>\n      <td>0.0</td>\n      <td>0.0</td>\n      <td>0.0</td>\n      <td>0.0</td>\n      <td>0.0</td>\n      <td>0.0</td>\n      <td>0.0</td>\n      <td>0.0</td>\n    </tr>\n    <tr>\n      <th>A2IIIDRK3PRRZY</th>\n      <td>1.0</td>\n      <td>0.0</td>\n      <td>0.0</td>\n      <td>0.0</td>\n      <td>0.0</td>\n      <td>0.0</td>\n      <td>0.0</td>\n      <td>0.0</td>\n      <td>0.0</td>\n      <td>0.0</td>\n      <td>...</td>\n      <td>0.0</td>\n      <td>0.0</td>\n      <td>0.0</td>\n      <td>0.0</td>\n      <td>0.0</td>\n      <td>0.0</td>\n      <td>0.0</td>\n      <td>0.0</td>\n      <td>0.0</td>\n      <td>0.0</td>\n    </tr>\n    <tr>\n      <th>A1TADCM7YWPQ8M</th>\n      <td>0.0</td>\n      <td>0.0</td>\n      <td>0.0</td>\n      <td>0.0</td>\n      <td>0.0</td>\n      <td>0.0</td>\n      <td>0.0</td>\n      <td>0.0</td>\n      <td>0.0</td>\n      <td>0.0</td>\n      <td>...</td>\n      <td>0.0</td>\n      <td>0.0</td>\n      <td>0.0</td>\n      <td>0.0</td>\n      <td>0.0</td>\n      <td>0.0</td>\n      <td>0.0</td>\n      <td>0.0</td>\n      <td>0.0</td>\n      <td>0.0</td>\n    </tr>\n    <tr>\n      <th>AWGH7V0BDOJKB</th>\n      <td>0.0</td>\n      <td>0.0</td>\n      <td>0.0</td>\n      <td>0.0</td>\n      <td>1.0</td>\n      <td>1.0</td>\n      <td>1.0</td>\n      <td>1.0</td>\n      <td>1.0</td>\n      <td>1.0</td>\n      <td>...</td>\n      <td>0.0</td>\n      <td>0.0</td>\n      <td>0.0</td>\n      <td>0.0</td>\n      <td>0.0</td>\n      <td>0.0</td>\n      <td>0.0</td>\n      <td>0.0</td>\n      <td>0.0</td>\n      <td>0.0</td>\n    </tr>\n    <tr>\n      <th>A3UTQPQPM4TQO0</th>\n      <td>0.0</td>\n      <td>0.0</td>\n      <td>0.0</td>\n      <td>1.0</td>\n      <td>0.0</td>\n      <td>1.0</td>\n      <td>1.0</td>\n      <td>1.0</td>\n      <td>1.0</td>\n      <td>1.0</td>\n      <td>...</td>\n      <td>0.0</td>\n      <td>0.0</td>\n      <td>0.0</td>\n      <td>0.0</td>\n      <td>0.0</td>\n      <td>0.0</td>\n      <td>0.0</td>\n      <td>0.0</td>\n      <td>0.0</td>\n      <td>0.0</td>\n    </tr>\n    <tr>\n      <th>...</th>\n      <td>...</td>\n      <td>...</td>\n      <td>...</td>\n      <td>...</td>\n      <td>...</td>\n      <td>...</td>\n      <td>...</td>\n      <td>...</td>\n      <td>...</td>\n      <td>...</td>\n      <td>...</td>\n      <td>...</td>\n      <td>...</td>\n      <td>...</td>\n      <td>...</td>\n      <td>...</td>\n      <td>...</td>\n      <td>...</td>\n      <td>...</td>\n      <td>...</td>\n      <td>...</td>\n    </tr>\n    <tr>\n      <th>AWWK4ZVFQPC82</th>\n      <td>0.0</td>\n      <td>0.0</td>\n      <td>0.0</td>\n      <td>0.0</td>\n      <td>0.0</td>\n      <td>0.0</td>\n      <td>0.0</td>\n      <td>0.0</td>\n      <td>0.0</td>\n      <td>0.0</td>\n      <td>...</td>\n      <td>1.0</td>\n      <td>1.0</td>\n      <td>1.0</td>\n      <td>1.0</td>\n      <td>1.0</td>\n      <td>0.0</td>\n      <td>1.0</td>\n      <td>1.0</td>\n      <td>1.0</td>\n      <td>1.0</td>\n    </tr>\n    <tr>\n      <th>A2FHD3ZCCIAJXE</th>\n      <td>0.0</td>\n      <td>0.0</td>\n      <td>0.0</td>\n      <td>0.0</td>\n      <td>0.0</td>\n      <td>0.0</td>\n      <td>0.0</td>\n      <td>0.0</td>\n      <td>0.0</td>\n      <td>0.0</td>\n      <td>...</td>\n      <td>1.0</td>\n      <td>1.0</td>\n      <td>1.0</td>\n      <td>1.0</td>\n      <td>1.0</td>\n      <td>1.0</td>\n      <td>0.0</td>\n      <td>1.0</td>\n      <td>1.0</td>\n      <td>1.0</td>\n    </tr>\n    <tr>\n      <th>A2I5TMZEVW09B5</th>\n      <td>0.0</td>\n      <td>0.0</td>\n      <td>0.0</td>\n      <td>0.0</td>\n      <td>0.0</td>\n      <td>0.0</td>\n      <td>0.0</td>\n      <td>0.0</td>\n      <td>0.0</td>\n      <td>0.0</td>\n      <td>...</td>\n      <td>1.0</td>\n      <td>1.0</td>\n      <td>1.0</td>\n      <td>1.0</td>\n      <td>1.0</td>\n      <td>1.0</td>\n      <td>1.0</td>\n      <td>0.0</td>\n      <td>1.0</td>\n      <td>1.0</td>\n    </tr>\n    <tr>\n      <th>A196S58LYV9FGG</th>\n      <td>0.0</td>\n      <td>0.0</td>\n      <td>0.0</td>\n      <td>0.0</td>\n      <td>0.0</td>\n      <td>0.0</td>\n      <td>0.0</td>\n      <td>0.0</td>\n      <td>0.0</td>\n      <td>0.0</td>\n      <td>...</td>\n      <td>1.0</td>\n      <td>1.0</td>\n      <td>1.0</td>\n      <td>1.0</td>\n      <td>1.0</td>\n      <td>1.0</td>\n      <td>1.0</td>\n      <td>1.0</td>\n      <td>0.0</td>\n      <td>1.0</td>\n    </tr>\n    <tr>\n      <th>AUGABW5AS2OXM</th>\n      <td>0.0</td>\n      <td>0.0</td>\n      <td>0.0</td>\n      <td>0.0</td>\n      <td>0.0</td>\n      <td>0.0</td>\n      <td>0.0</td>\n      <td>0.0</td>\n      <td>0.0</td>\n      <td>0.0</td>\n      <td>...</td>\n      <td>1.0</td>\n      <td>1.0</td>\n      <td>1.0</td>\n      <td>1.0</td>\n      <td>1.0</td>\n      <td>1.0</td>\n      <td>1.0</td>\n      <td>1.0</td>\n      <td>1.0</td>\n      <td>0.0</td>\n    </tr>\n  </tbody>\n</table>\n<p>9815 rows × 9815 columns</p>\n</div>"
     },
     "execution_count": 88,
     "metadata": {},
     "output_type": "execute_result"
    }
   ],
   "source": [
    "re.similarityMatrix(users=True)"
   ],
   "metadata": {
    "collapsed": false,
    "ExecuteTime": {
     "start_time": "2023-04-24T23:10:13.447775Z",
     "end_time": "2023-04-24T23:10:33.056933Z"
    },
    "pycharm": {
     "name": "#%%\n"
    }
   }
  },
  {
   "cell_type": "code",
   "execution_count": 89,
   "outputs": [
    {
     "data": {
      "text/plain": "            0000000116  0000000868  0000013714  0000015393  0000029831   \n0000000116         0.0         0.0         0.0         0.0         0.0  \\\n0000000868         0.0         0.0         0.0         0.0         0.0   \n0000013714         0.0         0.0         0.0         0.0         0.0   \n0000015393         0.0         0.0         0.0         0.0         0.0   \n0000029831         0.0         0.0         0.0         0.0         0.0   \n...                ...         ...         ...         ...         ...   \n0002240017         0.0         0.0         0.0         0.0         0.0   \n0002240432         0.0         0.0         0.0         0.0         0.0   \n000224053X         0.0         0.0         0.0         0.0         0.0   \n0002241749         0.0         0.0         0.0         0.0         0.0   \n0002242052         0.0         0.0         0.0         0.0         0.0   \n\n            0000038504  0000041696  0000095699  0000174076  0000202010  ...   \n0000000116         0.0         0.0         0.0         0.0         0.0  ...  \\\n0000000868         0.0         0.0         0.0         0.0         0.0  ...   \n0000013714         0.0         0.0         0.0         0.0         0.0  ...   \n0000015393         0.0         0.0         0.0         0.0         0.0  ...   \n0000029831         0.0         0.0         0.0         0.0         0.0  ...   \n...                ...         ...         ...         ...         ...  ...   \n0002240017         0.0         0.0         0.0         0.0         0.0  ...   \n0002240432         0.0         0.0         0.0         0.0         0.0  ...   \n000224053X         0.0         0.0         0.0         0.0         0.0  ...   \n0002241749         0.0         0.0         0.0         0.0         0.0  ...   \n0002242052         0.0         0.0         0.0         0.0         0.0  ...   \n\n            0002238934  0002239221  0002239418  0002239426  0002239833   \n0000000116         0.0         0.0         0.0         0.0         0.0  \\\n0000000868         0.0         0.0         0.0         0.0         0.0   \n0000013714         0.0         0.0         0.0         0.0         0.0   \n0000015393         0.0         0.0         0.0         0.0         0.0   \n0000029831         0.0         0.0         0.0         0.0         0.0   \n...                ...         ...         ...         ...         ...   \n0002240017         0.0         0.0         0.0         0.0         0.0   \n0002240432         0.0         0.0         0.0         0.0         0.0   \n000224053X         0.0         0.0         0.0         0.0         1.0   \n0002241749         0.0         0.0         0.0         0.0         0.0   \n0002242052         0.0         0.0         0.0         0.0         0.0   \n\n            0002240017  0002240432  000224053X  0002241749  0002242052  \n0000000116         0.0         0.0         0.0         0.0         0.0  \n0000000868         0.0         0.0         0.0         0.0         0.0  \n0000013714         0.0         0.0         0.0         0.0         0.0  \n0000015393         0.0         0.0         0.0         0.0         0.0  \n0000029831         0.0         0.0         0.0         0.0         0.0  \n...                ...         ...         ...         ...         ...  \n0002240017         0.0         0.0         0.0         0.0         0.0  \n0002240432         0.0         0.0         0.0         0.0         0.0  \n000224053X         0.0         0.0         0.0         0.0         0.0  \n0002241749         0.0         0.0         0.0         0.0         0.0  \n0002242052         0.0         0.0         0.0         0.0         0.0  \n\n[524 rows x 524 columns]",
      "text/html": "<div>\n<style scoped>\n    .dataframe tbody tr th:only-of-type {\n        vertical-align: middle;\n    }\n\n    .dataframe tbody tr th {\n        vertical-align: top;\n    }\n\n    .dataframe thead th {\n        text-align: right;\n    }\n</style>\n<table border=\"1\" class=\"dataframe\">\n  <thead>\n    <tr style=\"text-align: right;\">\n      <th></th>\n      <th>0000000116</th>\n      <th>0000000868</th>\n      <th>0000013714</th>\n      <th>0000015393</th>\n      <th>0000029831</th>\n      <th>0000038504</th>\n      <th>0000041696</th>\n      <th>0000095699</th>\n      <th>0000174076</th>\n      <th>0000202010</th>\n      <th>...</th>\n      <th>0002238934</th>\n      <th>0002239221</th>\n      <th>0002239418</th>\n      <th>0002239426</th>\n      <th>0002239833</th>\n      <th>0002240017</th>\n      <th>0002240432</th>\n      <th>000224053X</th>\n      <th>0002241749</th>\n      <th>0002242052</th>\n    </tr>\n  </thead>\n  <tbody>\n    <tr>\n      <th>0000000116</th>\n      <td>0.0</td>\n      <td>0.0</td>\n      <td>0.0</td>\n      <td>0.0</td>\n      <td>0.0</td>\n      <td>0.0</td>\n      <td>0.0</td>\n      <td>0.0</td>\n      <td>0.0</td>\n      <td>0.0</td>\n      <td>...</td>\n      <td>0.0</td>\n      <td>0.0</td>\n      <td>0.0</td>\n      <td>0.0</td>\n      <td>0.0</td>\n      <td>0.0</td>\n      <td>0.0</td>\n      <td>0.0</td>\n      <td>0.0</td>\n      <td>0.0</td>\n    </tr>\n    <tr>\n      <th>0000000868</th>\n      <td>0.0</td>\n      <td>0.0</td>\n      <td>0.0</td>\n      <td>0.0</td>\n      <td>0.0</td>\n      <td>0.0</td>\n      <td>0.0</td>\n      <td>0.0</td>\n      <td>0.0</td>\n      <td>0.0</td>\n      <td>...</td>\n      <td>0.0</td>\n      <td>0.0</td>\n      <td>0.0</td>\n      <td>0.0</td>\n      <td>0.0</td>\n      <td>0.0</td>\n      <td>0.0</td>\n      <td>0.0</td>\n      <td>0.0</td>\n      <td>0.0</td>\n    </tr>\n    <tr>\n      <th>0000013714</th>\n      <td>0.0</td>\n      <td>0.0</td>\n      <td>0.0</td>\n      <td>0.0</td>\n      <td>0.0</td>\n      <td>0.0</td>\n      <td>0.0</td>\n      <td>0.0</td>\n      <td>0.0</td>\n      <td>0.0</td>\n      <td>...</td>\n      <td>0.0</td>\n      <td>0.0</td>\n      <td>0.0</td>\n      <td>0.0</td>\n      <td>0.0</td>\n      <td>0.0</td>\n      <td>0.0</td>\n      <td>0.0</td>\n      <td>0.0</td>\n      <td>0.0</td>\n    </tr>\n    <tr>\n      <th>0000015393</th>\n      <td>0.0</td>\n      <td>0.0</td>\n      <td>0.0</td>\n      <td>0.0</td>\n      <td>0.0</td>\n      <td>0.0</td>\n      <td>0.0</td>\n      <td>0.0</td>\n      <td>0.0</td>\n      <td>0.0</td>\n      <td>...</td>\n      <td>0.0</td>\n      <td>0.0</td>\n      <td>0.0</td>\n      <td>0.0</td>\n      <td>0.0</td>\n      <td>0.0</td>\n      <td>0.0</td>\n      <td>0.0</td>\n      <td>0.0</td>\n      <td>0.0</td>\n    </tr>\n    <tr>\n      <th>0000029831</th>\n      <td>0.0</td>\n      <td>0.0</td>\n      <td>0.0</td>\n      <td>0.0</td>\n      <td>0.0</td>\n      <td>0.0</td>\n      <td>0.0</td>\n      <td>0.0</td>\n      <td>0.0</td>\n      <td>0.0</td>\n      <td>...</td>\n      <td>0.0</td>\n      <td>0.0</td>\n      <td>0.0</td>\n      <td>0.0</td>\n      <td>0.0</td>\n      <td>0.0</td>\n      <td>0.0</td>\n      <td>0.0</td>\n      <td>0.0</td>\n      <td>0.0</td>\n    </tr>\n    <tr>\n      <th>...</th>\n      <td>...</td>\n      <td>...</td>\n      <td>...</td>\n      <td>...</td>\n      <td>...</td>\n      <td>...</td>\n      <td>...</td>\n      <td>...</td>\n      <td>...</td>\n      <td>...</td>\n      <td>...</td>\n      <td>...</td>\n      <td>...</td>\n      <td>...</td>\n      <td>...</td>\n      <td>...</td>\n      <td>...</td>\n      <td>...</td>\n      <td>...</td>\n      <td>...</td>\n      <td>...</td>\n    </tr>\n    <tr>\n      <th>0002240017</th>\n      <td>0.0</td>\n      <td>0.0</td>\n      <td>0.0</td>\n      <td>0.0</td>\n      <td>0.0</td>\n      <td>0.0</td>\n      <td>0.0</td>\n      <td>0.0</td>\n      <td>0.0</td>\n      <td>0.0</td>\n      <td>...</td>\n      <td>0.0</td>\n      <td>0.0</td>\n      <td>0.0</td>\n      <td>0.0</td>\n      <td>0.0</td>\n      <td>0.0</td>\n      <td>0.0</td>\n      <td>0.0</td>\n      <td>0.0</td>\n      <td>0.0</td>\n    </tr>\n    <tr>\n      <th>0002240432</th>\n      <td>0.0</td>\n      <td>0.0</td>\n      <td>0.0</td>\n      <td>0.0</td>\n      <td>0.0</td>\n      <td>0.0</td>\n      <td>0.0</td>\n      <td>0.0</td>\n      <td>0.0</td>\n      <td>0.0</td>\n      <td>...</td>\n      <td>0.0</td>\n      <td>0.0</td>\n      <td>0.0</td>\n      <td>0.0</td>\n      <td>0.0</td>\n      <td>0.0</td>\n      <td>0.0</td>\n      <td>0.0</td>\n      <td>0.0</td>\n      <td>0.0</td>\n    </tr>\n    <tr>\n      <th>000224053X</th>\n      <td>0.0</td>\n      <td>0.0</td>\n      <td>0.0</td>\n      <td>0.0</td>\n      <td>0.0</td>\n      <td>0.0</td>\n      <td>0.0</td>\n      <td>0.0</td>\n      <td>0.0</td>\n      <td>0.0</td>\n      <td>...</td>\n      <td>0.0</td>\n      <td>0.0</td>\n      <td>0.0</td>\n      <td>0.0</td>\n      <td>1.0</td>\n      <td>0.0</td>\n      <td>0.0</td>\n      <td>0.0</td>\n      <td>0.0</td>\n      <td>0.0</td>\n    </tr>\n    <tr>\n      <th>0002241749</th>\n      <td>0.0</td>\n      <td>0.0</td>\n      <td>0.0</td>\n      <td>0.0</td>\n      <td>0.0</td>\n      <td>0.0</td>\n      <td>0.0</td>\n      <td>0.0</td>\n      <td>0.0</td>\n      <td>0.0</td>\n      <td>...</td>\n      <td>0.0</td>\n      <td>0.0</td>\n      <td>0.0</td>\n      <td>0.0</td>\n      <td>0.0</td>\n      <td>0.0</td>\n      <td>0.0</td>\n      <td>0.0</td>\n      <td>0.0</td>\n      <td>0.0</td>\n    </tr>\n    <tr>\n      <th>0002242052</th>\n      <td>0.0</td>\n      <td>0.0</td>\n      <td>0.0</td>\n      <td>0.0</td>\n      <td>0.0</td>\n      <td>0.0</td>\n      <td>0.0</td>\n      <td>0.0</td>\n      <td>0.0</td>\n      <td>0.0</td>\n      <td>...</td>\n      <td>0.0</td>\n      <td>0.0</td>\n      <td>0.0</td>\n      <td>0.0</td>\n      <td>0.0</td>\n      <td>0.0</td>\n      <td>0.0</td>\n      <td>0.0</td>\n      <td>0.0</td>\n      <td>0.0</td>\n    </tr>\n  </tbody>\n</table>\n<p>524 rows × 524 columns</p>\n</div>"
     },
     "execution_count": 89,
     "metadata": {},
     "output_type": "execute_result"
    }
   ],
   "source": [
    "re.similarityMatrix(users=False)"
   ],
   "metadata": {
    "collapsed": false,
    "ExecuteTime": {
     "start_time": "2023-04-24T23:10:33.055936Z",
     "end_time": "2023-04-24T23:10:57.652943Z"
    },
    "pycharm": {
     "name": "#%%\n"
    }
   }
  },
  {
   "cell_type": "code",
   "execution_count": 90,
   "outputs": [
    {
     "data": {
      "text/plain": "                AH2L9G3DQHHAJ  A2IIIDRK3PRRZY  A1TADCM7YWPQ8M  AWGH7V0BDOJKB   \nAH2L9G3DQHHAJ             0.0             1.0             0.0       0.000000  \\\nA2IIIDRK3PRRZY            1.0             0.0             0.0       0.000000   \nA1TADCM7YWPQ8M            0.0             0.0             0.0       0.000000   \nAWGH7V0BDOJKB             0.0             0.0             0.0       0.000000   \nA3UTQPQPM4TQO0            0.0             0.0             0.0       0.076923   \n...                       ...             ...             ...            ...   \nAWWK4ZVFQPC82             0.0             0.0             0.0       0.000000   \nA2FHD3ZCCIAJXE            0.0             0.0             0.0       0.000000   \nA2I5TMZEVW09B5            0.0             0.0             0.0       0.000000   \nA196S58LYV9FGG            0.0             0.0             0.0       0.000000   \nAUGABW5AS2OXM             0.0             0.0             0.0       0.000000   \n\n                A3UTQPQPM4TQO0  A8ZS0I5L5V31B  ACNGUPJ3A3TM9  A3BED5QFJWK88M   \nAH2L9G3DQHHAJ         0.000000       0.000000       0.000000        0.000000  \\\nA2IIIDRK3PRRZY        0.000000       0.000000       0.000000        0.000000   \nA1TADCM7YWPQ8M        0.000000       0.000000       0.000000        0.000000   \nAWGH7V0BDOJKB         0.076923       0.076923       0.076923        0.076923   \nA3UTQPQPM4TQO0        0.000000       0.076923       0.076923        0.076923   \n...                        ...            ...            ...             ...   \nAWWK4ZVFQPC82         0.000000       0.000000       0.000000        0.000000   \nA2FHD3ZCCIAJXE        0.000000       0.000000       0.000000        0.000000   \nA2I5TMZEVW09B5        0.000000       0.000000       0.000000        0.000000   \nA196S58LYV9FGG        0.000000       0.000000       0.000000        0.000000   \nAUGABW5AS2OXM         0.000000       0.000000       0.000000        0.000000   \n\n                A2SUAM1J3GNN3B  APOZ15IEYQRRR  ...  A3F4BMI23JDRGG   \nAH2L9G3DQHHAJ         0.000000       0.000000  ...         0.00000  \\\nA2IIIDRK3PRRZY        0.000000       0.000000  ...         0.00000   \nA1TADCM7YWPQ8M        0.000000       0.000000  ...         0.00000   \nAWGH7V0BDOJKB         0.076923       0.076923  ...         0.00000   \nA3UTQPQPM4TQO0        0.076923       0.076923  ...         0.00000   \n...                        ...            ...  ...             ...   \nAWWK4ZVFQPC82         0.000000       0.000000  ...         0.00277   \nA2FHD3ZCCIAJXE        0.000000       0.000000  ...         0.00277   \nA2I5TMZEVW09B5        0.000000       0.000000  ...         0.00277   \nA196S58LYV9FGG        0.000000       0.000000  ...         0.00277   \nAUGABW5AS2OXM         0.000000       0.000000  ...         0.00277   \n\n                AN8801IA2DQ40  A125ADBW85S3VA  A1Z2EROI0F5IZ9  A2LU9A6D53WU3R   \nAH2L9G3DQHHAJ         0.00000         0.00000         0.00000         0.00000  \\\nA2IIIDRK3PRRZY        0.00000         0.00000         0.00000         0.00000   \nA1TADCM7YWPQ8M        0.00000         0.00000         0.00000         0.00000   \nAWGH7V0BDOJKB         0.00000         0.00000         0.00000         0.00000   \nA3UTQPQPM4TQO0        0.00000         0.00000         0.00000         0.00000   \n...                       ...             ...             ...             ...   \nAWWK4ZVFQPC82         0.00277         0.00277         0.00277         0.00277   \nA2FHD3ZCCIAJXE        0.00277         0.00277         0.00277         0.00277   \nA2I5TMZEVW09B5        0.00277         0.00277         0.00277         0.00277   \nA196S58LYV9FGG        0.00277         0.00277         0.00277         0.00277   \nAUGABW5AS2OXM         0.00277         0.00277         0.00277         0.00277   \n\n                AWWK4ZVFQPC82  A2FHD3ZCCIAJXE  A2I5TMZEVW09B5  A196S58LYV9FGG   \nAH2L9G3DQHHAJ         0.00000         0.00000         0.00000         0.00000  \\\nA2IIIDRK3PRRZY        0.00000         0.00000         0.00000         0.00000   \nA1TADCM7YWPQ8M        0.00000         0.00000         0.00000         0.00000   \nAWGH7V0BDOJKB         0.00000         0.00000         0.00000         0.00000   \nA3UTQPQPM4TQO0        0.00000         0.00000         0.00000         0.00000   \n...                       ...             ...             ...             ...   \nAWWK4ZVFQPC82         0.00000         0.00277         0.00277         0.00277   \nA2FHD3ZCCIAJXE        0.00277         0.00000         0.00277         0.00277   \nA2I5TMZEVW09B5        0.00277         0.00277         0.00000         0.00277   \nA196S58LYV9FGG        0.00277         0.00277         0.00277         0.00000   \nAUGABW5AS2OXM         0.00277         0.00277         0.00277         0.00277   \n\n                AUGABW5AS2OXM  \nAH2L9G3DQHHAJ         0.00000  \nA2IIIDRK3PRRZY        0.00000  \nA1TADCM7YWPQ8M        0.00000  \nAWGH7V0BDOJKB         0.00000  \nA3UTQPQPM4TQO0        0.00000  \n...                       ...  \nAWWK4ZVFQPC82         0.00277  \nA2FHD3ZCCIAJXE        0.00277  \nA2I5TMZEVW09B5        0.00277  \nA196S58LYV9FGG        0.00277  \nAUGABW5AS2OXM         0.00000  \n\n[9815 rows x 9815 columns]",
      "text/html": "<div>\n<style scoped>\n    .dataframe tbody tr th:only-of-type {\n        vertical-align: middle;\n    }\n\n    .dataframe tbody tr th {\n        vertical-align: top;\n    }\n\n    .dataframe thead th {\n        text-align: right;\n    }\n</style>\n<table border=\"1\" class=\"dataframe\">\n  <thead>\n    <tr style=\"text-align: right;\">\n      <th></th>\n      <th>AH2L9G3DQHHAJ</th>\n      <th>A2IIIDRK3PRRZY</th>\n      <th>A1TADCM7YWPQ8M</th>\n      <th>AWGH7V0BDOJKB</th>\n      <th>A3UTQPQPM4TQO0</th>\n      <th>A8ZS0I5L5V31B</th>\n      <th>ACNGUPJ3A3TM9</th>\n      <th>A3BED5QFJWK88M</th>\n      <th>A2SUAM1J3GNN3B</th>\n      <th>APOZ15IEYQRRR</th>\n      <th>...</th>\n      <th>A3F4BMI23JDRGG</th>\n      <th>AN8801IA2DQ40</th>\n      <th>A125ADBW85S3VA</th>\n      <th>A1Z2EROI0F5IZ9</th>\n      <th>A2LU9A6D53WU3R</th>\n      <th>AWWK4ZVFQPC82</th>\n      <th>A2FHD3ZCCIAJXE</th>\n      <th>A2I5TMZEVW09B5</th>\n      <th>A196S58LYV9FGG</th>\n      <th>AUGABW5AS2OXM</th>\n    </tr>\n  </thead>\n  <tbody>\n    <tr>\n      <th>AH2L9G3DQHHAJ</th>\n      <td>0.0</td>\n      <td>1.0</td>\n      <td>0.0</td>\n      <td>0.000000</td>\n      <td>0.000000</td>\n      <td>0.000000</td>\n      <td>0.000000</td>\n      <td>0.000000</td>\n      <td>0.000000</td>\n      <td>0.000000</td>\n      <td>...</td>\n      <td>0.00000</td>\n      <td>0.00000</td>\n      <td>0.00000</td>\n      <td>0.00000</td>\n      <td>0.00000</td>\n      <td>0.00000</td>\n      <td>0.00000</td>\n      <td>0.00000</td>\n      <td>0.00000</td>\n      <td>0.00000</td>\n    </tr>\n    <tr>\n      <th>A2IIIDRK3PRRZY</th>\n      <td>1.0</td>\n      <td>0.0</td>\n      <td>0.0</td>\n      <td>0.000000</td>\n      <td>0.000000</td>\n      <td>0.000000</td>\n      <td>0.000000</td>\n      <td>0.000000</td>\n      <td>0.000000</td>\n      <td>0.000000</td>\n      <td>...</td>\n      <td>0.00000</td>\n      <td>0.00000</td>\n      <td>0.00000</td>\n      <td>0.00000</td>\n      <td>0.00000</td>\n      <td>0.00000</td>\n      <td>0.00000</td>\n      <td>0.00000</td>\n      <td>0.00000</td>\n      <td>0.00000</td>\n    </tr>\n    <tr>\n      <th>A1TADCM7YWPQ8M</th>\n      <td>0.0</td>\n      <td>0.0</td>\n      <td>0.0</td>\n      <td>0.000000</td>\n      <td>0.000000</td>\n      <td>0.000000</td>\n      <td>0.000000</td>\n      <td>0.000000</td>\n      <td>0.000000</td>\n      <td>0.000000</td>\n      <td>...</td>\n      <td>0.00000</td>\n      <td>0.00000</td>\n      <td>0.00000</td>\n      <td>0.00000</td>\n      <td>0.00000</td>\n      <td>0.00000</td>\n      <td>0.00000</td>\n      <td>0.00000</td>\n      <td>0.00000</td>\n      <td>0.00000</td>\n    </tr>\n    <tr>\n      <th>AWGH7V0BDOJKB</th>\n      <td>0.0</td>\n      <td>0.0</td>\n      <td>0.0</td>\n      <td>0.000000</td>\n      <td>0.076923</td>\n      <td>0.076923</td>\n      <td>0.076923</td>\n      <td>0.076923</td>\n      <td>0.076923</td>\n      <td>0.076923</td>\n      <td>...</td>\n      <td>0.00000</td>\n      <td>0.00000</td>\n      <td>0.00000</td>\n      <td>0.00000</td>\n      <td>0.00000</td>\n      <td>0.00000</td>\n      <td>0.00000</td>\n      <td>0.00000</td>\n      <td>0.00000</td>\n      <td>0.00000</td>\n    </tr>\n    <tr>\n      <th>A3UTQPQPM4TQO0</th>\n      <td>0.0</td>\n      <td>0.0</td>\n      <td>0.0</td>\n      <td>0.076923</td>\n      <td>0.000000</td>\n      <td>0.076923</td>\n      <td>0.076923</td>\n      <td>0.076923</td>\n      <td>0.076923</td>\n      <td>0.076923</td>\n      <td>...</td>\n      <td>0.00000</td>\n      <td>0.00000</td>\n      <td>0.00000</td>\n      <td>0.00000</td>\n      <td>0.00000</td>\n      <td>0.00000</td>\n      <td>0.00000</td>\n      <td>0.00000</td>\n      <td>0.00000</td>\n      <td>0.00000</td>\n    </tr>\n    <tr>\n      <th>...</th>\n      <td>...</td>\n      <td>...</td>\n      <td>...</td>\n      <td>...</td>\n      <td>...</td>\n      <td>...</td>\n      <td>...</td>\n      <td>...</td>\n      <td>...</td>\n      <td>...</td>\n      <td>...</td>\n      <td>...</td>\n      <td>...</td>\n      <td>...</td>\n      <td>...</td>\n      <td>...</td>\n      <td>...</td>\n      <td>...</td>\n      <td>...</td>\n      <td>...</td>\n      <td>...</td>\n    </tr>\n    <tr>\n      <th>AWWK4ZVFQPC82</th>\n      <td>0.0</td>\n      <td>0.0</td>\n      <td>0.0</td>\n      <td>0.000000</td>\n      <td>0.000000</td>\n      <td>0.000000</td>\n      <td>0.000000</td>\n      <td>0.000000</td>\n      <td>0.000000</td>\n      <td>0.000000</td>\n      <td>...</td>\n      <td>0.00277</td>\n      <td>0.00277</td>\n      <td>0.00277</td>\n      <td>0.00277</td>\n      <td>0.00277</td>\n      <td>0.00000</td>\n      <td>0.00277</td>\n      <td>0.00277</td>\n      <td>0.00277</td>\n      <td>0.00277</td>\n    </tr>\n    <tr>\n      <th>A2FHD3ZCCIAJXE</th>\n      <td>0.0</td>\n      <td>0.0</td>\n      <td>0.0</td>\n      <td>0.000000</td>\n      <td>0.000000</td>\n      <td>0.000000</td>\n      <td>0.000000</td>\n      <td>0.000000</td>\n      <td>0.000000</td>\n      <td>0.000000</td>\n      <td>...</td>\n      <td>0.00277</td>\n      <td>0.00277</td>\n      <td>0.00277</td>\n      <td>0.00277</td>\n      <td>0.00277</td>\n      <td>0.00277</td>\n      <td>0.00000</td>\n      <td>0.00277</td>\n      <td>0.00277</td>\n      <td>0.00277</td>\n    </tr>\n    <tr>\n      <th>A2I5TMZEVW09B5</th>\n      <td>0.0</td>\n      <td>0.0</td>\n      <td>0.0</td>\n      <td>0.000000</td>\n      <td>0.000000</td>\n      <td>0.000000</td>\n      <td>0.000000</td>\n      <td>0.000000</td>\n      <td>0.000000</td>\n      <td>0.000000</td>\n      <td>...</td>\n      <td>0.00277</td>\n      <td>0.00277</td>\n      <td>0.00277</td>\n      <td>0.00277</td>\n      <td>0.00277</td>\n      <td>0.00277</td>\n      <td>0.00277</td>\n      <td>0.00000</td>\n      <td>0.00277</td>\n      <td>0.00277</td>\n    </tr>\n    <tr>\n      <th>A196S58LYV9FGG</th>\n      <td>0.0</td>\n      <td>0.0</td>\n      <td>0.0</td>\n      <td>0.000000</td>\n      <td>0.000000</td>\n      <td>0.000000</td>\n      <td>0.000000</td>\n      <td>0.000000</td>\n      <td>0.000000</td>\n      <td>0.000000</td>\n      <td>...</td>\n      <td>0.00277</td>\n      <td>0.00277</td>\n      <td>0.00277</td>\n      <td>0.00277</td>\n      <td>0.00277</td>\n      <td>0.00277</td>\n      <td>0.00277</td>\n      <td>0.00277</td>\n      <td>0.00000</td>\n      <td>0.00277</td>\n    </tr>\n    <tr>\n      <th>AUGABW5AS2OXM</th>\n      <td>0.0</td>\n      <td>0.0</td>\n      <td>0.0</td>\n      <td>0.000000</td>\n      <td>0.000000</td>\n      <td>0.000000</td>\n      <td>0.000000</td>\n      <td>0.000000</td>\n      <td>0.000000</td>\n      <td>0.000000</td>\n      <td>...</td>\n      <td>0.00277</td>\n      <td>0.00277</td>\n      <td>0.00277</td>\n      <td>0.00277</td>\n      <td>0.00277</td>\n      <td>0.00277</td>\n      <td>0.00277</td>\n      <td>0.00277</td>\n      <td>0.00277</td>\n      <td>0.00000</td>\n    </tr>\n  </tbody>\n</table>\n<p>9815 rows × 9815 columns</p>\n</div>"
     },
     "execution_count": 90,
     "metadata": {},
     "output_type": "execute_result"
    }
   ],
   "source": [
    "re.similarityMatrixCosine(users=True)"
   ],
   "metadata": {
    "collapsed": false,
    "ExecuteTime": {
     "start_time": "2023-04-24T23:10:57.650949Z",
     "end_time": "2023-04-24T23:11:24.412279Z"
    },
    "pycharm": {
     "name": "#%%\n"
    }
   }
  },
  {
   "cell_type": "code",
   "execution_count": 91,
   "outputs": [
    {
     "data": {
      "text/plain": "            0000000116  0000000868  0000013714  0000015393  0000029831   \n0000000116         0.0         0.0         0.0         0.0         0.0  \\\n0000000868         0.0         0.0         0.0         0.0         0.0   \n0000013714         0.0         0.0         0.0         0.0         0.0   \n0000015393         0.0         0.0         0.0         0.0         0.0   \n0000029831         0.0         0.0         0.0         0.0         0.0   \n...                ...         ...         ...         ...         ...   \n0002240017         0.0         0.0         0.0         0.0         0.0   \n0002240432         0.0         0.0         0.0         0.0         0.0   \n000224053X         0.0         0.0         0.0         0.0         0.0   \n0002241749         0.0         0.0         0.0         0.0         0.0   \n0002242052         0.0         0.0         0.0         0.0         0.0   \n\n            0000038504  0000041696  0000095699  0000174076  0000202010  ...   \n0000000116         0.0         0.0         0.0         0.0         0.0  ...  \\\n0000000868         0.0         0.0         0.0         0.0         0.0  ...   \n0000013714         0.0         0.0         0.0         0.0         0.0  ...   \n0000015393         0.0         0.0         0.0         0.0         0.0  ...   \n0000029831         0.0         0.0         0.0         0.0         0.0  ...   \n...                ...         ...         ...         ...         ...  ...   \n0002240017         0.0         0.0         0.0         0.0         0.0  ...   \n0002240432         0.0         0.0         0.0         0.0         0.0  ...   \n000224053X         0.0         0.0         0.0         0.0         0.0  ...   \n0002241749         0.0         0.0         0.0         0.0         0.0  ...   \n0002242052         0.0         0.0         0.0         0.0         0.0  ...   \n\n            0002238934  0002239221  0002239418  0002239426  0002239833   \n0000000116         0.0         0.0         0.0         0.0    0.000000  \\\n0000000868         0.0         0.0         0.0         0.0    0.000000   \n0000013714         0.0         0.0         0.0         0.0    0.000000   \n0000015393         0.0         0.0         0.0         0.0    0.000000   \n0000029831         0.0         0.0         0.0         0.0    0.000000   \n...                ...         ...         ...         ...         ...   \n0002240017         0.0         0.0         0.0         0.0    0.000000   \n0002240432         0.0         0.0         0.0         0.0    0.000000   \n000224053X         0.0         0.0         0.0         0.0    0.103142   \n0002241749         0.0         0.0         0.0         0.0    0.000000   \n0002242052         0.0         0.0         0.0         0.0    0.000000   \n\n            0002240017  0002240432  000224053X  0002241749  0002242052  \n0000000116         0.0         0.0         0.0         0.0         0.0  \n0000000868         0.0         0.0         0.0         0.0         0.0  \n0000013714         0.0         0.0         0.0         0.0         0.0  \n0000015393         0.0         0.0         0.0         0.0         0.0  \n0000029831         0.0         0.0         0.0         0.0         0.0  \n...                ...         ...         ...         ...         ...  \n0002240017         0.0         0.0         0.0         0.0         0.0  \n0002240432         0.0         0.0         0.0         0.0         0.0  \n000224053X         0.0         0.0         0.0         0.0         0.0  \n0002241749         0.0         0.0         0.0         0.0         0.0  \n0002242052         0.0         0.0         0.0         0.0         0.0  \n\n[524 rows x 524 columns]",
      "text/html": "<div>\n<style scoped>\n    .dataframe tbody tr th:only-of-type {\n        vertical-align: middle;\n    }\n\n    .dataframe tbody tr th {\n        vertical-align: top;\n    }\n\n    .dataframe thead th {\n        text-align: right;\n    }\n</style>\n<table border=\"1\" class=\"dataframe\">\n  <thead>\n    <tr style=\"text-align: right;\">\n      <th></th>\n      <th>0000000116</th>\n      <th>0000000868</th>\n      <th>0000013714</th>\n      <th>0000015393</th>\n      <th>0000029831</th>\n      <th>0000038504</th>\n      <th>0000041696</th>\n      <th>0000095699</th>\n      <th>0000174076</th>\n      <th>0000202010</th>\n      <th>...</th>\n      <th>0002238934</th>\n      <th>0002239221</th>\n      <th>0002239418</th>\n      <th>0002239426</th>\n      <th>0002239833</th>\n      <th>0002240017</th>\n      <th>0002240432</th>\n      <th>000224053X</th>\n      <th>0002241749</th>\n      <th>0002242052</th>\n    </tr>\n  </thead>\n  <tbody>\n    <tr>\n      <th>0000000116</th>\n      <td>0.0</td>\n      <td>0.0</td>\n      <td>0.0</td>\n      <td>0.0</td>\n      <td>0.0</td>\n      <td>0.0</td>\n      <td>0.0</td>\n      <td>0.0</td>\n      <td>0.0</td>\n      <td>0.0</td>\n      <td>...</td>\n      <td>0.0</td>\n      <td>0.0</td>\n      <td>0.0</td>\n      <td>0.0</td>\n      <td>0.000000</td>\n      <td>0.0</td>\n      <td>0.0</td>\n      <td>0.0</td>\n      <td>0.0</td>\n      <td>0.0</td>\n    </tr>\n    <tr>\n      <th>0000000868</th>\n      <td>0.0</td>\n      <td>0.0</td>\n      <td>0.0</td>\n      <td>0.0</td>\n      <td>0.0</td>\n      <td>0.0</td>\n      <td>0.0</td>\n      <td>0.0</td>\n      <td>0.0</td>\n      <td>0.0</td>\n      <td>...</td>\n      <td>0.0</td>\n      <td>0.0</td>\n      <td>0.0</td>\n      <td>0.0</td>\n      <td>0.000000</td>\n      <td>0.0</td>\n      <td>0.0</td>\n      <td>0.0</td>\n      <td>0.0</td>\n      <td>0.0</td>\n    </tr>\n    <tr>\n      <th>0000013714</th>\n      <td>0.0</td>\n      <td>0.0</td>\n      <td>0.0</td>\n      <td>0.0</td>\n      <td>0.0</td>\n      <td>0.0</td>\n      <td>0.0</td>\n      <td>0.0</td>\n      <td>0.0</td>\n      <td>0.0</td>\n      <td>...</td>\n      <td>0.0</td>\n      <td>0.0</td>\n      <td>0.0</td>\n      <td>0.0</td>\n      <td>0.000000</td>\n      <td>0.0</td>\n      <td>0.0</td>\n      <td>0.0</td>\n      <td>0.0</td>\n      <td>0.0</td>\n    </tr>\n    <tr>\n      <th>0000015393</th>\n      <td>0.0</td>\n      <td>0.0</td>\n      <td>0.0</td>\n      <td>0.0</td>\n      <td>0.0</td>\n      <td>0.0</td>\n      <td>0.0</td>\n      <td>0.0</td>\n      <td>0.0</td>\n      <td>0.0</td>\n      <td>...</td>\n      <td>0.0</td>\n      <td>0.0</td>\n      <td>0.0</td>\n      <td>0.0</td>\n      <td>0.000000</td>\n      <td>0.0</td>\n      <td>0.0</td>\n      <td>0.0</td>\n      <td>0.0</td>\n      <td>0.0</td>\n    </tr>\n    <tr>\n      <th>0000029831</th>\n      <td>0.0</td>\n      <td>0.0</td>\n      <td>0.0</td>\n      <td>0.0</td>\n      <td>0.0</td>\n      <td>0.0</td>\n      <td>0.0</td>\n      <td>0.0</td>\n      <td>0.0</td>\n      <td>0.0</td>\n      <td>...</td>\n      <td>0.0</td>\n      <td>0.0</td>\n      <td>0.0</td>\n      <td>0.0</td>\n      <td>0.000000</td>\n      <td>0.0</td>\n      <td>0.0</td>\n      <td>0.0</td>\n      <td>0.0</td>\n      <td>0.0</td>\n    </tr>\n    <tr>\n      <th>...</th>\n      <td>...</td>\n      <td>...</td>\n      <td>...</td>\n      <td>...</td>\n      <td>...</td>\n      <td>...</td>\n      <td>...</td>\n      <td>...</td>\n      <td>...</td>\n      <td>...</td>\n      <td>...</td>\n      <td>...</td>\n      <td>...</td>\n      <td>...</td>\n      <td>...</td>\n      <td>...</td>\n      <td>...</td>\n      <td>...</td>\n      <td>...</td>\n      <td>...</td>\n      <td>...</td>\n    </tr>\n    <tr>\n      <th>0002240017</th>\n      <td>0.0</td>\n      <td>0.0</td>\n      <td>0.0</td>\n      <td>0.0</td>\n      <td>0.0</td>\n      <td>0.0</td>\n      <td>0.0</td>\n      <td>0.0</td>\n      <td>0.0</td>\n      <td>0.0</td>\n      <td>...</td>\n      <td>0.0</td>\n      <td>0.0</td>\n      <td>0.0</td>\n      <td>0.0</td>\n      <td>0.000000</td>\n      <td>0.0</td>\n      <td>0.0</td>\n      <td>0.0</td>\n      <td>0.0</td>\n      <td>0.0</td>\n    </tr>\n    <tr>\n      <th>0002240432</th>\n      <td>0.0</td>\n      <td>0.0</td>\n      <td>0.0</td>\n      <td>0.0</td>\n      <td>0.0</td>\n      <td>0.0</td>\n      <td>0.0</td>\n      <td>0.0</td>\n      <td>0.0</td>\n      <td>0.0</td>\n      <td>...</td>\n      <td>0.0</td>\n      <td>0.0</td>\n      <td>0.0</td>\n      <td>0.0</td>\n      <td>0.000000</td>\n      <td>0.0</td>\n      <td>0.0</td>\n      <td>0.0</td>\n      <td>0.0</td>\n      <td>0.0</td>\n    </tr>\n    <tr>\n      <th>000224053X</th>\n      <td>0.0</td>\n      <td>0.0</td>\n      <td>0.0</td>\n      <td>0.0</td>\n      <td>0.0</td>\n      <td>0.0</td>\n      <td>0.0</td>\n      <td>0.0</td>\n      <td>0.0</td>\n      <td>0.0</td>\n      <td>...</td>\n      <td>0.0</td>\n      <td>0.0</td>\n      <td>0.0</td>\n      <td>0.0</td>\n      <td>0.103142</td>\n      <td>0.0</td>\n      <td>0.0</td>\n      <td>0.0</td>\n      <td>0.0</td>\n      <td>0.0</td>\n    </tr>\n    <tr>\n      <th>0002241749</th>\n      <td>0.0</td>\n      <td>0.0</td>\n      <td>0.0</td>\n      <td>0.0</td>\n      <td>0.0</td>\n      <td>0.0</td>\n      <td>0.0</td>\n      <td>0.0</td>\n      <td>0.0</td>\n      <td>0.0</td>\n      <td>...</td>\n      <td>0.0</td>\n      <td>0.0</td>\n      <td>0.0</td>\n      <td>0.0</td>\n      <td>0.000000</td>\n      <td>0.0</td>\n      <td>0.0</td>\n      <td>0.0</td>\n      <td>0.0</td>\n      <td>0.0</td>\n    </tr>\n    <tr>\n      <th>0002242052</th>\n      <td>0.0</td>\n      <td>0.0</td>\n      <td>0.0</td>\n      <td>0.0</td>\n      <td>0.0</td>\n      <td>0.0</td>\n      <td>0.0</td>\n      <td>0.0</td>\n      <td>0.0</td>\n      <td>0.0</td>\n      <td>...</td>\n      <td>0.0</td>\n      <td>0.0</td>\n      <td>0.0</td>\n      <td>0.0</td>\n      <td>0.000000</td>\n      <td>0.0</td>\n      <td>0.0</td>\n      <td>0.0</td>\n      <td>0.0</td>\n      <td>0.0</td>\n    </tr>\n  </tbody>\n</table>\n<p>524 rows × 524 columns</p>\n</div>"
     },
     "execution_count": 91,
     "metadata": {},
     "output_type": "execute_result"
    }
   ],
   "source": [
    "re.similarityMatrixCosine(users=False)"
   ],
   "metadata": {
    "collapsed": false,
    "ExecuteTime": {
     "start_time": "2023-04-24T23:11:24.411277Z",
     "end_time": "2023-04-24T23:11:49.985743Z"
    },
    "pycharm": {
     "name": "#%%\n"
    }
   }
  },
  {
   "cell_type": "code",
   "execution_count": 91,
   "outputs": [],
   "source": [],
   "metadata": {
    "collapsed": false,
    "ExecuteTime": {
     "start_time": "2023-04-24T23:11:49.983658Z",
     "end_time": "2023-04-24T23:11:49.988833Z"
    },
    "pycharm": {
     "name": "#%%\n"
    }
   }
  }
 ],
 "metadata": {
  "kernelspec": {
   "display_name": "Python 3",
   "language": "python",
   "name": "python3"
  },
  "language_info": {
   "codemirror_mode": {
    "name": "ipython",
    "version": 2
   },
   "file_extension": ".py",
   "mimetype": "text/x-python",
   "name": "python",
   "nbconvert_exporter": "python",
   "pygments_lexer": "ipython2",
   "version": "2.7.6"
  }
 },
 "nbformat": 4,
 "nbformat_minor": 0
}